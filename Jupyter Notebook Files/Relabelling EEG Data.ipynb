{
 "cells": [
  {
   "cell_type": "code",
   "execution_count": 51,
   "metadata": {},
   "outputs": [],
   "source": [
    "import pandas as pd\n",
    "import numpy as np \n",
    "import seaborn as sns\n",
    "import matplotlib.pyplot as plt"
   ]
  },
  {
   "cell_type": "code",
   "execution_count": 52,
   "metadata": {},
   "outputs": [],
   "source": [
    "%store -r subjects\n",
    "%store -r eeg_final\n",
    "%store -r stimulus\n",
    "%store -r master_df"
   ]
  },
  {
   "cell_type": "code",
   "execution_count": 53,
   "metadata": {
    "scrolled": false
   },
   "outputs": [
    {
     "data": {
      "text/plain": [
       "Index(['Unnamed: 0', 'id', 'indra_time', 'browser_latency', 'reading_time',\n",
       "       'attention_esense', 'meditation_esense', 'eeg_power', 'raw_values',\n",
       "       'signal_quality', 'createdAt', 'updatedAt', 'label', 'delta', 'theta',\n",
       "       'low_alpha', 'high_alpha', 'low_beta', 'high_beta', 'low_gamma',\n",
       "       'mid+gamma', 'Session', 'Seen video before?', 'Chosen color',\n",
       "       'Saw icons?', 'Gender', 'Wear contacts'],\n",
       "      dtype='object')"
      ]
     },
     "execution_count": 53,
     "metadata": {},
     "output_type": "execute_result"
    }
   ],
   "source": [
    "master_df.columns"
   ]
  },
  {
   "cell_type": "markdown",
   "metadata": {},
   "source": [
    "# Relabel everything into Broader categories"
   ]
  },
  {
   "cell_type": "code",
   "execution_count": 54,
   "metadata": {},
   "outputs": [],
   "source": [
    "math_labels = ['math1','math2','math3','math4','math5','math6','math7',\n",
    "               'math8','math9','math10','math11','math12']\n",
    "colour_labels = ['colorRound1-1', 'colorRound1-2', 'colorRound1-3', 'colorRound1-4',\n",
    "       'colorRound1-5', 'colorRound1-6', 'colorRound2-1',\n",
    "       'colorRound2-2', 'colorRound2-3', 'colorRound2-4', 'colorRound2-5',\n",
    "       'colorRound2-6', 'readyRound3', 'colorRound3-1', 'colorRound3-2',\n",
    "       'colorRound3-3', 'colorRound3-4', 'colorRound3-5', 'colorRound3-6', 'colorRound4-1', 'colorRound4-2', 'colorRound4-3',\n",
    "       'colorRound4-4', 'colorRound4-5', 'colorRound4-6',\n",
    "       'colorRound5-1', 'colorRound5-2', 'colorRound5-3', 'colorRound5-4',\n",
    "       'colorRound5-5', 'colorRound5-6']\n",
    "blink_labels = ['blink1', 'blink2', 'blink3','blink4', 'blink5']\n",
    "video_labels = ['video-ver1','video-ver2']\n",
    "items_labels = ['thinkOfItems-ver1','thinkOfItems-ver2',]"
   ]
  },
  {
   "cell_type": "code",
   "execution_count": 55,
   "metadata": {},
   "outputs": [],
   "source": [
    "master_df.loc[master_df['label'].isin(math_labels), 'label'] = 'math'\n",
    "master_df.loc[master_df['label'].isin(colour_labels), 'label'] = 'colour'\n",
    "master_df.loc[master_df['label'].isin(blink_labels), 'label'] = 'blink'\n",
    "master_df.loc[master_df['label'].isin(video_labels), 'label'] = 'video'\n",
    "master_df.loc[master_df['label'].isin(items_labels), 'label'] = 'items'"
   ]
  },
  {
   "cell_type": "code",
   "execution_count": 56,
   "metadata": {},
   "outputs": [
    {
     "data": {
      "text/plain": [
       "array(['unlabeled', 'blinkInstruction', 'blink', 'relaxInstruction',\n",
       "       'relax', 'mathInstruction', 'math', 'musicInstruction', 'music',\n",
       "       'videoInstruction', 'video', 'thinkOfItemsInstruction-ver1',\n",
       "       'items', 'colorInstruction1', 'colorInstruction2', 'readyRound1',\n",
       "       'colour', 'readyRound2', 'readyRound4', 'readyRound5',\n",
       "       'thinkOfItemsInstruction-ver2'], dtype=object)"
      ]
     },
     "execution_count": 56,
     "metadata": {},
     "output_type": "execute_result"
    }
   ],
   "source": [
    "master_df.label.unique()"
   ]
  },
  {
   "cell_type": "code",
   "execution_count": 57,
   "metadata": {},
   "outputs": [],
   "source": [
    "useless_labels = ['unlabeled', 'blinkInstruction', 'relaxInstruction',\n",
    "        'mathInstruction', 'musicInstruction',\n",
    "       'videoInstruction', 'thinkOfItemsInstruction-ver1',\n",
    "        'colorInstruction1', 'colorInstruction2', 'readyRound1',\n",
    "        'readyRound2', 'readyRound4', 'readyRound5',\n",
    "       'thinkOfItemsInstruction-ver2']"
   ]
  },
  {
   "cell_type": "code",
   "execution_count": 58,
   "metadata": {},
   "outputs": [],
   "source": [
    "master_label_df = master_df[~master_df['label'].isin(useless_labels)] "
   ]
  },
  {
   "cell_type": "code",
   "execution_count": 59,
   "metadata": {},
   "outputs": [
    {
     "data": {
      "text/plain": [
       "array(['blink', 'relax', 'math', 'music', 'video', 'items', 'colour'],\n",
       "      dtype=object)"
      ]
     },
     "execution_count": 59,
     "metadata": {},
     "output_type": "execute_result"
    }
   ],
   "source": [
    "master_label_df.label.unique()\n",
    "# We have now numbered down our labels into broader \n",
    "# but hopefully more differentiated labels!!!"
   ]
  },
  {
   "cell_type": "code",
   "execution_count": 60,
   "metadata": {
    "scrolled": true
   },
   "outputs": [
    {
     "data": {
      "text/plain": [
       "Unnamed: 0            7406\n",
       "id                    7406\n",
       "indra_time            7406\n",
       "browser_latency       7406\n",
       "reading_time          7406\n",
       "attention_esense      7406\n",
       "meditation_esense     7406\n",
       "eeg_power             7406\n",
       "raw_values            7406\n",
       "signal_quality        7406\n",
       "createdAt             7406\n",
       "updatedAt             7406\n",
       "label                 7406\n",
       "delta                 7406\n",
       "theta                 7406\n",
       "low_alpha             7406\n",
       "high_alpha            7406\n",
       "low_beta              7406\n",
       "high_beta             7406\n",
       "low_gamma             7406\n",
       "mid+gamma             7406\n",
       "Session               7406\n",
       "Seen video before?    7406\n",
       "Chosen color          7406\n",
       "Saw icons?            7406\n",
       "Gender                7406\n",
       "Wear contacts         7406\n",
       "dtype: int64"
      ]
     },
     "execution_count": 60,
     "metadata": {},
     "output_type": "execute_result"
    }
   ],
   "source": [
    "master_label_df.count()\n",
    "# unfortunately our number of records has reduced quite a bit :\\"
   ]
  },
  {
   "cell_type": "code",
   "execution_count": 61,
   "metadata": {},
   "outputs": [
    {
     "name": "stdout",
     "output_type": "stream",
     "text": [
      "Stored 'master_label_df' (DataFrame)\n"
     ]
    }
   ],
   "source": [
    "%store master_label_df"
   ]
  },
  {
   "cell_type": "markdown",
   "metadata": {},
   "source": [
    "# Retry our KNN with new dataset"
   ]
  },
  {
   "cell_type": "code",
   "execution_count": 62,
   "metadata": {},
   "outputs": [],
   "source": [
    "from sklearn.model_selection import train_test_split"
   ]
  },
  {
   "cell_type": "code",
   "execution_count": 63,
   "metadata": {},
   "outputs": [],
   "source": [
    "features = master_label_df.drop(['Unnamed: 0', 'id', 'indra_time','reading_time', 'browser_latency', 'eeg_power', 'raw_values',\n",
    "       'signal_quality', 'createdAt', 'updatedAt', 'Session', 'Seen video before?', 'Chosen color',\n",
    "       'Saw icons?', 'Gender', 'Wear contacts','label'], axis = 1)\n",
    "X_train, X_test, y_train, y_test = train_test_split(features,master_label_df['label'],\n",
    "                                                    test_size=0.30)"
   ]
  },
  {
   "cell_type": "code",
   "execution_count": 64,
   "metadata": {},
   "outputs": [
    {
     "data": {
      "text/plain": [
       "Index(['attention_esense', 'meditation_esense', 'delta', 'theta', 'low_alpha',\n",
       "       'high_alpha', 'low_beta', 'high_beta', 'low_gamma', 'mid+gamma'],\n",
       "      dtype='object')"
      ]
     },
     "execution_count": 64,
     "metadata": {},
     "output_type": "execute_result"
    }
   ],
   "source": [
    "features.columns"
   ]
  },
  {
   "cell_type": "code",
   "execution_count": 65,
   "metadata": {},
   "outputs": [],
   "source": [
    "from sklearn.neighbors import KNeighborsClassifier"
   ]
  },
  {
   "cell_type": "code",
   "execution_count": 66,
   "metadata": {},
   "outputs": [
    {
     "data": {
      "text/plain": [
       "KNeighborsClassifier(algorithm='auto', leaf_size=30, metric='minkowski',\n",
       "                     metric_params=None, n_jobs=None, n_neighbors=5, p=2,\n",
       "                     weights='uniform')"
      ]
     },
     "execution_count": 66,
     "metadata": {},
     "output_type": "execute_result"
    }
   ],
   "source": [
    "knn = KNeighborsClassifier(n_neighbors = 5)\n",
    "knn.fit(X_train,y_train)"
   ]
  },
  {
   "cell_type": "code",
   "execution_count": 67,
   "metadata": {},
   "outputs": [],
   "source": [
    "pred = knn.predict(X_test)"
   ]
  },
  {
   "cell_type": "code",
   "execution_count": 68,
   "metadata": {},
   "outputs": [],
   "source": [
    "from sklearn.metrics import classification_report, confusion_matrix\n",
    "from sklearn.metrics import accuracy_score, precision_score, recall_score, f1_score\n",
    "from sklearn.metrics import roc_curve, auc"
   ]
  },
  {
   "cell_type": "code",
   "execution_count": 69,
   "metadata": {},
   "outputs": [
    {
     "name": "stdout",
     "output_type": "stream",
     "text": [
      "[[ 10  52   5   5   5   7   6]\n",
      " [ 32 458  46  56  35  50  62]\n",
      " [ 11 133  33  26  22  34  16]\n",
      " [ 14 126  28  38  13  30  18]\n",
      " [ 14 124  26  26  46  33  21]\n",
      " [  3 147  30  26  37  30  12]\n",
      " [  8 166  27  19  27  13  16]]\n"
     ]
    }
   ],
   "source": [
    "print(confusion_matrix(y_test,pred))"
   ]
  },
  {
   "cell_type": "code",
   "execution_count": 70,
   "metadata": {
    "scrolled": true
   },
   "outputs": [
    {
     "name": "stdout",
     "output_type": "stream",
     "text": [
      "              precision    recall  f1-score   support\n",
      "\n",
      "       blink       0.11      0.11      0.11        90\n",
      "      colour       0.38      0.62      0.47       739\n",
      "       items       0.17      0.12      0.14       275\n",
      "        math       0.19      0.14      0.16       267\n",
      "       music       0.25      0.16      0.19       290\n",
      "       relax       0.15      0.11      0.12       285\n",
      "       video       0.11      0.06      0.07       276\n",
      "\n",
      "    accuracy                           0.28      2222\n",
      "   macro avg       0.19      0.19      0.18      2222\n",
      "weighted avg       0.24      0.28      0.25      2222\n",
      "\n"
     ]
    }
   ],
   "source": [
    "print(classification_report(y_test,pred))\n",
    "\n",
    "#Well that was horrible "
   ]
  },
  {
   "cell_type": "code",
   "execution_count": 71,
   "metadata": {},
   "outputs": [],
   "source": [
    "accText = 'KNN, Relabelled'"
   ]
  },
  {
   "cell_type": "code",
   "execution_count": 72,
   "metadata": {
    "scrolled": true
   },
   "outputs": [
    {
     "name": "stdout",
     "output_type": "stream",
     "text": [
      "  Accuracy: 28.40%\n",
      " Precision: 24.01%\n",
      "    Recall: 28.40%\n",
      "  F1 score: 24.87%\n"
     ]
    }
   ],
   "source": [
    "#calculate accuracy/precision/recall/f1\n",
    "\n",
    "# accuracy: (tp + tn) / (p + n)\n",
    "accuracy = (accuracy_score(y_test, pred)).astype('float64')\n",
    "print('{:>10}: {:0.2%}'.format('Accuracy',accuracy))\n",
    "# precision tp / (tp + fp)\n",
    "precision = (precision_score(y_test, pred, average = 'weighted')).astype('float64')\n",
    "print('{:>10}: {:0.2%}'.format('Precision',precision))\n",
    "# recall: tp / (tp + fn)\n",
    "recall = (recall_score(y_test, pred, average = 'weighted')).astype('float64')\n",
    "print('{:>10}: {:0.2%}'.format('Recall',recall))\n",
    "# f1: 2 tp / (2 tp + fp + fn)\n",
    "f1 = (f1_score(y_test, pred, average = 'weighted')).astype('float64')\n",
    "print('{:>10}: {:0.2%}'.format('F1 score',f1))\n",
    "\n",
    "#ROC curve\n",
    "false_positive_rate, true_positive_rate, thresholds = roc_curve(y_test, pred)\n",
    "roc_auc = (auc(false_positive_rate, true_positive_rate)).astype('float64')\n",
    "print('{:>10}: {:0.2%}'.format('ROC score',roc_auc))"
   ]
  },
  {
   "cell_type": "code",
   "execution_count": 73,
   "metadata": {},
   "outputs": [],
   "source": [
    "acc = pd.read_csv(\"accuracies.csv\", index_col=0)\n",
    "acc.at[accText, 'Accuracy'] = (accuracy)\n",
    "acc.at[accText, 'Precision'] = (precision)\n",
    "acc.at[accText, 'Recall'] = (recall)\n",
    "acc.at[accText, 'F1'] = (f1)\n",
    "# acc.at[accText, 'ROC'] = (roc_auc)\n",
    "acc.to_csv(\"accuracies.csv\")"
   ]
  },
  {
   "cell_type": "markdown",
   "metadata": {},
   "source": [
    "# Optimizing KNN"
   ]
  },
  {
   "cell_type": "code",
   "execution_count": 74,
   "metadata": {},
   "outputs": [],
   "source": [
    "error_rate = []\n",
    "\n",
    "# Will take some time\n",
    "for i in range(1,60):\n",
    "    \n",
    "    knn = KNeighborsClassifier(n_neighbors=i)\n",
    "    knn.fit(X_train,y_train)\n",
    "    pred_i = knn.predict(X_test)\n",
    "    error_rate.append(np.mean(pred_i != y_test))"
   ]
  },
  {
   "cell_type": "code",
   "execution_count": 75,
   "metadata": {},
   "outputs": [
    {
     "data": {
      "text/plain": [
       "Text(0, 0.5, 'Error Rate')"
      ]
     },
     "execution_count": 75,
     "metadata": {},
     "output_type": "execute_result"
    },
    {
     "data": {
      "image/png": "[encoded data removed]",
      "text/plain": [
       "<Figure size 720x432 with 1 Axes>"
      ]
     },
     "metadata": {
      "needs_background": "light"
     },
     "output_type": "display_data"
    }
   ],
   "source": [
    "plt.figure(figsize=(10,6))\n",
    "plt.plot(range(1,60),error_rate,color='blue', linestyle='dashed', marker='o',\n",
    "         markerfacecolor='red', markersize=10)\n",
    "plt.title('Error Rate vs. K Value')\n",
    "plt.xlabel('K')\n",
    "plt.ylabel('Error Rate')"
   ]
  },
  {
   "cell_type": "code",
   "execution_count": 76,
   "metadata": {
    "scrolled": true
   },
   "outputs": [
    {
     "name": "stdout",
     "output_type": "stream",
     "text": [
      "WITH K=40\n",
      "\n",
      "\n",
      "[[  0  87   2   1   0   0   0]\n",
      " [  0 696   9  19   9   5   1]\n",
      " [  0 214  17   9  18  15   2]\n",
      " [  0 211  11  27   7   6   5]\n",
      " [  0 218  13  15  21  19   4]\n",
      " [  0 224  10  15  13  20   3]\n",
      " [  0 230  11  10  16   4   5]]\n",
      "\n",
      "\n",
      "              precision    recall  f1-score   support\n",
      "\n",
      "       blink       0.00      0.00      0.00        90\n",
      "      colour       0.37      0.94      0.53       739\n",
      "       items       0.23      0.06      0.10       275\n",
      "        math       0.28      0.10      0.15       267\n",
      "       music       0.25      0.07      0.11       290\n",
      "       relax       0.29      0.07      0.11       285\n",
      "       video       0.25      0.02      0.03       276\n",
      "\n",
      "    accuracy                           0.35      2222\n",
      "   macro avg       0.24      0.18      0.15      2222\n",
      "weighted avg       0.29      0.35      0.24      2222\n",
      "\n"
     ]
    },
    {
     "name": "stderr",
     "output_type": "stream",
     "text": [
      "C:\\Users\\Seran\\anaconda3\\lib\\site-packages\\sklearn\\metrics\\_classification.py:1272: UndefinedMetricWarning: Precision and F-score are ill-defined and being set to 0.0 in labels with no predicted samples. Use `zero_division` parameter to control this behavior.\n",
      "  _warn_prf(average, modifier, msg_start, len(result))\n"
     ]
    }
   ],
   "source": [
    "#K = 15\n",
    "knn = KNeighborsClassifier(n_neighbors=40)\n",
    "\n",
    "knn.fit(X_train,y_train)\n",
    "pred = knn.predict(X_test)\n",
    "\n",
    "print('WITH K=40')\n",
    "print('\\n')\n",
    "print(confusion_matrix(y_test,pred))\n",
    "print('\\n')\n",
    "print(classification_report(y_test,pred))\n",
    "\n",
    "#little higher accuracy but still really bad "
   ]
  },
  {
   "cell_type": "code",
   "execution_count": 77,
   "metadata": {},
   "outputs": [
    {
     "name": "stdout",
     "output_type": "stream",
     "text": [
      "  Accuracy: 35.37%\n",
      " Precision: 28.66%\n",
      "    Recall: 35.37%\n",
      "  F1 score: 24.01%\n"
     ]
    },
    {
     "name": "stderr",
     "output_type": "stream",
     "text": [
      "C:\\Users\\Seran\\anaconda3\\lib\\site-packages\\sklearn\\metrics\\_classification.py:1272: UndefinedMetricWarning: Precision is ill-defined and being set to 0.0 in labels with no predicted samples. Use `zero_division` parameter to control this behavior.\n",
      "  _warn_prf(average, modifier, msg_start, len(result))\n"
     ]
    }
   ],
   "source": [
    "accText = 'KNN, Relabelled Optimized'\n",
    "\n",
    "#calculate accuracy/precision/recall/f1\n",
    "\n",
    "# accuracy: (tp + tn) / (p + n)\n",
    "accuracy = (accuracy_score(y_test, pred)).astype('float64')\n",
    "print('{:>10}: {:0.2%}'.format('Accuracy',accuracy))\n",
    "# precision tp / (tp + fp)\n",
    "precision = (precision_score(y_test, pred, average = 'weighted')).astype('float64')\n",
    "print('{:>10}: {:0.2%}'.format('Precision',precision))\n",
    "# recall: tp / (tp + fn)\n",
    "recall = (recall_score(y_test, pred, average = 'weighted')).astype('float64')\n",
    "print('{:>10}: {:0.2%}'.format('Recall',recall))\n",
    "# f1: 2 tp / (2 tp + fp + fn)\n",
    "f1 = (f1_score(y_test, pred, average = 'weighted')).astype('float64')\n",
    "print('{:>10}: {:0.2%}'.format('F1 score',f1))\n",
    "\n",
    "# # #ROC curve\n",
    "# false_positive_rate, true_positive_rate, thresholds = roc_curve(y_test, pred)\n",
    "# roc_auc = (auc(false_positive_rate, true_positive_rate)).astype('float64')\n",
    "# print('{:>10}: {:0.2%}'.format('ROC score',roc_auc))\n",
    "\n"
   ]
  },
  {
   "cell_type": "code",
   "execution_count": 78,
   "metadata": {},
   "outputs": [],
   "source": [
    "acc = pd.read_csv(\"accuracies.csv\", index_col=0)\n",
    "acc.at[accText, 'Accuracy'] = (accuracy)\n",
    "acc.at[accText, 'Precision'] = (precision)\n",
    "acc.at[accText, 'Recall'] = (recall)\n",
    "acc.at[accText, 'F1'] = (f1)\n",
    "# acc.at[accText, 'ROC'] = (roc_auc)\n",
    "acc.to_csv(\"accuracies.csv\")"
   ]
  },
  {
   "cell_type": "markdown",
   "metadata": {},
   "source": [
    "# Retry with Just Wavelengths"
   ]
  },
  {
   "cell_type": "code",
   "execution_count": 79,
   "metadata": {},
   "outputs": [],
   "source": [
    "features = master_label_df.drop(['Unnamed: 0', 'id', 'indra_time','reading_time', 'browser_latency', 'eeg_power', 'raw_values',\n",
    "       'signal_quality', 'createdAt', 'updatedAt', 'Session', 'Seen video before?', 'Chosen color',\n",
    "       'Saw icons?', 'Gender', 'Wear contacts','label','attention_esense','meditation_esense'], axis = 1)\n",
    "X_train, X_test, y_train, y_test = train_test_split(features,master_label_df['label'], test_size=0.30)"
   ]
  },
  {
   "cell_type": "code",
   "execution_count": 80,
   "metadata": {
    "scrolled": true
   },
   "outputs": [
    {
     "name": "stdout",
     "output_type": "stream",
     "text": [
      "              precision    recall  f1-score   support\n",
      "\n",
      "       blink       0.05      0.07      0.06        73\n",
      "      colour       0.40      0.67      0.50       762\n",
      "       items       0.16      0.12      0.14       271\n",
      "        math       0.20      0.15      0.17       265\n",
      "       music       0.16      0.11      0.13       267\n",
      "       relax       0.20      0.11      0.14       290\n",
      "       video       0.15      0.05      0.08       294\n",
      "\n",
      "    accuracy                           0.30      2222\n",
      "   macro avg       0.19      0.18      0.17      2222\n",
      "weighted avg       0.25      0.30      0.26      2222\n",
      "\n"
     ]
    }
   ],
   "source": [
    "knn = KNeighborsClassifier(n_neighbors = 5)\n",
    "knn.fit(X_train,y_train)\n",
    "pred = knn.predict(X_test)\n",
    "print(classification_report(y_test,pred))"
   ]
  },
  {
   "cell_type": "markdown",
   "metadata": {},
   "source": [
    "Even Worse"
   ]
  },
  {
   "cell_type": "code",
   "execution_count": 81,
   "metadata": {},
   "outputs": [
    {
     "name": "stdout",
     "output_type": "stream",
     "text": [
      "  Accuracy: 29.93%\n",
      " Precision: 24.81%\n",
      "    Recall: 29.93%\n",
      "  F1 score: 25.66%\n"
     ]
    }
   ],
   "source": [
    "accText = 'KNN, Relabelled Optimized, Only Wavelengths'\n",
    "\n",
    "#calculate accuracy/precision/recall/f1\n",
    "\n",
    "# accuracy: (tp + tn) / (p + n)\n",
    "accuracy = (accuracy_score(y_test, pred)).astype('float64')\n",
    "print('{:>10}: {:0.2%}'.format('Accuracy',accuracy))\n",
    "# precision tp / (tp + fp)\n",
    "precision = (precision_score(y_test, pred, average = 'weighted')).astype('float64')\n",
    "print('{:>10}: {:0.2%}'.format('Precision',precision))\n",
    "# recall: tp / (tp + fn)\n",
    "recall = (recall_score(y_test, pred, average = 'weighted')).astype('float64')\n",
    "print('{:>10}: {:0.2%}'.format('Recall',recall))\n",
    "# f1: 2 tp / (2 tp + fp + fn)\n",
    "f1 = (f1_score(y_test, pred, average = 'weighted')).astype('float64')\n",
    "print('{:>10}: {:0.2%}'.format('F1 score',f1))\n",
    "\n",
    "# # #ROC curve\n",
    "# false_positive_rate, true_positive_rate, thresholds = roc_curve(y_test, pred)\n",
    "# roc_auc = (auc(false_positive_rate, true_positive_rate)).astype('float64')\n",
    "# print('{:>10}: {:0.2%}'.format('ROC score',roc_auc))"
   ]
  },
  {
   "cell_type": "code",
   "execution_count": 82,
   "metadata": {},
   "outputs": [],
   "source": [
    "acc = pd.read_csv(\"accuracies.csv\", index_col=0)\n",
    "acc.at[accText, 'Accuracy'] = (accuracy)\n",
    "acc.at[accText, 'Precision'] = (precision)\n",
    "acc.at[accText, 'Recall'] = (recall)\n",
    "acc.at[accText, 'F1'] = (f1)\n",
    "# acc.at[accText, 'ROC'] = (roc_auc)\n",
    "acc.to_csv(\"accuracies.csv\")"
   ]
  },
  {
   "cell_type": "markdown",
   "metadata": {},
   "source": [
    "# Plot  Different Labels on Graph"
   ]
  },
  {
   "cell_type": "code",
   "execution_count": 83,
   "metadata": {},
   "outputs": [
    {
     "data": {
      "text/plain": [
       "Index(['Unnamed: 0', 'id', 'indra_time', 'browser_latency', 'reading_time',\n",
       "       'attention_esense', 'meditation_esense', 'eeg_power', 'raw_values',\n",
       "       'signal_quality', 'createdAt', 'updatedAt', 'label', 'delta', 'theta',\n",
       "       'low_alpha', 'high_alpha', 'low_beta', 'high_beta', 'low_gamma',\n",
       "       'mid+gamma', 'Session', 'Seen video before?', 'Chosen color',\n",
       "       'Saw icons?', 'Gender', 'Wear contacts'],\n",
       "      dtype='object')"
      ]
     },
     "execution_count": 83,
     "metadata": {},
     "output_type": "execute_result"
    }
   ],
   "source": [
    "#let's visualize the differences in the labels \n",
    "master_label_df.columns"
   ]
  },
  {
   "cell_type": "code",
   "execution_count": 84,
   "metadata": {},
   "outputs": [],
   "source": [
    "master_time = master_label_df.drop(['Unnamed: 0','reading_time', 'browser_latency', 'eeg_power', 'raw_values',\n",
    "       'signal_quality', 'createdAt', 'updatedAt', 'Session', 'Seen video before?', 'Chosen color',\n",
    "       'Saw icons?', 'Gender', 'Wear contacts'], axis = 1)"
   ]
  },
  {
   "cell_type": "code",
   "execution_count": 85,
   "metadata": {},
   "outputs": [
    {
     "data": {
      "text/plain": [
       "Index(['id', 'indra_time', 'attention_esense', 'meditation_esense', 'label',\n",
       "       'delta', 'theta', 'low_alpha', 'high_alpha', 'low_beta', 'high_beta',\n",
       "       'low_gamma', 'mid+gamma'],\n",
       "      dtype='object')"
      ]
     },
     "execution_count": 85,
     "metadata": {},
     "output_type": "execute_result"
    }
   ],
   "source": [
    "master_time.columns\n",
    "#we are going to plot each wave as a time seriesto look for visual differences"
   ]
  },
  {
   "cell_type": "code",
   "execution_count": 86,
   "metadata": {},
   "outputs": [
    {
     "data": {
      "text/html": [
       "<div>\n",
       "<style scoped>\n",
       "    .dataframe tbody tr th:only-of-type {\n",
       "        vertical-align: middle;\n",
       "    }\n",
       "\n",
       "    .dataframe tbody tr th {\n",
       "        vertical-align: top;\n",
       "    }\n",
       "\n",
       "    .dataframe thead th {\n",
       "        text-align: right;\n",
       "    }\n",
       "</style>\n",
       "<table border=\"1\" class=\"dataframe\">\n",
       "  <thead>\n",
       "    <tr style=\"text-align: right;\">\n",
       "      <th></th>\n",
       "      <th>id</th>\n",
       "      <th>indra_time</th>\n",
       "      <th>attention_esense</th>\n",
       "      <th>meditation_esense</th>\n",
       "      <th>label</th>\n",
       "      <th>delta</th>\n",
       "      <th>theta</th>\n",
       "      <th>low_alpha</th>\n",
       "      <th>high_alpha</th>\n",
       "      <th>low_beta</th>\n",
       "      <th>high_beta</th>\n",
       "      <th>low_gamma</th>\n",
       "      <th>mid+gamma</th>\n",
       "    </tr>\n",
       "  </thead>\n",
       "  <tbody>\n",
       "    <tr>\n",
       "      <th>677</th>\n",
       "      <td>8</td>\n",
       "      <td>2015-05-09 23:32:41.663</td>\n",
       "      <td>64</td>\n",
       "      <td>67</td>\n",
       "      <td>blink</td>\n",
       "      <td>741016.0</td>\n",
       "      <td>1068203.0</td>\n",
       "      <td>253428.0</td>\n",
       "      <td>112710.0</td>\n",
       "      <td>171571.0</td>\n",
       "      <td>138093.0</td>\n",
       "      <td>19539.0</td>\n",
       "      <td>13687.0</td>\n",
       "    </tr>\n",
       "    <tr>\n",
       "      <th>678</th>\n",
       "      <td>8</td>\n",
       "      <td>2015-05-09 23:32:42.571</td>\n",
       "      <td>80</td>\n",
       "      <td>83</td>\n",
       "      <td>blink</td>\n",
       "      <td>9416.0</td>\n",
       "      <td>13022.0</td>\n",
       "      <td>18955.0</td>\n",
       "      <td>15597.0</td>\n",
       "      <td>8903.0</td>\n",
       "      <td>20473.0</td>\n",
       "      <td>5763.0</td>\n",
       "      <td>7271.0</td>\n",
       "    </tr>\n",
       "    <tr>\n",
       "      <th>679</th>\n",
       "      <td>8</td>\n",
       "      <td>2015-05-09 23:32:43.481</td>\n",
       "      <td>90</td>\n",
       "      <td>90</td>\n",
       "      <td>blink</td>\n",
       "      <td>116550.0</td>\n",
       "      <td>7062.0</td>\n",
       "      <td>10241.0</td>\n",
       "      <td>2245.0</td>\n",
       "      <td>4162.0</td>\n",
       "      <td>6597.0</td>\n",
       "      <td>1435.0</td>\n",
       "      <td>4858.0</td>\n",
       "    </tr>\n",
       "    <tr>\n",
       "      <th>680</th>\n",
       "      <td>8</td>\n",
       "      <td>2015-05-09 23:32:44.698</td>\n",
       "      <td>93</td>\n",
       "      <td>83</td>\n",
       "      <td>blink</td>\n",
       "      <td>13884.0</td>\n",
       "      <td>5769.0</td>\n",
       "      <td>8625.0</td>\n",
       "      <td>1837.0</td>\n",
       "      <td>6221.0</td>\n",
       "      <td>22838.0</td>\n",
       "      <td>11360.0</td>\n",
       "      <td>13625.0</td>\n",
       "    </tr>\n",
       "    <tr>\n",
       "      <th>681</th>\n",
       "      <td>8</td>\n",
       "      <td>2015-05-09 23:32:45.609</td>\n",
       "      <td>91</td>\n",
       "      <td>90</td>\n",
       "      <td>blink</td>\n",
       "      <td>701748.0</td>\n",
       "      <td>51032.0</td>\n",
       "      <td>24760.0</td>\n",
       "      <td>6768.0</td>\n",
       "      <td>3128.0</td>\n",
       "      <td>8376.0</td>\n",
       "      <td>4160.0</td>\n",
       "      <td>3705.0</td>\n",
       "    </tr>\n",
       "    <tr>\n",
       "      <th>...</th>\n",
       "      <td>...</td>\n",
       "      <td>...</td>\n",
       "      <td>...</td>\n",
       "      <td>...</td>\n",
       "      <td>...</td>\n",
       "      <td>...</td>\n",
       "      <td>...</td>\n",
       "      <td>...</td>\n",
       "      <td>...</td>\n",
       "      <td>...</td>\n",
       "      <td>...</td>\n",
       "      <td>...</td>\n",
       "      <td>...</td>\n",
       "    </tr>\n",
       "    <tr>\n",
       "      <th>26443</th>\n",
       "      <td>27</td>\n",
       "      <td>2015-05-09 23:48:48.296</td>\n",
       "      <td>84</td>\n",
       "      <td>29</td>\n",
       "      <td>colour</td>\n",
       "      <td>34004.0</td>\n",
       "      <td>9627.0</td>\n",
       "      <td>3836.0</td>\n",
       "      <td>9513.0</td>\n",
       "      <td>8240.0</td>\n",
       "      <td>80781.0</td>\n",
       "      <td>39374.0</td>\n",
       "      <td>16310.0</td>\n",
       "    </tr>\n",
       "    <tr>\n",
       "      <th>26444</th>\n",
       "      <td>27</td>\n",
       "      <td>2015-05-09 23:48:49.516</td>\n",
       "      <td>74</td>\n",
       "      <td>20</td>\n",
       "      <td>colour</td>\n",
       "      <td>1602302.0</td>\n",
       "      <td>202666.0</td>\n",
       "      <td>40488.0</td>\n",
       "      <td>38347.0</td>\n",
       "      <td>5081.0</td>\n",
       "      <td>26990.0</td>\n",
       "      <td>21178.0</td>\n",
       "      <td>15716.0</td>\n",
       "    </tr>\n",
       "    <tr>\n",
       "      <th>26445</th>\n",
       "      <td>27</td>\n",
       "      <td>2015-05-09 23:48:50.433</td>\n",
       "      <td>67</td>\n",
       "      <td>23</td>\n",
       "      <td>colour</td>\n",
       "      <td>634272.0</td>\n",
       "      <td>336226.0</td>\n",
       "      <td>67494.0</td>\n",
       "      <td>17244.0</td>\n",
       "      <td>8897.0</td>\n",
       "      <td>33338.0</td>\n",
       "      <td>49510.0</td>\n",
       "      <td>12804.0</td>\n",
       "    </tr>\n",
       "    <tr>\n",
       "      <th>26446</th>\n",
       "      <td>27</td>\n",
       "      <td>2015-05-09 23:48:51.346</td>\n",
       "      <td>66</td>\n",
       "      <td>24</td>\n",
       "      <td>colour</td>\n",
       "      <td>109181.0</td>\n",
       "      <td>46985.0</td>\n",
       "      <td>15022.0</td>\n",
       "      <td>17584.0</td>\n",
       "      <td>15259.0</td>\n",
       "      <td>124133.0</td>\n",
       "      <td>19728.0</td>\n",
       "      <td>11153.0</td>\n",
       "    </tr>\n",
       "    <tr>\n",
       "      <th>26447</th>\n",
       "      <td>27</td>\n",
       "      <td>2015-05-09 23:48:52.567</td>\n",
       "      <td>44</td>\n",
       "      <td>43</td>\n",
       "      <td>colour</td>\n",
       "      <td>1357718.0</td>\n",
       "      <td>8132.0</td>\n",
       "      <td>5568.0</td>\n",
       "      <td>5254.0</td>\n",
       "      <td>2544.0</td>\n",
       "      <td>4656.0</td>\n",
       "      <td>1273.0</td>\n",
       "      <td>1726.0</td>\n",
       "    </tr>\n",
       "  </tbody>\n",
       "</table>\n",
       "<p>7406 rows × 13 columns</p>\n",
       "</div>"
      ],
      "text/plain": [
       "       id              indra_time  attention_esense  meditation_esense  \\\n",
       "677     8 2015-05-09 23:32:41.663                64                 67   \n",
       "678     8 2015-05-09 23:32:42.571                80                 83   \n",
       "679     8 2015-05-09 23:32:43.481                90                 90   \n",
       "680     8 2015-05-09 23:32:44.698                93                 83   \n",
       "681     8 2015-05-09 23:32:45.609                91                 90   \n",
       "...    ..                     ...               ...                ...   \n",
       "26443  27 2015-05-09 23:48:48.296                84                 29   \n",
       "26444  27 2015-05-09 23:48:49.516                74                 20   \n",
       "26445  27 2015-05-09 23:48:50.433                67                 23   \n",
       "26446  27 2015-05-09 23:48:51.346                66                 24   \n",
       "26447  27 2015-05-09 23:48:52.567                44                 43   \n",
       "\n",
       "        label      delta      theta  low_alpha  high_alpha  low_beta  \\\n",
       "677     blink   741016.0  1068203.0   253428.0    112710.0  171571.0   \n",
       "678     blink     9416.0    13022.0    18955.0     15597.0    8903.0   \n",
       "679     blink   116550.0     7062.0    10241.0      2245.0    4162.0   \n",
       "680     blink    13884.0     5769.0     8625.0      1837.0    6221.0   \n",
       "681     blink   701748.0    51032.0    24760.0      6768.0    3128.0   \n",
       "...       ...        ...        ...        ...         ...       ...   \n",
       "26443  colour    34004.0     9627.0     3836.0      9513.0    8240.0   \n",
       "26444  colour  1602302.0   202666.0    40488.0     38347.0    5081.0   \n",
       "26445  colour   634272.0   336226.0    67494.0     17244.0    8897.0   \n",
       "26446  colour   109181.0    46985.0    15022.0     17584.0   15259.0   \n",
       "26447  colour  1357718.0     8132.0     5568.0      5254.0    2544.0   \n",
       "\n",
       "       high_beta  low_gamma  mid+gamma  \n",
       "677     138093.0    19539.0    13687.0  \n",
       "678      20473.0     5763.0     7271.0  \n",
       "679       6597.0     1435.0     4858.0  \n",
       "680      22838.0    11360.0    13625.0  \n",
       "681       8376.0     4160.0     3705.0  \n",
       "...          ...        ...        ...  \n",
       "26443    80781.0    39374.0    16310.0  \n",
       "26444    26990.0    21178.0    15716.0  \n",
       "26445    33338.0    49510.0    12804.0  \n",
       "26446   124133.0    19728.0    11153.0  \n",
       "26447     4656.0     1273.0     1726.0  \n",
       "\n",
       "[7406 rows x 13 columns]"
      ]
     },
     "execution_count": 86,
     "metadata": {},
     "output_type": "execute_result"
    }
   ],
   "source": [
    "master_time"
   ]
  },
  {
   "cell_type": "code",
   "execution_count": 87,
   "metadata": {},
   "outputs": [
    {
     "name": "stdout",
     "output_type": "stream",
     "text": [
      "<class 'pandas.core.frame.DataFrame'>\n",
      "Int64Index: 7406 entries, 677 to 26447\n",
      "Data columns (total 13 columns):\n",
      " #   Column             Non-Null Count  Dtype         \n",
      "---  ------             --------------  -----         \n",
      " 0   id                 7406 non-null   int64         \n",
      " 1   indra_time         7406 non-null   datetime64[ns]\n",
      " 2   attention_esense   7406 non-null   int64         \n",
      " 3   meditation_esense  7406 non-null   int64         \n",
      " 4   label              7406 non-null   object        \n",
      " 5   delta              7406 non-null   float64       \n",
      " 6   theta              7406 non-null   float64       \n",
      " 7   low_alpha          7406 non-null   float64       \n",
      " 8   high_alpha         7406 non-null   float64       \n",
      " 9   low_beta           7406 non-null   float64       \n",
      " 10  high_beta          7406 non-null   float64       \n",
      " 11  low_gamma          7406 non-null   float64       \n",
      " 12  mid+gamma          7406 non-null   float64       \n",
      "dtypes: datetime64[ns](1), float64(8), int64(3), object(1)\n",
      "memory usage: 810.0+ KB\n"
     ]
    }
   ],
   "source": [
    "master_time.info()"
   ]
  },
  {
   "cell_type": "code",
   "execution_count": 88,
   "metadata": {},
   "outputs": [],
   "source": [
    "master_time = master_time.set_index('indra_time')\n"
   ]
  },
  {
   "cell_type": "code",
   "execution_count": 89,
   "metadata": {},
   "outputs": [
    {
     "data": {
      "text/html": [
       "<div>\n",
       "<style scoped>\n",
       "    .dataframe tbody tr th:only-of-type {\n",
       "        vertical-align: middle;\n",
       "    }\n",
       "\n",
       "    .dataframe tbody tr th {\n",
       "        vertical-align: top;\n",
       "    }\n",
       "\n",
       "    .dataframe thead th {\n",
       "        text-align: right;\n",
       "    }\n",
       "</style>\n",
       "<table border=\"1\" class=\"dataframe\">\n",
       "  <thead>\n",
       "    <tr style=\"text-align: right;\">\n",
       "      <th></th>\n",
       "      <th>id</th>\n",
       "      <th>attention_esense</th>\n",
       "      <th>meditation_esense</th>\n",
       "      <th>label</th>\n",
       "      <th>delta</th>\n",
       "      <th>theta</th>\n",
       "      <th>low_alpha</th>\n",
       "      <th>high_alpha</th>\n",
       "      <th>low_beta</th>\n",
       "      <th>high_beta</th>\n",
       "      <th>low_gamma</th>\n",
       "      <th>mid+gamma</th>\n",
       "    </tr>\n",
       "    <tr>\n",
       "      <th>indra_time</th>\n",
       "      <th></th>\n",
       "      <th></th>\n",
       "      <th></th>\n",
       "      <th></th>\n",
       "      <th></th>\n",
       "      <th></th>\n",
       "      <th></th>\n",
       "      <th></th>\n",
       "      <th></th>\n",
       "      <th></th>\n",
       "      <th></th>\n",
       "      <th></th>\n",
       "    </tr>\n",
       "  </thead>\n",
       "  <tbody>\n",
       "    <tr>\n",
       "      <th>2015-05-09 23:32:41.663</th>\n",
       "      <td>8</td>\n",
       "      <td>64</td>\n",
       "      <td>67</td>\n",
       "      <td>blink</td>\n",
       "      <td>741016.0</td>\n",
       "      <td>1068203.0</td>\n",
       "      <td>253428.0</td>\n",
       "      <td>112710.0</td>\n",
       "      <td>171571.0</td>\n",
       "      <td>138093.0</td>\n",
       "      <td>19539.0</td>\n",
       "      <td>13687.0</td>\n",
       "    </tr>\n",
       "    <tr>\n",
       "      <th>2015-05-09 23:32:42.571</th>\n",
       "      <td>8</td>\n",
       "      <td>80</td>\n",
       "      <td>83</td>\n",
       "      <td>blink</td>\n",
       "      <td>9416.0</td>\n",
       "      <td>13022.0</td>\n",
       "      <td>18955.0</td>\n",
       "      <td>15597.0</td>\n",
       "      <td>8903.0</td>\n",
       "      <td>20473.0</td>\n",
       "      <td>5763.0</td>\n",
       "      <td>7271.0</td>\n",
       "    </tr>\n",
       "    <tr>\n",
       "      <th>2015-05-09 23:32:43.481</th>\n",
       "      <td>8</td>\n",
       "      <td>90</td>\n",
       "      <td>90</td>\n",
       "      <td>blink</td>\n",
       "      <td>116550.0</td>\n",
       "      <td>7062.0</td>\n",
       "      <td>10241.0</td>\n",
       "      <td>2245.0</td>\n",
       "      <td>4162.0</td>\n",
       "      <td>6597.0</td>\n",
       "      <td>1435.0</td>\n",
       "      <td>4858.0</td>\n",
       "    </tr>\n",
       "    <tr>\n",
       "      <th>2015-05-09 23:32:44.698</th>\n",
       "      <td>8</td>\n",
       "      <td>93</td>\n",
       "      <td>83</td>\n",
       "      <td>blink</td>\n",
       "      <td>13884.0</td>\n",
       "      <td>5769.0</td>\n",
       "      <td>8625.0</td>\n",
       "      <td>1837.0</td>\n",
       "      <td>6221.0</td>\n",
       "      <td>22838.0</td>\n",
       "      <td>11360.0</td>\n",
       "      <td>13625.0</td>\n",
       "    </tr>\n",
       "    <tr>\n",
       "      <th>2015-05-09 23:32:45.609</th>\n",
       "      <td>8</td>\n",
       "      <td>91</td>\n",
       "      <td>90</td>\n",
       "      <td>blink</td>\n",
       "      <td>701748.0</td>\n",
       "      <td>51032.0</td>\n",
       "      <td>24760.0</td>\n",
       "      <td>6768.0</td>\n",
       "      <td>3128.0</td>\n",
       "      <td>8376.0</td>\n",
       "      <td>4160.0</td>\n",
       "      <td>3705.0</td>\n",
       "    </tr>\n",
       "    <tr>\n",
       "      <th>...</th>\n",
       "      <td>...</td>\n",
       "      <td>...</td>\n",
       "      <td>...</td>\n",
       "      <td>...</td>\n",
       "      <td>...</td>\n",
       "      <td>...</td>\n",
       "      <td>...</td>\n",
       "      <td>...</td>\n",
       "      <td>...</td>\n",
       "      <td>...</td>\n",
       "      <td>...</td>\n",
       "      <td>...</td>\n",
       "    </tr>\n",
       "    <tr>\n",
       "      <th>2015-05-09 23:48:48.296</th>\n",
       "      <td>27</td>\n",
       "      <td>84</td>\n",
       "      <td>29</td>\n",
       "      <td>colour</td>\n",
       "      <td>34004.0</td>\n",
       "      <td>9627.0</td>\n",
       "      <td>3836.0</td>\n",
       "      <td>9513.0</td>\n",
       "      <td>8240.0</td>\n",
       "      <td>80781.0</td>\n",
       "      <td>39374.0</td>\n",
       "      <td>16310.0</td>\n",
       "    </tr>\n",
       "    <tr>\n",
       "      <th>2015-05-09 23:48:49.516</th>\n",
       "      <td>27</td>\n",
       "      <td>74</td>\n",
       "      <td>20</td>\n",
       "      <td>colour</td>\n",
       "      <td>1602302.0</td>\n",
       "      <td>202666.0</td>\n",
       "      <td>40488.0</td>\n",
       "      <td>38347.0</td>\n",
       "      <td>5081.0</td>\n",
       "      <td>26990.0</td>\n",
       "      <td>21178.0</td>\n",
       "      <td>15716.0</td>\n",
       "    </tr>\n",
       "    <tr>\n",
       "      <th>2015-05-09 23:48:50.433</th>\n",
       "      <td>27</td>\n",
       "      <td>67</td>\n",
       "      <td>23</td>\n",
       "      <td>colour</td>\n",
       "      <td>634272.0</td>\n",
       "      <td>336226.0</td>\n",
       "      <td>67494.0</td>\n",
       "      <td>17244.0</td>\n",
       "      <td>8897.0</td>\n",
       "      <td>33338.0</td>\n",
       "      <td>49510.0</td>\n",
       "      <td>12804.0</td>\n",
       "    </tr>\n",
       "    <tr>\n",
       "      <th>2015-05-09 23:48:51.346</th>\n",
       "      <td>27</td>\n",
       "      <td>66</td>\n",
       "      <td>24</td>\n",
       "      <td>colour</td>\n",
       "      <td>109181.0</td>\n",
       "      <td>46985.0</td>\n",
       "      <td>15022.0</td>\n",
       "      <td>17584.0</td>\n",
       "      <td>15259.0</td>\n",
       "      <td>124133.0</td>\n",
       "      <td>19728.0</td>\n",
       "      <td>11153.0</td>\n",
       "    </tr>\n",
       "    <tr>\n",
       "      <th>2015-05-09 23:48:52.567</th>\n",
       "      <td>27</td>\n",
       "      <td>44</td>\n",
       "      <td>43</td>\n",
       "      <td>colour</td>\n",
       "      <td>1357718.0</td>\n",
       "      <td>8132.0</td>\n",
       "      <td>5568.0</td>\n",
       "      <td>5254.0</td>\n",
       "      <td>2544.0</td>\n",
       "      <td>4656.0</td>\n",
       "      <td>1273.0</td>\n",
       "      <td>1726.0</td>\n",
       "    </tr>\n",
       "  </tbody>\n",
       "</table>\n",
       "<p>7406 rows × 12 columns</p>\n",
       "</div>"
      ],
      "text/plain": [
       "                         id  attention_esense  meditation_esense   label  \\\n",
       "indra_time                                                                 \n",
       "2015-05-09 23:32:41.663   8                64                 67   blink   \n",
       "2015-05-09 23:32:42.571   8                80                 83   blink   \n",
       "2015-05-09 23:32:43.481   8                90                 90   blink   \n",
       "2015-05-09 23:32:44.698   8                93                 83   blink   \n",
       "2015-05-09 23:32:45.609   8                91                 90   blink   \n",
       "...                      ..               ...                ...     ...   \n",
       "2015-05-09 23:48:48.296  27                84                 29  colour   \n",
       "2015-05-09 23:48:49.516  27                74                 20  colour   \n",
       "2015-05-09 23:48:50.433  27                67                 23  colour   \n",
       "2015-05-09 23:48:51.346  27                66                 24  colour   \n",
       "2015-05-09 23:48:52.567  27                44                 43  colour   \n",
       "\n",
       "                             delta      theta  low_alpha  high_alpha  \\\n",
       "indra_time                                                             \n",
       "2015-05-09 23:32:41.663   741016.0  1068203.0   253428.0    112710.0   \n",
       "2015-05-09 23:32:42.571     9416.0    13022.0    18955.0     15597.0   \n",
       "2015-05-09 23:32:43.481   116550.0     7062.0    10241.0      2245.0   \n",
       "2015-05-09 23:32:44.698    13884.0     5769.0     8625.0      1837.0   \n",
       "2015-05-09 23:32:45.609   701748.0    51032.0    24760.0      6768.0   \n",
       "...                            ...        ...        ...         ...   \n",
       "2015-05-09 23:48:48.296    34004.0     9627.0     3836.0      9513.0   \n",
       "2015-05-09 23:48:49.516  1602302.0   202666.0    40488.0     38347.0   \n",
       "2015-05-09 23:48:50.433   634272.0   336226.0    67494.0     17244.0   \n",
       "2015-05-09 23:48:51.346   109181.0    46985.0    15022.0     17584.0   \n",
       "2015-05-09 23:48:52.567  1357718.0     8132.0     5568.0      5254.0   \n",
       "\n",
       "                         low_beta  high_beta  low_gamma  mid+gamma  \n",
       "indra_time                                                          \n",
       "2015-05-09 23:32:41.663  171571.0   138093.0    19539.0    13687.0  \n",
       "2015-05-09 23:32:42.571    8903.0    20473.0     5763.0     7271.0  \n",
       "2015-05-09 23:32:43.481    4162.0     6597.0     1435.0     4858.0  \n",
       "2015-05-09 23:32:44.698    6221.0    22838.0    11360.0    13625.0  \n",
       "2015-05-09 23:32:45.609    3128.0     8376.0     4160.0     3705.0  \n",
       "...                           ...        ...        ...        ...  \n",
       "2015-05-09 23:48:48.296    8240.0    80781.0    39374.0    16310.0  \n",
       "2015-05-09 23:48:49.516    5081.0    26990.0    21178.0    15716.0  \n",
       "2015-05-09 23:48:50.433    8897.0    33338.0    49510.0    12804.0  \n",
       "2015-05-09 23:48:51.346   15259.0   124133.0    19728.0    11153.0  \n",
       "2015-05-09 23:48:52.567    2544.0     4656.0     1273.0     1726.0  \n",
       "\n",
       "[7406 rows x 12 columns]"
      ]
     },
     "execution_count": 89,
     "metadata": {},
     "output_type": "execute_result"
    }
   ],
   "source": [
    "master_time"
   ]
  },
  {
   "cell_type": "code",
   "execution_count": 90,
   "metadata": {
    "scrolled": true
   },
   "outputs": [
    {
     "data": {
      "text/plain": [
       "array([ 8, 12,  5,  2,  4, 14,  9, 15, 13, 10,  6,  3, 11,  1,  7, 24, 25,\n",
       "       20, 28, 30, 26, 22, 16, 17, 23, 19, 29, 18, 21, 27], dtype=int64)"
      ]
     },
     "execution_count": 90,
     "metadata": {},
     "output_type": "execute_result"
    }
   ],
   "source": [
    "master_time.id.unique()"
   ]
  },
  {
   "cell_type": "code",
   "execution_count": 91,
   "metadata": {},
   "outputs": [
    {
     "name": "stdout",
     "output_type": "stream",
     "text": [
      "Stored 'master_time' (DataFrame)\n"
     ]
    }
   ],
   "source": [
    "%store master_time"
   ]
  },
  {
   "cell_type": "markdown",
   "metadata": {},
   "source": [
    "# Visualize Data as Time Series"
   ]
  },
  {
   "cell_type": "code",
   "execution_count": 92,
   "metadata": {},
   "outputs": [
    {
     "data": {
      "text/plain": [
       "<matplotlib.axes._subplots.AxesSubplot at 0x23f1b1ba748>"
      ]
     },
     "execution_count": 92,
     "metadata": {},
     "output_type": "execute_result"
    },
    {
     "data": {
      "image/png": "[encoded data removed]",
      "text/plain": [
       "<Figure size 792x288 with 1 Axes>"
      ]
     },
     "metadata": {},
     "output_type": "display_data"
    }
   ],
   "source": [
    "sns.set(rc={'figure.figsize':(11, 4)})\n",
    "master_time['attention_esense'].plot(linewidth = 0.5)\n",
    "#master_time['delta'].plot(linewidth = 0.5)\n"
   ]
  },
  {
   "cell_type": "code",
   "execution_count": 99,
   "metadata": {
    "scrolled": true
   },
   "outputs": [
    {
     "data": {
      "text/plain": [
       "Text(0.5, 1.0, 'high alpha')"
      ]
     },
     "execution_count": 99,
     "metadata": {},
     "output_type": "execute_result"
    },
    {
     "data": {
      "image/png": "[encoded data removed]",
      "text/plain": [
       "<Figure size 792x288 with 4 Axes>"
      ]
     },
     "metadata": {},
     "output_type": "display_data"
    }
   ],
   "source": [
    "fig, axes = plt.subplots(nrows=2, ncols=2)\n",
    "# master_time['attention_esense'].plot(linewidth = 0.5, ax = axes[0,0])\n",
    "# axes[0,0].set_title('attention_esense')\n",
    "# master_time['meditation_esense'].plot(linewidth = 0.5, ax = axes[0,1])\n",
    "# axes[0,0].set_title('attention_esense')\n",
    "master_time['delta'].plot(linewidth = 0.5, ax = axes[0,0])\n",
    "axes[0,0].set_title('delta')\n",
    "master_time['theta'].plot(linewidth = 0.5, ax = axes[1,0])\n",
    "axes[1,0].set_title('theta')\n",
    "master_time['low_alpha'].plot(linewidth = 0.5, ax = axes[0,1])\n",
    "axes[0,1].set_title('low alpha')\n",
    "master_time['high_alpha'].plot(linewidth = 0.5, ax = axes[1,1])\n",
    "axes[1,1].set_title('high alpha')"
   ]
  },
  {
   "cell_type": "code",
   "execution_count": 98,
   "metadata": {},
   "outputs": [
    {
     "data": {
      "text/plain": [
       "Text(0.5, 1.0, 'mid+ gamma')"
      ]
     },
     "execution_count": 98,
     "metadata": {},
     "output_type": "execute_result"
    },
    {
     "data": {
      "image/png": "[encoded data removed]",
      "text/plain": [
       "<Figure size 792x288 with 4 Axes>"
      ]
     },
     "metadata": {},
     "output_type": "display_data"
    }
   ],
   "source": [
    "fig, axes = plt.subplots(nrows=2, ncols=2)\n",
    "\n",
    "master_time['low_beta'].plot(linewidth = 0.5, ax = axes[0,0])\n",
    "axes[0,0].set_title('low beta')\n",
    "master_time['high_beta'].plot(linewidth = 0.5, ax = axes[1,0])\n",
    "axes[1,0].set_title('high beta')\n",
    "master_time['low_gamma'].plot(linewidth = 0.5, ax = axes[0,1])\n",
    "axes[0,1].set_title('low gamma')\n",
    "master_time['mid+gamma'].plot(linewidth = 0.5, ax = axes[1,1])\n",
    "axes[1,1].set_title('mid+ gamma')"
   ]
  },
  {
   "cell_type": "markdown",
   "metadata": {},
   "source": [
    "# Look at just one subject accuracy"
   ]
  },
  {
   "cell_type": "code",
   "execution_count": 100,
   "metadata": {
    "scrolled": true
   },
   "outputs": [
    {
     "data": {
      "text/plain": [
       "array(['blink', 'relax', 'math', 'music', 'video', 'items', 'colour'],\n",
       "      dtype=object)"
      ]
     },
     "execution_count": 100,
     "metadata": {},
     "output_type": "execute_result"
    }
   ],
   "source": [
    "time_1 = master_time.loc[master_time['id'] == 1]\n",
    "time_1.label.unique()"
   ]
  },
  {
   "cell_type": "code",
   "execution_count": 101,
   "metadata": {},
   "outputs": [
    {
     "data": {
      "text/plain": [
       "<matplotlib.axes._subplots.AxesSubplot at 0x23f1c61e708>"
      ]
     },
     "execution_count": 101,
     "metadata": {},
     "output_type": "execute_result"
    },
    {
     "data": {
      "image/png": "[encoded data removed]",
      "text/plain": [
       "<Figure size 792x288 with 10 Axes>"
      ]
     },
     "metadata": {},
     "output_type": "display_data"
    }
   ],
   "source": [
    "ig, axes = plt.subplots(nrows=5, ncols=2)\n",
    "time_1['attention_esense'].plot(linewidth = 0.5, ax = axes[0,0])\n",
    "time_1['meditation_esense'].plot(linewidth = 0.5, ax = axes[0,1])\n",
    "time_1['delta'].plot(linewidth = 0.5, ax = axes[1,0])\n",
    "time_1['theta'].plot(linewidth = 0.5, ax = axes[2,0])\n",
    "time_1['low_alpha'].plot(linewidth = 0.5, ax = axes[3,0])\n",
    "time_1['high_alpha'].plot(linewidth = 0.5, ax = axes[4,0])\n",
    "time_1['low_beta'].plot(linewidth = 0.5, ax = axes[1,1])\n",
    "time_1['high_beta'].plot(linewidth = 0.5, ax = axes[2,1])\n",
    "time_1['low_gamma'].plot(linewidth = 0.5, ax = axes[3,1])\n",
    "time_1['mid+gamma'].plot(linewidth = 0.5, ax = axes[4,1], colormap = 'coolwarm')\n"
   ]
  },
  {
   "cell_type": "code",
   "execution_count": 102,
   "metadata": {},
   "outputs": [
    {
     "data": {
      "text/plain": [
       "<matplotlib.axes._subplots.AxesSubplot at 0x23f1f598a08>"
      ]
     },
     "execution_count": 102,
     "metadata": {},
     "output_type": "execute_result"
    },
    {
     "data": {
      "image/png": "[encoded data removed]",
      "text/plain": [
       "<Figure size 792x288 with 10 Axes>"
      ]
     },
     "metadata": {},
     "output_type": "display_data"
    }
   ],
   "source": [
    "time_2 = master_time.loc[master_time['id'] == 2]\n",
    "ig, axes = plt.subplots(nrows=5, ncols=2)\n",
    "time_2['attention_esense'].plot(linewidth = 0.5, ax = axes[0,0])\n",
    "time_2['meditation_esense'].plot(linewidth = 0.5, ax = axes[0,1])\n",
    "time_2['delta'].plot(linewidth = 0.5, ax = axes[1,0])\n",
    "time_2['theta'].plot(linewidth = 0.5, ax = axes[2,0])\n",
    "time_2['low_alpha'].plot(linewidth = 0.5, ax = axes[3,0])\n",
    "time_2['high_alpha'].plot(linewidth = 0.5, ax = axes[4,0])\n",
    "time_2['low_beta'].plot(linewidth = 0.5, ax = axes[1,1])\n",
    "time_2['high_beta'].plot(linewidth = 0.5, ax = axes[2,1])\n",
    "time_2['low_gamma'].plot(linewidth = 0.5, ax = axes[3,1])\n",
    "time_2['mid+gamma'].plot(linewidth = 0.5, ax = axes[4,1], colormap = 'coolwarm')"
   ]
  },
  {
   "cell_type": "markdown",
   "metadata": {},
   "source": [
    "Just based on the above two subjects you can see that the EEGs are significantly different across the same activities. But at the same time you can see that there are similar peaks and troughs across them. This may indicate that we might need to try and classify on a subject by subject level because the EEGs don't correlate across people. Especially not with sample sizes as low as this. "
   ]
  },
  {
   "cell_type": "code",
   "execution_count": 103,
   "metadata": {},
   "outputs": [],
   "source": [
    "from sklearn.model_selection import train_test_split, KFold, cross_val_score\n",
    "from sklearn.neighbors import KNeighborsClassifier\n",
    "from sklearn.metrics import classification_report, confusion_matrix, accuracy_score\n",
    "knn = KNeighborsClassifier(n_neighbors=5)"
   ]
  },
  {
   "cell_type": "code",
   "execution_count": 109,
   "metadata": {},
   "outputs": [
    {
     "name": "stdout",
     "output_type": "stream",
     "text": [
      "Subject 1 Results with accuracy of 0.319 \n",
      "\n",
      "              precision    recall  f1-score   support\n",
      "\n",
      "       blink       0.00      0.00      0.00         1\n",
      "      colour       0.36      0.62      0.46        21\n",
      "       items       0.00      0.00      0.00        13\n",
      "        math       0.25      0.33      0.29         9\n",
      "       music       0.50      0.14      0.22         7\n",
      "       relax       0.38      0.56      0.45         9\n",
      "       video       0.33      0.08      0.13        12\n",
      "\n",
      "    accuracy                           0.32        72\n",
      "   macro avg       0.26      0.25      0.22        72\n",
      "weighted avg       0.29      0.32      0.27        72\n",
      "\n",
      "Subject 2 Results with accuracy of 0.329 \n",
      "\n",
      "              precision    recall  f1-score   support\n",
      "\n",
      "       blink       0.00      0.00      0.00         3\n",
      "      colour       0.46      0.52      0.48        31\n",
      "       items       1.00      0.09      0.17        11\n",
      "        math       0.50      0.33      0.40         9\n",
      "       music       0.18      0.22      0.20         9\n",
      "       relax       0.14      0.33      0.20         6\n",
      "       video       0.00      0.00      0.00         4\n",
      "\n",
      "    accuracy                           0.33        73\n",
      "   macro avg       0.33      0.21      0.21        73\n",
      "weighted avg       0.44      0.33      0.32        73\n",
      "\n",
      "Subject 3 Results with accuracy of 0.32 \n",
      "\n",
      "              precision    recall  f1-score   support\n",
      "\n",
      "       blink       0.00      0.00      0.00         5\n",
      "      colour       0.33      0.65      0.43        23\n",
      "       items       1.00      0.10      0.18        10\n",
      "        math       0.60      0.33      0.43         9\n",
      "       music       0.40      0.13      0.20        15\n",
      "       relax       0.00      0.00      0.00         5\n",
      "       video       0.23      0.38      0.29         8\n",
      "\n",
      "    accuracy                           0.32        75\n",
      "   macro avg       0.37      0.23      0.22        75\n",
      "weighted avg       0.41      0.32      0.28        75\n",
      "\n",
      "Subject 4 Results with accuracy of 0.361 \n",
      "\n",
      "              precision    recall  f1-score   support\n",
      "\n",
      "       blink       0.00      0.00      0.00         1\n",
      "      colour       0.48      0.80      0.60        25\n",
      "       items       0.00      0.00      0.00        11\n",
      "        math       0.00      0.00      0.00         9\n",
      "       music       0.27      0.27      0.27        11\n",
      "       relax       0.25      0.50      0.33         4\n",
      "       video       1.00      0.09      0.17        11\n",
      "\n",
      "    accuracy                           0.36        72\n",
      "   macro avg       0.29      0.24      0.20        72\n",
      "weighted avg       0.37      0.36      0.29        72\n",
      "\n",
      "Subject 5 Results with accuracy of 0.347 \n",
      "\n",
      "              precision    recall  f1-score   support\n",
      "\n",
      "       blink       0.50      0.33      0.40         3\n",
      "      colour       0.34      0.62      0.44        24\n",
      "       items       0.00      0.00      0.00        12\n",
      "        math       0.33      0.27      0.30        11\n",
      "       music       0.50      0.40      0.44        10\n",
      "       relax       0.50      0.40      0.44         5\n",
      "       video       0.00      0.00      0.00         7\n",
      "\n",
      "    accuracy                           0.35        72\n",
      "   macro avg       0.31      0.29      0.29        72\n",
      "weighted avg       0.29      0.35      0.30        72\n",
      "\n",
      "Subject 6 Results with accuracy of 0.264 \n",
      "\n",
      "              precision    recall  f1-score   support\n",
      "\n",
      "       blink       0.00      0.00      0.00         4\n",
      "      colour       0.39      0.56      0.46        25\n",
      "       items       0.00      0.00      0.00         9\n",
      "        math       0.22      0.29      0.25         7\n",
      "       music       0.12      0.11      0.12         9\n",
      "       relax       0.33      0.08      0.13        12\n",
      "       video       0.14      0.17      0.15         6\n",
      "\n",
      "    accuracy                           0.26        72\n",
      "   macro avg       0.17      0.17      0.16        72\n",
      "weighted avg       0.24      0.26      0.23        72\n",
      "\n",
      "Subject 7 Results with accuracy of 0.347 \n",
      "\n",
      "              precision    recall  f1-score   support\n",
      "\n",
      "       blink       0.00      0.00      0.00         5\n",
      "      colour       0.41      0.60      0.48        25\n",
      "       items       0.40      0.44      0.42         9\n",
      "        math       0.25      0.29      0.27         7\n",
      "       music       0.67      0.44      0.53         9\n",
      "       relax       0.00      0.00      0.00        12\n",
      "       video       0.00      0.00      0.00         5\n",
      "\n",
      "    accuracy                           0.35        72\n",
      "   macro avg       0.25      0.25      0.24        72\n",
      "weighted avg       0.30      0.35      0.31        72\n",
      "\n",
      "Subject 8 Results with accuracy of 0.264 \n",
      "\n",
      "              precision    recall  f1-score   support\n",
      "\n",
      "       blink       0.00      0.00      0.00         2\n",
      "      colour       0.33      0.60      0.43        25\n",
      "       items       0.29      0.25      0.27         8\n",
      "        math       0.50      0.22      0.31         9\n",
      "       music       0.00      0.00      0.00        12\n",
      "       relax       0.00      0.00      0.00         9\n",
      "       video       0.00      0.00      0.00         7\n",
      "\n",
      "    accuracy                           0.26        72\n",
      "   macro avg       0.16      0.15      0.14        72\n",
      "weighted avg       0.21      0.26      0.22        72\n",
      "\n",
      "Subject 9 Results with accuracy of 0.319 \n",
      "\n",
      "              precision    recall  f1-score   support\n",
      "\n",
      "       blink       0.00      0.00      0.00         1\n",
      "      colour       0.38      0.75      0.50        24\n",
      "       items       0.12      0.14      0.13         7\n",
      "        math       0.20      0.11      0.14         9\n",
      "       music       0.67      0.14      0.24        14\n",
      "       relax       0.25      0.08      0.12        12\n",
      "       video       0.00      0.00      0.00         5\n",
      "\n",
      "    accuracy                           0.32        72\n",
      "   macro avg       0.23      0.18      0.16        72\n",
      "weighted avg       0.33      0.32      0.26        72\n",
      "\n",
      "Subject 10 Results with accuracy of 0.444 \n",
      "\n",
      "              precision    recall  f1-score   support\n",
      "\n",
      "       blink       0.00      0.00      0.00         3\n",
      "      colour       0.51      0.88      0.65        24\n",
      "       items       0.40      0.25      0.31         8\n",
      "        math       0.45      0.83      0.59         6\n",
      "       music       0.14      0.14      0.14         7\n",
      "       relax       0.00      0.00      0.00        15\n",
      "       video       0.38      0.33      0.35         9\n",
      "\n",
      "    accuracy                           0.44        72\n",
      "   macro avg       0.27      0.35      0.29        72\n",
      "weighted avg       0.31      0.44      0.36        72\n",
      "\n",
      "Subject 11 Results with accuracy of 0.375 \n",
      "\n",
      "              precision    recall  f1-score   support\n",
      "\n",
      "       blink       0.00      0.00      0.00         4\n",
      "      colour       0.47      0.83      0.60        24\n",
      "       items       0.20      0.11      0.14         9\n",
      "        math       0.00      0.00      0.00        10\n",
      "       music       0.17      0.25      0.20         4\n",
      "       relax       0.75      0.23      0.35        13\n",
      "       video       0.33      0.25      0.29         8\n",
      "\n",
      "    accuracy                           0.38        72\n",
      "   macro avg       0.27      0.24      0.23        72\n",
      "weighted avg       0.36      0.38      0.32        72\n",
      "\n",
      "Subject 12 Results with accuracy of 0.333 \n",
      "\n",
      "              precision    recall  f1-score   support\n",
      "\n",
      "       blink       0.00      0.00      0.00         2\n",
      "      colour       0.40      0.78      0.53        27\n",
      "       items       0.33      0.29      0.31         7\n",
      "        math       0.00      0.00      0.00        12\n",
      "       music       0.14      0.12      0.13         8\n",
      "       relax       0.00      0.00      0.00        13\n",
      "       video       0.00      0.00      0.00         3\n",
      "\n",
      "    accuracy                           0.33        72\n",
      "   macro avg       0.13      0.17      0.14        72\n",
      "weighted avg       0.20      0.33      0.24        72\n",
      "\n"
     ]
    },
    {
     "name": "stderr",
     "output_type": "stream",
     "text": [
      "C:\\Users\\Seran\\anaconda3\\lib\\site-packages\\sklearn\\metrics\\_classification.py:1272: UndefinedMetricWarning: Precision is ill-defined and being set to 0.0 in labels with no predicted samples. Use `zero_division` parameter to control this behavior.\n",
      "  _warn_prf(average, modifier, msg_start, len(result))\n",
      "C:\\Users\\Seran\\anaconda3\\lib\\site-packages\\sklearn\\metrics\\_classification.py:1272: UndefinedMetricWarning: Precision and F-score are ill-defined and being set to 0.0 in labels with no predicted samples. Use `zero_division` parameter to control this behavior.\n",
      "  _warn_prf(average, modifier, msg_start, len(result))\n",
      "C:\\Users\\Seran\\anaconda3\\lib\\site-packages\\sklearn\\metrics\\_classification.py:1272: UndefinedMetricWarning: Precision is ill-defined and being set to 0.0 in labels with no predicted samples. Use `zero_division` parameter to control this behavior.\n",
      "  _warn_prf(average, modifier, msg_start, len(result))\n",
      "C:\\Users\\Seran\\anaconda3\\lib\\site-packages\\sklearn\\metrics\\_classification.py:1272: UndefinedMetricWarning: Precision and F-score are ill-defined and being set to 0.0 in labels with no predicted samples. Use `zero_division` parameter to control this behavior.\n",
      "  _warn_prf(average, modifier, msg_start, len(result))\n",
      "C:\\Users\\Seran\\anaconda3\\lib\\site-packages\\sklearn\\metrics\\_classification.py:1272: UndefinedMetricWarning: Precision is ill-defined and being set to 0.0 in labels with no predicted samples. Use `zero_division` parameter to control this behavior.\n",
      "  _warn_prf(average, modifier, msg_start, len(result))\n",
      "C:\\Users\\Seran\\anaconda3\\lib\\site-packages\\sklearn\\metrics\\_classification.py:1272: UndefinedMetricWarning: Precision and F-score are ill-defined and being set to 0.0 in labels with no predicted samples. Use `zero_division` parameter to control this behavior.\n",
      "  _warn_prf(average, modifier, msg_start, len(result))\n",
      "C:\\Users\\Seran\\anaconda3\\lib\\site-packages\\sklearn\\metrics\\_classification.py:1272: UndefinedMetricWarning: Precision is ill-defined and being set to 0.0 in labels with no predicted samples. Use `zero_division` parameter to control this behavior.\n",
      "  _warn_prf(average, modifier, msg_start, len(result))\n",
      "C:\\Users\\Seran\\anaconda3\\lib\\site-packages\\sklearn\\metrics\\_classification.py:1272: UndefinedMetricWarning: Precision and F-score are ill-defined and being set to 0.0 in labels with no predicted samples. Use `zero_division` parameter to control this behavior.\n",
      "  _warn_prf(average, modifier, msg_start, len(result))\n",
      "C:\\Users\\Seran\\anaconda3\\lib\\site-packages\\sklearn\\metrics\\_classification.py:1272: UndefinedMetricWarning: Precision is ill-defined and being set to 0.0 in labels with no predicted samples. Use `zero_division` parameter to control this behavior.\n",
      "  _warn_prf(average, modifier, msg_start, len(result))\n",
      "C:\\Users\\Seran\\anaconda3\\lib\\site-packages\\sklearn\\metrics\\_classification.py:1272: UndefinedMetricWarning: Precision and F-score are ill-defined and being set to 0.0 in labels with no predicted samples. Use `zero_division` parameter to control this behavior.\n",
      "  _warn_prf(average, modifier, msg_start, len(result))\n",
      "C:\\Users\\Seran\\anaconda3\\lib\\site-packages\\sklearn\\metrics\\_classification.py:1272: UndefinedMetricWarning: Precision is ill-defined and being set to 0.0 in labels with no predicted samples. Use `zero_division` parameter to control this behavior.\n",
      "  _warn_prf(average, modifier, msg_start, len(result))\n",
      "C:\\Users\\Seran\\anaconda3\\lib\\site-packages\\sklearn\\metrics\\_classification.py:1272: UndefinedMetricWarning: Precision and F-score are ill-defined and being set to 0.0 in labels with no predicted samples. Use `zero_division` parameter to control this behavior.\n",
      "  _warn_prf(average, modifier, msg_start, len(result))\n",
      "C:\\Users\\Seran\\anaconda3\\lib\\site-packages\\sklearn\\metrics\\_classification.py:1272: UndefinedMetricWarning: Precision is ill-defined and being set to 0.0 in labels with no predicted samples. Use `zero_division` parameter to control this behavior.\n",
      "  _warn_prf(average, modifier, msg_start, len(result))\n",
      "C:\\Users\\Seran\\anaconda3\\lib\\site-packages\\sklearn\\metrics\\_classification.py:1272: UndefinedMetricWarning: Precision and F-score are ill-defined and being set to 0.0 in labels with no predicted samples. Use `zero_division` parameter to control this behavior.\n",
      "  _warn_prf(average, modifier, msg_start, len(result))\n",
      "C:\\Users\\Seran\\anaconda3\\lib\\site-packages\\sklearn\\metrics\\_classification.py:1272: UndefinedMetricWarning: Precision is ill-defined and being set to 0.0 in labels with no predicted samples. Use `zero_division` parameter to control this behavior.\n",
      "  _warn_prf(average, modifier, msg_start, len(result))\n"
     ]
    },
    {
     "name": "stdout",
     "output_type": "stream",
     "text": [
      "Subject 13 Results with accuracy of 0.472 \n",
      "\n",
      "              precision    recall  f1-score   support\n",
      "\n",
      "       blink       0.00      0.00      0.00         2\n",
      "      colour       0.48      0.91      0.63        23\n",
      "       items       0.17      0.12      0.14         8\n",
      "        math       0.25      0.11      0.15         9\n",
      "       music       0.75      0.33      0.46         9\n",
      "       relax       0.67      0.60      0.63        10\n",
      "       video       0.40      0.18      0.25        11\n",
      "\n",
      "    accuracy                           0.47        72\n",
      "   macro avg       0.39      0.32      0.32        72\n",
      "weighted avg       0.45      0.47      0.42        72\n",
      "\n",
      "Subject 14 Results with accuracy of 0.306 \n",
      "\n",
      "              precision    recall  f1-score   support\n",
      "\n",
      "       blink       0.20      1.00      0.33         1\n",
      "      colour       0.35      0.71      0.47        21\n",
      "       items       0.75      0.23      0.35        13\n",
      "        math       0.00      0.00      0.00         9\n",
      "       music       0.33      0.43      0.38         7\n",
      "       relax       0.00      0.00      0.00         8\n",
      "       video       0.00      0.00      0.00        13\n",
      "\n",
      "    accuracy                           0.31        72\n",
      "   macro avg       0.23      0.34      0.22        72\n",
      "weighted avg       0.27      0.31      0.24        72\n",
      "\n",
      "Subject 15 Results with accuracy of 0.338 \n",
      "\n",
      "              precision    recall  f1-score   support\n",
      "\n",
      "       blink       0.00      0.00      0.00         3\n",
      "      colour       0.53      0.78      0.63        23\n",
      "       items       0.38      0.25      0.30        12\n",
      "        math       0.00      0.00      0.00         6\n",
      "       music       0.12      0.11      0.12         9\n",
      "       relax       0.11      0.11      0.11         9\n",
      "       video       0.25      0.11      0.15         9\n",
      "\n",
      "    accuracy                           0.34        71\n",
      "   macro avg       0.20      0.20      0.19        71\n",
      "weighted avg       0.30      0.34      0.30        71\n",
      "\n",
      "Subject 16 Results with accuracy of 0.264 \n",
      "\n",
      "              precision    recall  f1-score   support\n",
      "\n",
      "       blink       0.00      0.00      0.00         3\n",
      "      colour       0.36      0.54      0.43        24\n",
      "       items       0.00      0.00      0.00        11\n",
      "        math       0.00      0.00      0.00         6\n",
      "       music       0.44      0.33      0.38        12\n",
      "       relax       0.08      0.12      0.10         8\n",
      "       video       0.10      0.12      0.11         8\n",
      "\n",
      "    accuracy                           0.26        72\n",
      "   macro avg       0.14      0.16      0.15        72\n",
      "weighted avg       0.21      0.26      0.23        72\n",
      "\n",
      "Subject 17 Results with accuracy of 0.319 \n",
      "\n",
      "              precision    recall  f1-score   support\n",
      "\n",
      "       blink       0.00      0.00      0.00         0\n",
      "      colour       0.33      0.61      0.43        23\n",
      "       items       0.54      0.70      0.61        10\n",
      "        math       0.00      0.00      0.00         8\n",
      "       music       0.29      0.33      0.31         6\n",
      "       relax       0.00      0.00      0.00        12\n",
      "       video       0.00      0.00      0.00        13\n",
      "\n",
      "    accuracy                           0.32        72\n",
      "   macro avg       0.17      0.23      0.19        72\n",
      "weighted avg       0.21      0.32      0.25        72\n",
      "\n",
      "Subject 18 Results with accuracy of 0.333 \n",
      "\n",
      "              precision    recall  f1-score   support\n",
      "\n",
      "       blink       0.33      0.50      0.40         2\n",
      "      colour       0.45      0.61      0.52        23\n",
      "       items       0.33      0.50      0.40         8\n",
      "        math       0.12      0.20      0.15        10\n",
      "       music       0.33      0.14      0.20        14\n",
      "       relax       0.00      0.00      0.00         8\n",
      "       video       0.50      0.14      0.22         7\n",
      "\n",
      "    accuracy                           0.33        72\n",
      "   macro avg       0.30      0.30      0.27        72\n",
      "weighted avg       0.32      0.33      0.30        72\n",
      "\n",
      "Subject 19 Results with accuracy of 0.342 \n",
      "\n",
      "              precision    recall  f1-score   support\n",
      "\n",
      "       blink       0.00      0.00      0.00         2\n",
      "      colour       0.40      0.57      0.47        21\n",
      "       items       0.18      0.20      0.19        10\n",
      "        math       0.46      0.55      0.50        11\n",
      "       music       0.25      0.18      0.21        11\n",
      "       relax       0.14      0.12      0.13         8\n",
      "       video       0.67      0.20      0.31        10\n",
      "\n",
      "    accuracy                           0.34        73\n",
      "   macro avg       0.30      0.26      0.26        73\n",
      "weighted avg       0.35      0.34      0.33        73\n",
      "\n",
      "Subject 20 Results with accuracy of 0.292 \n",
      "\n",
      "              precision    recall  f1-score   support\n",
      "\n",
      "       blink       0.00      0.00      0.00         2\n",
      "      colour       0.42      0.85      0.57        20\n",
      "       items       0.25      0.08      0.12        12\n",
      "        math       0.14      0.10      0.12        10\n",
      "       music       0.10      0.10      0.10        10\n",
      "       relax       0.11      0.14      0.12         7\n",
      "       video       0.00      0.00      0.00        11\n",
      "\n",
      "    accuracy                           0.29        72\n",
      "   macro avg       0.15      0.18      0.15        72\n",
      "weighted avg       0.20      0.29      0.22        72\n",
      "\n",
      "Subject 21 Results with accuracy of 0.375 \n",
      "\n",
      "              precision    recall  f1-score   support\n",
      "\n",
      "       blink       0.00      0.00      0.00         4\n",
      "      colour       0.48      0.77      0.59        26\n",
      "       items       0.30      0.60      0.40         5\n",
      "        math       0.17      0.20      0.18         5\n",
      "       music       0.33      0.29      0.31         7\n",
      "       relax       0.20      0.09      0.13        11\n",
      "       video       0.00      0.00      0.00        14\n",
      "\n",
      "    accuracy                           0.38        72\n",
      "   macro avg       0.21      0.28      0.23        72\n",
      "weighted avg       0.27      0.38      0.30        72\n",
      "\n",
      "Subject 22 Results with accuracy of 0.333 \n",
      "\n",
      "              precision    recall  f1-score   support\n",
      "\n",
      "       blink       0.00      0.00      0.00         3\n",
      "      colour       0.43      0.80      0.56        25\n",
      "       items       0.38      0.27      0.32        11\n",
      "        math       0.00      0.00      0.00        10\n",
      "       music       0.00      0.00      0.00         8\n",
      "       relax       0.00      0.00      0.00         7\n",
      "       video       0.14      0.12      0.13         8\n",
      "\n",
      "    accuracy                           0.33        72\n",
      "   macro avg       0.14      0.17      0.14        72\n",
      "weighted avg       0.22      0.33      0.26        72\n",
      "\n",
      "Subject 23 Results with accuracy of 0.264 \n",
      "\n",
      "              precision    recall  f1-score   support\n",
      "\n",
      "       blink       0.00      0.00      0.00         3\n",
      "      colour       0.39      0.59      0.47        22\n",
      "       items       0.50      0.09      0.15        11\n",
      "        math       0.00      0.00      0.00         6\n",
      "       music       0.17      0.11      0.13         9\n",
      "       relax       0.43      0.30      0.35        10\n",
      "       video       0.20      0.09      0.13        11\n",
      "\n",
      "    accuracy                           0.26        72\n",
      "   macro avg       0.24      0.17      0.18        72\n",
      "weighted avg       0.31      0.26      0.25        72\n",
      "\n",
      "Subject 24 Results with accuracy of 0.236 \n",
      "\n",
      "              precision    recall  f1-score   support\n",
      "\n",
      "       blink       0.00      0.00      0.00         3\n",
      "      colour       0.38      0.52      0.44        23\n",
      "       items       0.00      0.00      0.00         7\n",
      "        math       0.25      0.08      0.12        12\n",
      "       music       0.00      0.00      0.00         8\n",
      "       relax       0.29      0.44      0.35         9\n",
      "       video       0.00      0.00      0.00        10\n",
      "\n",
      "    accuracy                           0.24        72\n",
      "   macro avg       0.13      0.15      0.13        72\n",
      "weighted avg       0.20      0.24      0.20        72\n",
      "\n",
      "Subject 25 Results with accuracy of 0.275 \n",
      "\n",
      "              precision    recall  f1-score   support\n",
      "\n",
      "       blink       0.00      0.00      0.00         3\n",
      "      colour       0.38      0.63      0.47        27\n",
      "       items       0.00      0.00      0.00         8\n",
      "        math       0.00      0.00      0.00         6\n",
      "       music       0.25      0.08      0.12        13\n",
      "       relax       0.12      0.25      0.17         4\n",
      "       video       0.00      0.00      0.00         8\n",
      "\n",
      "    accuracy                           0.28        69\n",
      "   macro avg       0.11      0.14      0.11        69\n",
      "weighted avg       0.20      0.28      0.22        69\n",
      "\n",
      "Subject 26 Results with accuracy of 0.288 \n",
      "\n",
      "              precision    recall  f1-score   support\n",
      "\n",
      "       blink       1.00      0.25      0.40         4\n",
      "      colour       0.40      0.74      0.52        23\n",
      "       items       0.25      0.12      0.17         8\n",
      "        math       0.14      0.33      0.20         6\n",
      "       music       0.00      0.00      0.00         7\n",
      "       relax       0.00      0.00      0.00        15\n",
      "       video       0.00      0.00      0.00        10\n",
      "\n",
      "    accuracy                           0.29        73\n",
      "   macro avg       0.26      0.21      0.18        73\n",
      "weighted avg       0.22      0.29      0.22        73\n",
      "\n"
     ]
    },
    {
     "name": "stderr",
     "output_type": "stream",
     "text": [
      "C:\\Users\\Seran\\anaconda3\\lib\\site-packages\\sklearn\\metrics\\_classification.py:1272: UndefinedMetricWarning: Precision and F-score are ill-defined and being set to 0.0 in labels with no predicted samples. Use `zero_division` parameter to control this behavior.\n",
      "  _warn_prf(average, modifier, msg_start, len(result))\n",
      "C:\\Users\\Seran\\anaconda3\\lib\\site-packages\\sklearn\\metrics\\_classification.py:1272: UndefinedMetricWarning: Precision is ill-defined and being set to 0.0 in labels with no predicted samples. Use `zero_division` parameter to control this behavior.\n",
      "  _warn_prf(average, modifier, msg_start, len(result))\n",
      "C:\\Users\\Seran\\anaconda3\\lib\\site-packages\\sklearn\\metrics\\_classification.py:1272: UndefinedMetricWarning: Precision and F-score are ill-defined and being set to 0.0 in labels with no predicted samples. Use `zero_division` parameter to control this behavior.\n",
      "  _warn_prf(average, modifier, msg_start, len(result))\n",
      "C:\\Users\\Seran\\anaconda3\\lib\\site-packages\\sklearn\\metrics\\_classification.py:1272: UndefinedMetricWarning: Recall is ill-defined and being set to 0.0 in labels with no true samples. Use `zero_division` parameter to control this behavior.\n",
      "  _warn_prf(average, modifier, msg_start, len(result))\n",
      "C:\\Users\\Seran\\anaconda3\\lib\\site-packages\\sklearn\\metrics\\_classification.py:1272: UndefinedMetricWarning: Precision is ill-defined and being set to 0.0 in labels with no predicted samples. Use `zero_division` parameter to control this behavior.\n",
      "  _warn_prf(average, modifier, msg_start, len(result))\n",
      "C:\\Users\\Seran\\anaconda3\\lib\\site-packages\\sklearn\\metrics\\_classification.py:1272: UndefinedMetricWarning: Precision and F-score are ill-defined and being set to 0.0 in labels with no predicted samples. Use `zero_division` parameter to control this behavior.\n",
      "  _warn_prf(average, modifier, msg_start, len(result))\n",
      "C:\\Users\\Seran\\anaconda3\\lib\\site-packages\\sklearn\\metrics\\_classification.py:1272: UndefinedMetricWarning: Recall and F-score are ill-defined and being set to 0.0 in labels with no true samples. Use `zero_division` parameter to control this behavior.\n",
      "  _warn_prf(average, modifier, msg_start, len(result))\n",
      "C:\\Users\\Seran\\anaconda3\\lib\\site-packages\\sklearn\\metrics\\_classification.py:1272: UndefinedMetricWarning: Precision is ill-defined and being set to 0.0 in labels with no predicted samples. Use `zero_division` parameter to control this behavior.\n",
      "  _warn_prf(average, modifier, msg_start, len(result))\n",
      "C:\\Users\\Seran\\anaconda3\\lib\\site-packages\\sklearn\\metrics\\_classification.py:1272: UndefinedMetricWarning: Precision and F-score are ill-defined and being set to 0.0 in labels with no predicted samples. Use `zero_division` parameter to control this behavior.\n",
      "  _warn_prf(average, modifier, msg_start, len(result))\n"
     ]
    },
    {
     "name": "stdout",
     "output_type": "stream",
     "text": [
      "Subject 27 Results with accuracy of 0.306 \n",
      "\n",
      "              precision    recall  f1-score   support\n",
      "\n",
      "       blink       0.17      0.50      0.25         2\n",
      "      colour       0.48      0.45      0.46        29\n",
      "       items       0.17      0.25      0.20         8\n",
      "        math       0.43      0.30      0.35        10\n",
      "       music       0.00      0.00      0.00         7\n",
      "       relax       0.29      0.33      0.31         6\n",
      "       video       0.11      0.10      0.11        10\n",
      "\n",
      "    accuracy                           0.31        72\n",
      "   macro avg       0.23      0.28      0.24        72\n",
      "weighted avg       0.32      0.31      0.31        72\n",
      "\n",
      "Subject 28 Results with accuracy of 0.236 \n",
      "\n",
      "              precision    recall  f1-score   support\n",
      "\n",
      "       blink       0.00      0.00      0.00         2\n",
      "      colour       0.28      0.68      0.39        19\n",
      "       items       0.00      0.00      0.00        11\n",
      "        math       0.29      0.20      0.24        10\n",
      "       music       0.20      0.08      0.12        12\n",
      "       relax       0.20      0.17      0.18         6\n",
      "       video       0.00      0.00      0.00        12\n",
      "\n",
      "    accuracy                           0.24        72\n",
      "   macro avg       0.14      0.16      0.13        72\n",
      "weighted avg       0.16      0.24      0.17        72\n",
      "\n",
      "Subject 29 Results with accuracy of 0.399 \n",
      "\n",
      "              precision    recall  f1-score   support\n",
      "\n",
      "       blink       0.00      0.00      0.00         8\n",
      "      colour       0.41      0.59      0.48        46\n",
      "       items       0.38      0.29      0.32        21\n",
      "        math       0.71      0.56      0.63        18\n",
      "       music       0.12      0.13      0.12        15\n",
      "       relax       0.50      0.53      0.52        15\n",
      "       video       0.40      0.20      0.27        20\n",
      "\n",
      "    accuracy                           0.40       143\n",
      "   macro avg       0.36      0.33      0.33       143\n",
      "weighted avg       0.40      0.40      0.39       143\n",
      "\n",
      "Subject 30 Results with accuracy of 0.236 \n",
      "\n",
      "              precision    recall  f1-score   support\n",
      "\n",
      "       blink       0.00      0.00      0.00         1\n",
      "      colour       0.33      0.55      0.41        22\n",
      "       items       0.15      0.25      0.19         8\n",
      "        math       0.14      0.11      0.12         9\n",
      "       music       0.14      0.11      0.12         9\n",
      "       relax       0.00      0.00      0.00        12\n",
      "       video       0.33      0.09      0.14        11\n",
      "\n",
      "    accuracy                           0.24        72\n",
      "   macro avg       0.16      0.16      0.14        72\n",
      "weighted avg       0.21      0.24      0.20        72\n",
      "\n"
     ]
    }
   ],
   "source": [
    "accuracy_list = []\n",
    "recall_list = []\n",
    "precision_list = []\n",
    "f1_list = [] \n",
    "\n",
    "for i in range(1,31):\n",
    "    subject = master_time[master_time['id'] == i]\n",
    "    features = subject.drop(['id', 'label'], axis = 1)\n",
    "    X_train, X_test, y_train, y_test = train_test_split(features,subject['label'],\n",
    "                                                    test_size=0.30)\n",
    "    knn.fit(X_train,y_train)\n",
    "    pred = knn.predict(X_test)\n",
    "    accuracy = accuracy_score(y_test, pred)\n",
    "    recall = recall_score(y_test, pred, average = 'weighted')\n",
    "    precision = precision_score(y_test, pred, average = 'weighted')\n",
    "    f1 = f1_score(y_test, pred, average = 'weighted')\n",
    "    print(f'Subject {i} Results with accuracy of {round(accuracy,3)} \\n')\n",
    "    print(classification_report(y_test,pred))\n",
    "    accuracy_list.append(accuracy)\n",
    "    precision_list.append(precision)\n",
    "    recall_list.append(recall)\n",
    "    f1_list.append(f1)"
   ]
  },
  {
   "cell_type": "code",
   "execution_count": 114,
   "metadata": {
    "scrolled": true
   },
   "outputs": [],
   "source": [
    "# Find average accuracy \n",
    "accuracy = sum(accuracy_list)/len(accuracy_list)\n",
    "precision = sum(precision_list)/len(precision_list)\n",
    "recall = sum(recall_list)/len(recall_list)\n",
    "f1 = sum(f1_list)/len(f1_list)"
   ]
  },
  {
   "cell_type": "code",
   "execution_count": 115,
   "metadata": {},
   "outputs": [
    {
     "name": "stdout",
     "output_type": "stream",
     "text": [
      "accuracy is 0.32127060727557755\n",
      "precision is 0.28596747244287796\n",
      "recall is 0.32127060727557755\n",
      "d1_score is 0.2742691281263928\n"
     ]
    }
   ],
   "source": [
    "print(f'accuracy is {accuracy}')\n",
    "print(f'precision is {precision}')\n",
    "print(f'recall is {recall}')\n",
    "print(f'd1_score is {f1}')"
   ]
  },
  {
   "cell_type": "code",
   "execution_count": 116,
   "metadata": {},
   "outputs": [],
   "source": [
    "accText = 'KNN, per Subject'\n",
    "\n",
    "acc = pd.read_csv(\"accuracies.csv\", index_col=0)\n",
    "acc.at[accText, 'Accuracy'] = (accuracy)\n",
    "acc.at[accText, 'Precision'] = (precision)\n",
    "acc.at[accText, 'Recall'] = (recall)\n",
    "acc.at[accText, 'F1'] = (f1)\n",
    "# acc.at[accText, 'ROC'] = (roc_auc)\n",
    "acc.to_csv(\"accuracies.csv\")"
   ]
  },
  {
   "cell_type": "markdown",
   "metadata": {},
   "source": [
    "Still horrible accuracy, maybe try with cross validation?"
   ]
  },
  {
   "cell_type": "markdown",
   "metadata": {},
   "source": [
    "## Cross Validation - Per Subject"
   ]
  },
  {
   "cell_type": "code",
   "execution_count": 141,
   "metadata": {},
   "outputs": [
    {
     "name": "stderr",
     "output_type": "stream",
     "text": [
      "C:\\Users\\Seran\\anaconda3\\lib\\site-packages\\sklearn\\metrics\\_classification.py:1272: UndefinedMetricWarning: Precision is ill-defined and being set to 0.0 in labels with no predicted samples. Use `zero_division` parameter to control this behavior.\n",
      "  _warn_prf(average, modifier, msg_start, len(result))\n",
      "C:\\Users\\Seran\\anaconda3\\lib\\site-packages\\sklearn\\metrics\\_classification.py:1272: UndefinedMetricWarning: Precision is ill-defined and being set to 0.0 in labels with no predicted samples. Use `zero_division` parameter to control this behavior.\n",
      "  _warn_prf(average, modifier, msg_start, len(result))\n",
      "C:\\Users\\Seran\\anaconda3\\lib\\site-packages\\sklearn\\metrics\\_classification.py:1272: UndefinedMetricWarning: Precision is ill-defined and being set to 0.0 in labels with no predicted samples. Use `zero_division` parameter to control this behavior.\n",
      "  _warn_prf(average, modifier, msg_start, len(result))\n",
      "C:\\Users\\Seran\\anaconda3\\lib\\site-packages\\sklearn\\metrics\\_classification.py:1272: UndefinedMetricWarning: Precision is ill-defined and being set to 0.0 in labels with no predicted samples. Use `zero_division` parameter to control this behavior.\n",
      "  _warn_prf(average, modifier, msg_start, len(result))\n",
      "C:\\Users\\Seran\\anaconda3\\lib\\site-packages\\sklearn\\metrics\\_classification.py:1272: UndefinedMetricWarning: Precision is ill-defined and being set to 0.0 in labels with no predicted samples. Use `zero_division` parameter to control this behavior.\n",
      "  _warn_prf(average, modifier, msg_start, len(result))\n",
      "C:\\Users\\Seran\\anaconda3\\lib\\site-packages\\sklearn\\metrics\\_classification.py:1272: UndefinedMetricWarning: Precision is ill-defined and being set to 0.0 in labels with no predicted samples. Use `zero_division` parameter to control this behavior.\n",
      "  _warn_prf(average, modifier, msg_start, len(result))\n",
      "C:\\Users\\Seran\\anaconda3\\lib\\site-packages\\sklearn\\metrics\\_classification.py:1272: UndefinedMetricWarning: Precision is ill-defined and being set to 0.0 in labels with no predicted samples. Use `zero_division` parameter to control this behavior.\n",
      "  _warn_prf(average, modifier, msg_start, len(result))\n",
      "C:\\Users\\Seran\\anaconda3\\lib\\site-packages\\sklearn\\metrics\\_classification.py:1272: UndefinedMetricWarning: Precision is ill-defined and being set to 0.0 in labels with no predicted samples. Use `zero_division` parameter to control this behavior.\n",
      "  _warn_prf(average, modifier, msg_start, len(result))\n",
      "C:\\Users\\Seran\\anaconda3\\lib\\site-packages\\sklearn\\metrics\\_classification.py:1272: UndefinedMetricWarning: Precision is ill-defined and being set to 0.0 in labels with no predicted samples. Use `zero_division` parameter to control this behavior.\n",
      "  _warn_prf(average, modifier, msg_start, len(result))\n",
      "C:\\Users\\Seran\\anaconda3\\lib\\site-packages\\sklearn\\metrics\\_classification.py:1272: UndefinedMetricWarning: Precision is ill-defined and being set to 0.0 in labels with no predicted samples. Use `zero_division` parameter to control this behavior.\n",
      "  _warn_prf(average, modifier, msg_start, len(result))\n"
     ]
    },
    {
     "name": "stdout",
     "output_type": "stream",
     "text": [
      "Subject 1 Results with CV accuracy of 0.33333333333333337 \n",
      "\n",
      "[0.39583333 0.39583333 0.5        0.4375     0.36170213]\n",
      "0.4181737588652482\n",
      "Subject 1 Results with CV accuracy of 0.33333333333333337 \n",
      "\n",
      "[0.39583333 0.39583333 0.5        0.4375     0.36170213]\n",
      "0.4181737588652482\n",
      "Subject 2 Results with CV accuracy of 0.33333333333333337 \n",
      "\n",
      "[0.36734694 0.28571429 0.3125     0.3125     0.35416667]\n",
      "0.32644557823129255\n",
      "Subject 2 Results with CV accuracy of 0.33333333333333337 \n",
      "\n",
      "[0.36734694 0.28571429 0.3125     0.3125     0.35416667]\n",
      "0.32644557823129255\n"
     ]
    },
    {
     "name": "stderr",
     "output_type": "stream",
     "text": [
      "C:\\Users\\Seran\\anaconda3\\lib\\site-packages\\sklearn\\metrics\\_classification.py:1272: UndefinedMetricWarning: Precision is ill-defined and being set to 0.0 in labels with no predicted samples. Use `zero_division` parameter to control this behavior.\n",
      "  _warn_prf(average, modifier, msg_start, len(result))\n",
      "C:\\Users\\Seran\\anaconda3\\lib\\site-packages\\sklearn\\metrics\\_classification.py:1272: UndefinedMetricWarning: Precision is ill-defined and being set to 0.0 in labels with no predicted samples. Use `zero_division` parameter to control this behavior.\n",
      "  _warn_prf(average, modifier, msg_start, len(result))\n",
      "C:\\Users\\Seran\\anaconda3\\lib\\site-packages\\sklearn\\metrics\\_classification.py:1272: UndefinedMetricWarning: Precision is ill-defined and being set to 0.0 in labels with no predicted samples. Use `zero_division` parameter to control this behavior.\n",
      "  _warn_prf(average, modifier, msg_start, len(result))\n",
      "C:\\Users\\Seran\\anaconda3\\lib\\site-packages\\sklearn\\metrics\\_classification.py:1272: UndefinedMetricWarning: Precision is ill-defined and being set to 0.0 in labels with no predicted samples. Use `zero_division` parameter to control this behavior.\n",
      "  _warn_prf(average, modifier, msg_start, len(result))\n",
      "C:\\Users\\Seran\\anaconda3\\lib\\site-packages\\sklearn\\metrics\\_classification.py:1272: UndefinedMetricWarning: Precision is ill-defined and being set to 0.0 in labels with no predicted samples. Use `zero_division` parameter to control this behavior.\n",
      "  _warn_prf(average, modifier, msg_start, len(result))\n",
      "C:\\Users\\Seran\\anaconda3\\lib\\site-packages\\sklearn\\metrics\\_classification.py:1272: UndefinedMetricWarning: Precision is ill-defined and being set to 0.0 in labels with no predicted samples. Use `zero_division` parameter to control this behavior.\n",
      "  _warn_prf(average, modifier, msg_start, len(result))\n",
      "C:\\Users\\Seran\\anaconda3\\lib\\site-packages\\sklearn\\metrics\\_classification.py:1272: UndefinedMetricWarning: Precision is ill-defined and being set to 0.0 in labels with no predicted samples. Use `zero_division` parameter to control this behavior.\n",
      "  _warn_prf(average, modifier, msg_start, len(result))\n",
      "C:\\Users\\Seran\\anaconda3\\lib\\site-packages\\sklearn\\metrics\\_classification.py:1272: UndefinedMetricWarning: Precision is ill-defined and being set to 0.0 in labels with no predicted samples. Use `zero_division` parameter to control this behavior.\n",
      "  _warn_prf(average, modifier, msg_start, len(result))\n",
      "C:\\Users\\Seran\\anaconda3\\lib\\site-packages\\sklearn\\metrics\\_classification.py:1272: UndefinedMetricWarning: Precision is ill-defined and being set to 0.0 in labels with no predicted samples. Use `zero_division` parameter to control this behavior.\n",
      "  _warn_prf(average, modifier, msg_start, len(result))\n",
      "C:\\Users\\Seran\\anaconda3\\lib\\site-packages\\sklearn\\metrics\\_classification.py:1272: UndefinedMetricWarning: Precision is ill-defined and being set to 0.0 in labels with no predicted samples. Use `zero_division` parameter to control this behavior.\n",
      "  _warn_prf(average, modifier, msg_start, len(result))\n"
     ]
    },
    {
     "name": "stdout",
     "output_type": "stream",
     "text": [
      "Subject 3 Results with CV accuracy of 0.33333333333333337 \n",
      "\n",
      "[0.36 0.36 0.42 0.36 0.26]\n",
      "0.352\n",
      "Subject 3 Results with CV accuracy of 0.33333333333333337 \n",
      "\n",
      "[0.36 0.36 0.42 0.36 0.26]\n",
      "0.352\n",
      "Subject 4 Results with CV accuracy of 0.33333333333333337 \n",
      "\n",
      "[0.375      0.47916667 0.35416667 0.29166667 0.29166667]\n",
      "0.3583333333333334\n",
      "Subject 4 Results with CV accuracy of 0.33333333333333337 \n",
      "\n",
      "[0.375      0.47916667 0.35416667 0.29166667 0.29166667]\n",
      "0.3583333333333334\n"
     ]
    },
    {
     "name": "stderr",
     "output_type": "stream",
     "text": [
      "C:\\Users\\Seran\\anaconda3\\lib\\site-packages\\sklearn\\metrics\\_classification.py:1272: UndefinedMetricWarning: Precision is ill-defined and being set to 0.0 in labels with no predicted samples. Use `zero_division` parameter to control this behavior.\n",
      "  _warn_prf(average, modifier, msg_start, len(result))\n",
      "C:\\Users\\Seran\\anaconda3\\lib\\site-packages\\sklearn\\metrics\\_classification.py:1272: UndefinedMetricWarning: Precision is ill-defined and being set to 0.0 in labels with no predicted samples. Use `zero_division` parameter to control this behavior.\n",
      "  _warn_prf(average, modifier, msg_start, len(result))\n",
      "C:\\Users\\Seran\\anaconda3\\lib\\site-packages\\sklearn\\metrics\\_classification.py:1272: UndefinedMetricWarning: Precision is ill-defined and being set to 0.0 in labels with no predicted samples. Use `zero_division` parameter to control this behavior.\n",
      "  _warn_prf(average, modifier, msg_start, len(result))\n",
      "C:\\Users\\Seran\\anaconda3\\lib\\site-packages\\sklearn\\metrics\\_classification.py:1272: UndefinedMetricWarning: Precision is ill-defined and being set to 0.0 in labels with no predicted samples. Use `zero_division` parameter to control this behavior.\n",
      "  _warn_prf(average, modifier, msg_start, len(result))\n",
      "C:\\Users\\Seran\\anaconda3\\lib\\site-packages\\sklearn\\metrics\\_classification.py:1272: UndefinedMetricWarning: Precision is ill-defined and being set to 0.0 in labels with no predicted samples. Use `zero_division` parameter to control this behavior.\n",
      "  _warn_prf(average, modifier, msg_start, len(result))\n",
      "C:\\Users\\Seran\\anaconda3\\lib\\site-packages\\sklearn\\metrics\\_classification.py:1272: UndefinedMetricWarning: Precision is ill-defined and being set to 0.0 in labels with no predicted samples. Use `zero_division` parameter to control this behavior.\n",
      "  _warn_prf(average, modifier, msg_start, len(result))\n",
      "C:\\Users\\Seran\\anaconda3\\lib\\site-packages\\sklearn\\metrics\\_classification.py:1272: UndefinedMetricWarning: Precision is ill-defined and being set to 0.0 in labels with no predicted samples. Use `zero_division` parameter to control this behavior.\n",
      "  _warn_prf(average, modifier, msg_start, len(result))\n",
      "C:\\Users\\Seran\\anaconda3\\lib\\site-packages\\sklearn\\metrics\\_classification.py:1272: UndefinedMetricWarning: Precision is ill-defined and being set to 0.0 in labels with no predicted samples. Use `zero_division` parameter to control this behavior.\n",
      "  _warn_prf(average, modifier, msg_start, len(result))\n",
      "C:\\Users\\Seran\\anaconda3\\lib\\site-packages\\sklearn\\metrics\\_classification.py:1272: UndefinedMetricWarning: Precision is ill-defined and being set to 0.0 in labels with no predicted samples. Use `zero_division` parameter to control this behavior.\n",
      "  _warn_prf(average, modifier, msg_start, len(result))\n",
      "C:\\Users\\Seran\\anaconda3\\lib\\site-packages\\sklearn\\metrics\\_classification.py:1272: UndefinedMetricWarning: Precision is ill-defined and being set to 0.0 in labels with no predicted samples. Use `zero_division` parameter to control this behavior.\n",
      "  _warn_prf(average, modifier, msg_start, len(result))\n"
     ]
    },
    {
     "name": "stdout",
     "output_type": "stream",
     "text": [
      "Subject 5 Results with CV accuracy of 0.33333333333333337 \n",
      "\n",
      "[0.33333333 0.47916667 0.35416667 0.39583333 0.36170213]\n",
      "0.3848404255319149\n",
      "Subject 5 Results with CV accuracy of 0.33333333333333337 \n",
      "\n",
      "[0.33333333 0.47916667 0.35416667 0.39583333 0.36170213]\n",
      "0.3848404255319149\n",
      "Subject 6 Results with CV accuracy of 0.33333333333333337 \n",
      "\n",
      "[0.22916667 0.22916667 0.27083333 0.29166667 0.25      ]\n",
      "0.25416666666666665\n",
      "Subject 6 Results with CV accuracy of 0.33333333333333337 \n",
      "\n",
      "[0.22916667 0.22916667 0.27083333 0.29166667 0.25      ]\n",
      "0.25416666666666665\n"
     ]
    },
    {
     "name": "stderr",
     "output_type": "stream",
     "text": [
      "C:\\Users\\Seran\\anaconda3\\lib\\site-packages\\sklearn\\metrics\\_classification.py:1272: UndefinedMetricWarning: Precision is ill-defined and being set to 0.0 in labels with no predicted samples. Use `zero_division` parameter to control this behavior.\n",
      "  _warn_prf(average, modifier, msg_start, len(result))\n",
      "C:\\Users\\Seran\\anaconda3\\lib\\site-packages\\sklearn\\metrics\\_classification.py:1272: UndefinedMetricWarning: Precision is ill-defined and being set to 0.0 in labels with no predicted samples. Use `zero_division` parameter to control this behavior.\n",
      "  _warn_prf(average, modifier, msg_start, len(result))\n",
      "C:\\Users\\Seran\\anaconda3\\lib\\site-packages\\sklearn\\metrics\\_classification.py:1272: UndefinedMetricWarning: Precision is ill-defined and being set to 0.0 in labels with no predicted samples. Use `zero_division` parameter to control this behavior.\n",
      "  _warn_prf(average, modifier, msg_start, len(result))\n",
      "C:\\Users\\Seran\\anaconda3\\lib\\site-packages\\sklearn\\metrics\\_classification.py:1272: UndefinedMetricWarning: Precision is ill-defined and being set to 0.0 in labels with no predicted samples. Use `zero_division` parameter to control this behavior.\n",
      "  _warn_prf(average, modifier, msg_start, len(result))\n",
      "C:\\Users\\Seran\\anaconda3\\lib\\site-packages\\sklearn\\metrics\\_classification.py:1272: UndefinedMetricWarning: Precision is ill-defined and being set to 0.0 in labels with no predicted samples. Use `zero_division` parameter to control this behavior.\n",
      "  _warn_prf(average, modifier, msg_start, len(result))\n",
      "C:\\Users\\Seran\\anaconda3\\lib\\site-packages\\sklearn\\metrics\\_classification.py:1272: UndefinedMetricWarning: Precision is ill-defined and being set to 0.0 in labels with no predicted samples. Use `zero_division` parameter to control this behavior.\n",
      "  _warn_prf(average, modifier, msg_start, len(result))\n",
      "C:\\Users\\Seran\\anaconda3\\lib\\site-packages\\sklearn\\metrics\\_classification.py:1272: UndefinedMetricWarning: Precision is ill-defined and being set to 0.0 in labels with no predicted samples. Use `zero_division` parameter to control this behavior.\n",
      "  _warn_prf(average, modifier, msg_start, len(result))\n",
      "C:\\Users\\Seran\\anaconda3\\lib\\site-packages\\sklearn\\metrics\\_classification.py:1272: UndefinedMetricWarning: Precision is ill-defined and being set to 0.0 in labels with no predicted samples. Use `zero_division` parameter to control this behavior.\n",
      "  _warn_prf(average, modifier, msg_start, len(result))\n",
      "C:\\Users\\Seran\\anaconda3\\lib\\site-packages\\sklearn\\metrics\\_classification.py:1272: UndefinedMetricWarning: Precision is ill-defined and being set to 0.0 in labels with no predicted samples. Use `zero_division` parameter to control this behavior.\n",
      "  _warn_prf(average, modifier, msg_start, len(result))\n"
     ]
    },
    {
     "name": "stdout",
     "output_type": "stream",
     "text": [
      "Subject 7 Results with CV accuracy of 0.33333333333333337 \n",
      "\n",
      "[0.27083333 0.33333333 0.5        0.4375     0.41666667]\n",
      "0.39166666666666666\n",
      "Subject 7 Results with CV accuracy of 0.33333333333333337 \n",
      "\n",
      "[0.27083333 0.33333333 0.5        0.4375     0.41666667]\n",
      "0.39166666666666666\n",
      "Subject 8 Results with CV accuracy of 0.33333333333333337 \n",
      "\n",
      "[0.375      0.35416667 0.35416667 0.25531915 0.38297872]\n",
      "0.34432624113475174\n",
      "Subject 8 Results with CV accuracy of 0.33333333333333337 \n",
      "\n",
      "[0.375      0.35416667 0.35416667 0.25531915 0.38297872]\n",
      "0.34432624113475174\n"
     ]
    },
    {
     "name": "stderr",
     "output_type": "stream",
     "text": [
      "C:\\Users\\Seran\\anaconda3\\lib\\site-packages\\sklearn\\metrics\\_classification.py:1272: UndefinedMetricWarning: Precision is ill-defined and being set to 0.0 in labels with no predicted samples. Use `zero_division` parameter to control this behavior.\n",
      "  _warn_prf(average, modifier, msg_start, len(result))\n",
      "C:\\Users\\Seran\\anaconda3\\lib\\site-packages\\sklearn\\metrics\\_classification.py:1272: UndefinedMetricWarning: Precision is ill-defined and being set to 0.0 in labels with no predicted samples. Use `zero_division` parameter to control this behavior.\n",
      "  _warn_prf(average, modifier, msg_start, len(result))\n",
      "C:\\Users\\Seran\\anaconda3\\lib\\site-packages\\sklearn\\metrics\\_classification.py:1272: UndefinedMetricWarning: Precision is ill-defined and being set to 0.0 in labels with no predicted samples. Use `zero_division` parameter to control this behavior.\n",
      "  _warn_prf(average, modifier, msg_start, len(result))\n",
      "C:\\Users\\Seran\\anaconda3\\lib\\site-packages\\sklearn\\metrics\\_classification.py:1272: UndefinedMetricWarning: Precision is ill-defined and being set to 0.0 in labels with no predicted samples. Use `zero_division` parameter to control this behavior.\n",
      "  _warn_prf(average, modifier, msg_start, len(result))\n",
      "C:\\Users\\Seran\\anaconda3\\lib\\site-packages\\sklearn\\metrics\\_classification.py:1272: UndefinedMetricWarning: Precision is ill-defined and being set to 0.0 in labels with no predicted samples. Use `zero_division` parameter to control this behavior.\n",
      "  _warn_prf(average, modifier, msg_start, len(result))\n",
      "C:\\Users\\Seran\\anaconda3\\lib\\site-packages\\sklearn\\metrics\\_classification.py:1272: UndefinedMetricWarning: Precision is ill-defined and being set to 0.0 in labels with no predicted samples. Use `zero_division` parameter to control this behavior.\n",
      "  _warn_prf(average, modifier, msg_start, len(result))\n",
      "C:\\Users\\Seran\\anaconda3\\lib\\site-packages\\sklearn\\metrics\\_classification.py:1272: UndefinedMetricWarning: Precision is ill-defined and being set to 0.0 in labels with no predicted samples. Use `zero_division` parameter to control this behavior.\n",
      "  _warn_prf(average, modifier, msg_start, len(result))\n",
      "C:\\Users\\Seran\\anaconda3\\lib\\site-packages\\sklearn\\metrics\\_classification.py:1272: UndefinedMetricWarning: Precision is ill-defined and being set to 0.0 in labels with no predicted samples. Use `zero_division` parameter to control this behavior.\n",
      "  _warn_prf(average, modifier, msg_start, len(result))\n",
      "C:\\Users\\Seran\\anaconda3\\lib\\site-packages\\sklearn\\metrics\\_classification.py:1272: UndefinedMetricWarning: Precision is ill-defined and being set to 0.0 in labels with no predicted samples. Use `zero_division` parameter to control this behavior.\n",
      "  _warn_prf(average, modifier, msg_start, len(result))\n",
      "C:\\Users\\Seran\\anaconda3\\lib\\site-packages\\sklearn\\metrics\\_classification.py:1272: UndefinedMetricWarning: Precision is ill-defined and being set to 0.0 in labels with no predicted samples. Use `zero_division` parameter to control this behavior.\n",
      "  _warn_prf(average, modifier, msg_start, len(result))\n"
     ]
    },
    {
     "name": "stdout",
     "output_type": "stream",
     "text": [
      "Subject 9 Results with CV accuracy of 0.33333333333333337 \n",
      "\n",
      "[0.35416667 0.375      0.29166667 0.3125     0.29166667]\n",
      "0.32500000000000007\n",
      "Subject 9 Results with CV accuracy of 0.33333333333333337 \n",
      "\n",
      "[0.35416667 0.375      0.29166667 0.3125     0.29166667]\n",
      "0.32500000000000007\n",
      "Subject 10 Results with CV accuracy of 0.33333333333333337 \n",
      "\n",
      "[0.3125     0.47916667 0.41666667 0.39583333 0.45833333]\n",
      "0.4125\n",
      "Subject 10 Results with CV accuracy of 0.33333333333333337 \n",
      "\n",
      "[0.3125     0.47916667 0.41666667 0.39583333 0.45833333]\n",
      "0.4125\n"
     ]
    },
    {
     "name": "stderr",
     "output_type": "stream",
     "text": [
      "C:\\Users\\Seran\\anaconda3\\lib\\site-packages\\sklearn\\metrics\\_classification.py:1272: UndefinedMetricWarning: Precision is ill-defined and being set to 0.0 in labels with no predicted samples. Use `zero_division` parameter to control this behavior.\n",
      "  _warn_prf(average, modifier, msg_start, len(result))\n",
      "C:\\Users\\Seran\\anaconda3\\lib\\site-packages\\sklearn\\metrics\\_classification.py:1272: UndefinedMetricWarning: Precision is ill-defined and being set to 0.0 in labels with no predicted samples. Use `zero_division` parameter to control this behavior.\n",
      "  _warn_prf(average, modifier, msg_start, len(result))\n",
      "C:\\Users\\Seran\\anaconda3\\lib\\site-packages\\sklearn\\metrics\\_classification.py:1272: UndefinedMetricWarning: Precision is ill-defined and being set to 0.0 in labels with no predicted samples. Use `zero_division` parameter to control this behavior.\n",
      "  _warn_prf(average, modifier, msg_start, len(result))\n",
      "C:\\Users\\Seran\\anaconda3\\lib\\site-packages\\sklearn\\metrics\\_classification.py:1272: UndefinedMetricWarning: Precision is ill-defined and being set to 0.0 in labels with no predicted samples. Use `zero_division` parameter to control this behavior.\n",
      "  _warn_prf(average, modifier, msg_start, len(result))\n",
      "C:\\Users\\Seran\\anaconda3\\lib\\site-packages\\sklearn\\metrics\\_classification.py:1272: UndefinedMetricWarning: Precision is ill-defined and being set to 0.0 in labels with no predicted samples. Use `zero_division` parameter to control this behavior.\n",
      "  _warn_prf(average, modifier, msg_start, len(result))\n",
      "C:\\Users\\Seran\\anaconda3\\lib\\site-packages\\sklearn\\metrics\\_classification.py:1272: UndefinedMetricWarning: Precision is ill-defined and being set to 0.0 in labels with no predicted samples. Use `zero_division` parameter to control this behavior.\n",
      "  _warn_prf(average, modifier, msg_start, len(result))\n",
      "C:\\Users\\Seran\\anaconda3\\lib\\site-packages\\sklearn\\metrics\\_classification.py:1272: UndefinedMetricWarning: Precision is ill-defined and being set to 0.0 in labels with no predicted samples. Use `zero_division` parameter to control this behavior.\n",
      "  _warn_prf(average, modifier, msg_start, len(result))\n",
      "C:\\Users\\Seran\\anaconda3\\lib\\site-packages\\sklearn\\metrics\\_classification.py:1272: UndefinedMetricWarning: Precision is ill-defined and being set to 0.0 in labels with no predicted samples. Use `zero_division` parameter to control this behavior.\n",
      "  _warn_prf(average, modifier, msg_start, len(result))\n",
      "C:\\Users\\Seran\\anaconda3\\lib\\site-packages\\sklearn\\metrics\\_classification.py:1272: UndefinedMetricWarning: Precision is ill-defined and being set to 0.0 in labels with no predicted samples. Use `zero_division` parameter to control this behavior.\n",
      "  _warn_prf(average, modifier, msg_start, len(result))\n",
      "C:\\Users\\Seran\\anaconda3\\lib\\site-packages\\sklearn\\metrics\\_classification.py:1272: UndefinedMetricWarning: Precision is ill-defined and being set to 0.0 in labels with no predicted samples. Use `zero_division` parameter to control this behavior.\n",
      "  _warn_prf(average, modifier, msg_start, len(result))\n"
     ]
    },
    {
     "name": "stdout",
     "output_type": "stream",
     "text": [
      "Subject 11 Results with CV accuracy of 0.33333333333333337 \n",
      "\n",
      "[0.27083333 0.4375     0.3125     0.375      0.41666667]\n",
      "0.3625\n",
      "Subject 11 Results with CV accuracy of 0.33333333333333337 \n",
      "\n",
      "[0.27083333 0.4375     0.3125     0.375      0.41666667]\n",
      "0.3625\n",
      "Subject 12 Results with CV accuracy of 0.33333333333333337 \n",
      "\n",
      "[0.33333333 0.33333333 0.3125     0.34042553 0.29787234]\n",
      "0.32349290780141843\n",
      "Subject 12 Results with CV accuracy of 0.33333333333333337 \n",
      "\n",
      "[0.33333333 0.33333333 0.3125     0.34042553 0.29787234]\n",
      "0.32349290780141843\n"
     ]
    },
    {
     "name": "stderr",
     "output_type": "stream",
     "text": [
      "C:\\Users\\Seran\\anaconda3\\lib\\site-packages\\sklearn\\metrics\\_classification.py:1272: UndefinedMetricWarning: Precision is ill-defined and being set to 0.0 in labels with no predicted samples. Use `zero_division` parameter to control this behavior.\n",
      "  _warn_prf(average, modifier, msg_start, len(result))\n",
      "C:\\Users\\Seran\\anaconda3\\lib\\site-packages\\sklearn\\metrics\\_classification.py:1272: UndefinedMetricWarning: Precision is ill-defined and being set to 0.0 in labels with no predicted samples. Use `zero_division` parameter to control this behavior.\n",
      "  _warn_prf(average, modifier, msg_start, len(result))\n",
      "C:\\Users\\Seran\\anaconda3\\lib\\site-packages\\sklearn\\metrics\\_classification.py:1272: UndefinedMetricWarning: Precision is ill-defined and being set to 0.0 in labels with no predicted samples. Use `zero_division` parameter to control this behavior.\n",
      "  _warn_prf(average, modifier, msg_start, len(result))\n",
      "C:\\Users\\Seran\\anaconda3\\lib\\site-packages\\sklearn\\metrics\\_classification.py:1272: UndefinedMetricWarning: Precision is ill-defined and being set to 0.0 in labels with no predicted samples. Use `zero_division` parameter to control this behavior.\n",
      "  _warn_prf(average, modifier, msg_start, len(result))\n",
      "C:\\Users\\Seran\\anaconda3\\lib\\site-packages\\sklearn\\metrics\\_classification.py:1272: UndefinedMetricWarning: Precision is ill-defined and being set to 0.0 in labels with no predicted samples. Use `zero_division` parameter to control this behavior.\n",
      "  _warn_prf(average, modifier, msg_start, len(result))\n",
      "C:\\Users\\Seran\\anaconda3\\lib\\site-packages\\sklearn\\metrics\\_classification.py:1272: UndefinedMetricWarning: Precision is ill-defined and being set to 0.0 in labels with no predicted samples. Use `zero_division` parameter to control this behavior.\n",
      "  _warn_prf(average, modifier, msg_start, len(result))\n",
      "C:\\Users\\Seran\\anaconda3\\lib\\site-packages\\sklearn\\metrics\\_classification.py:1272: UndefinedMetricWarning: Precision is ill-defined and being set to 0.0 in labels with no predicted samples. Use `zero_division` parameter to control this behavior.\n",
      "  _warn_prf(average, modifier, msg_start, len(result))\n",
      "C:\\Users\\Seran\\anaconda3\\lib\\site-packages\\sklearn\\metrics\\_classification.py:1272: UndefinedMetricWarning: Precision is ill-defined and being set to 0.0 in labels with no predicted samples. Use `zero_division` parameter to control this behavior.\n",
      "  _warn_prf(average, modifier, msg_start, len(result))\n",
      "C:\\Users\\Seran\\anaconda3\\lib\\site-packages\\sklearn\\metrics\\_classification.py:1272: UndefinedMetricWarning: Precision is ill-defined and being set to 0.0 in labels with no predicted samples. Use `zero_division` parameter to control this behavior.\n",
      "  _warn_prf(average, modifier, msg_start, len(result))\n",
      "C:\\Users\\Seran\\anaconda3\\lib\\site-packages\\sklearn\\metrics\\_classification.py:1272: UndefinedMetricWarning: Precision is ill-defined and being set to 0.0 in labels with no predicted samples. Use `zero_division` parameter to control this behavior.\n",
      "  _warn_prf(average, modifier, msg_start, len(result))\n"
     ]
    },
    {
     "name": "stdout",
     "output_type": "stream",
     "text": [
      "Subject 13 Results with CV accuracy of 0.33333333333333337 \n",
      "\n",
      "[0.39583333 0.54166667 0.39583333 0.47916667 0.5       ]\n",
      "0.4625\n",
      "Subject 13 Results with CV accuracy of 0.33333333333333337 \n",
      "\n",
      "[0.39583333 0.54166667 0.39583333 0.47916667 0.5       ]\n",
      "0.4625\n",
      "Subject 14 Results with CV accuracy of 0.33333333333333337 \n",
      "\n",
      "[0.3125     0.3125     0.29166667 0.41666667 0.40425532]\n",
      "0.34751773049645396\n",
      "Subject 14 Results with CV accuracy of 0.33333333333333337 \n",
      "\n",
      "[0.3125     0.3125     0.29166667 0.41666667 0.40425532]\n",
      "0.34751773049645396\n"
     ]
    },
    {
     "name": "stderr",
     "output_type": "stream",
     "text": [
      "C:\\Users\\Seran\\anaconda3\\lib\\site-packages\\sklearn\\metrics\\_classification.py:1272: UndefinedMetricWarning: Precision is ill-defined and being set to 0.0 in labels with no predicted samples. Use `zero_division` parameter to control this behavior.\n",
      "  _warn_prf(average, modifier, msg_start, len(result))\n",
      "C:\\Users\\Seran\\anaconda3\\lib\\site-packages\\sklearn\\metrics\\_classification.py:1272: UndefinedMetricWarning: Precision is ill-defined and being set to 0.0 in labels with no predicted samples. Use `zero_division` parameter to control this behavior.\n",
      "  _warn_prf(average, modifier, msg_start, len(result))\n",
      "C:\\Users\\Seran\\anaconda3\\lib\\site-packages\\sklearn\\metrics\\_classification.py:1272: UndefinedMetricWarning: Precision is ill-defined and being set to 0.0 in labels with no predicted samples. Use `zero_division` parameter to control this behavior.\n",
      "  _warn_prf(average, modifier, msg_start, len(result))\n",
      "C:\\Users\\Seran\\anaconda3\\lib\\site-packages\\sklearn\\metrics\\_classification.py:1272: UndefinedMetricWarning: Precision is ill-defined and being set to 0.0 in labels with no predicted samples. Use `zero_division` parameter to control this behavior.\n",
      "  _warn_prf(average, modifier, msg_start, len(result))\n",
      "C:\\Users\\Seran\\anaconda3\\lib\\site-packages\\sklearn\\metrics\\_classification.py:1272: UndefinedMetricWarning: Precision is ill-defined and being set to 0.0 in labels with no predicted samples. Use `zero_division` parameter to control this behavior.\n",
      "  _warn_prf(average, modifier, msg_start, len(result))\n",
      "C:\\Users\\Seran\\anaconda3\\lib\\site-packages\\sklearn\\metrics\\_classification.py:1272: UndefinedMetricWarning: Precision is ill-defined and being set to 0.0 in labels with no predicted samples. Use `zero_division` parameter to control this behavior.\n",
      "  _warn_prf(average, modifier, msg_start, len(result))\n",
      "C:\\Users\\Seran\\anaconda3\\lib\\site-packages\\sklearn\\metrics\\_classification.py:1272: UndefinedMetricWarning: Precision is ill-defined and being set to 0.0 in labels with no predicted samples. Use `zero_division` parameter to control this behavior.\n",
      "  _warn_prf(average, modifier, msg_start, len(result))\n",
      "C:\\Users\\Seran\\anaconda3\\lib\\site-packages\\sklearn\\metrics\\_classification.py:1272: UndefinedMetricWarning: Precision is ill-defined and being set to 0.0 in labels with no predicted samples. Use `zero_division` parameter to control this behavior.\n",
      "  _warn_prf(average, modifier, msg_start, len(result))\n",
      "C:\\Users\\Seran\\anaconda3\\lib\\site-packages\\sklearn\\metrics\\_classification.py:1272: UndefinedMetricWarning: Precision is ill-defined and being set to 0.0 in labels with no predicted samples. Use `zero_division` parameter to control this behavior.\n",
      "  _warn_prf(average, modifier, msg_start, len(result))\n",
      "C:\\Users\\Seran\\anaconda3\\lib\\site-packages\\sklearn\\metrics\\_classification.py:1272: UndefinedMetricWarning: Precision is ill-defined and being set to 0.0 in labels with no predicted samples. Use `zero_division` parameter to control this behavior.\n",
      "  _warn_prf(average, modifier, msg_start, len(result))\n"
     ]
    },
    {
     "name": "stdout",
     "output_type": "stream",
     "text": [
      "Subject 15 Results with CV accuracy of 0.33333333333333337 \n",
      "\n",
      "[0.25531915 0.38297872 0.44680851 0.29787234 0.31914894]\n",
      "0.34042553191489366\n",
      "Subject 15 Results with CV accuracy of 0.33333333333333337 \n",
      "\n",
      "[0.25531915 0.38297872 0.44680851 0.29787234 0.31914894]\n",
      "0.34042553191489366\n",
      "Subject 16 Results with CV accuracy of 0.33333333333333337 \n",
      "\n",
      "[0.22916667 0.33333333 0.36170213 0.31914894 0.34042553]\n",
      "0.3167553191489362\n",
      "Subject 16 Results with CV accuracy of 0.33333333333333337 \n",
      "\n",
      "[0.22916667 0.33333333 0.36170213 0.31914894 0.34042553]\n",
      "0.3167553191489362\n"
     ]
    },
    {
     "name": "stderr",
     "output_type": "stream",
     "text": [
      "C:\\Users\\Seran\\anaconda3\\lib\\site-packages\\sklearn\\metrics\\_classification.py:1272: UndefinedMetricWarning: Precision is ill-defined and being set to 0.0 in labels with no predicted samples. Use `zero_division` parameter to control this behavior.\n",
      "  _warn_prf(average, modifier, msg_start, len(result))\n",
      "C:\\Users\\Seran\\anaconda3\\lib\\site-packages\\sklearn\\metrics\\_classification.py:1272: UndefinedMetricWarning: Precision is ill-defined and being set to 0.0 in labels with no predicted samples. Use `zero_division` parameter to control this behavior.\n",
      "  _warn_prf(average, modifier, msg_start, len(result))\n",
      "C:\\Users\\Seran\\anaconda3\\lib\\site-packages\\sklearn\\metrics\\_classification.py:1272: UndefinedMetricWarning: Precision is ill-defined and being set to 0.0 in labels with no predicted samples. Use `zero_division` parameter to control this behavior.\n",
      "  _warn_prf(average, modifier, msg_start, len(result))\n",
      "C:\\Users\\Seran\\anaconda3\\lib\\site-packages\\sklearn\\metrics\\_classification.py:1272: UndefinedMetricWarning: Precision is ill-defined and being set to 0.0 in labels with no predicted samples. Use `zero_division` parameter to control this behavior.\n",
      "  _warn_prf(average, modifier, msg_start, len(result))\n",
      "C:\\Users\\Seran\\anaconda3\\lib\\site-packages\\sklearn\\metrics\\_classification.py:1272: UndefinedMetricWarning: Precision is ill-defined and being set to 0.0 in labels with no predicted samples. Use `zero_division` parameter to control this behavior.\n",
      "  _warn_prf(average, modifier, msg_start, len(result))\n",
      "C:\\Users\\Seran\\anaconda3\\lib\\site-packages\\sklearn\\metrics\\_classification.py:1272: UndefinedMetricWarning: Precision is ill-defined and being set to 0.0 in labels with no predicted samples. Use `zero_division` parameter to control this behavior.\n",
      "  _warn_prf(average, modifier, msg_start, len(result))\n",
      "C:\\Users\\Seran\\anaconda3\\lib\\site-packages\\sklearn\\metrics\\_classification.py:1272: UndefinedMetricWarning: Precision is ill-defined and being set to 0.0 in labels with no predicted samples. Use `zero_division` parameter to control this behavior.\n",
      "  _warn_prf(average, modifier, msg_start, len(result))\n",
      "C:\\Users\\Seran\\anaconda3\\lib\\site-packages\\sklearn\\metrics\\_classification.py:1272: UndefinedMetricWarning: Precision is ill-defined and being set to 0.0 in labels with no predicted samples. Use `zero_division` parameter to control this behavior.\n",
      "  _warn_prf(average, modifier, msg_start, len(result))\n",
      "C:\\Users\\Seran\\anaconda3\\lib\\site-packages\\sklearn\\metrics\\_classification.py:1272: UndefinedMetricWarning: Precision is ill-defined and being set to 0.0 in labels with no predicted samples. Use `zero_division` parameter to control this behavior.\n",
      "  _warn_prf(average, modifier, msg_start, len(result))\n"
     ]
    },
    {
     "name": "stdout",
     "output_type": "stream",
     "text": [
      "Subject 17 Results with CV accuracy of 0.33333333333333337 \n",
      "\n",
      "[0.27083333 0.35416667 0.33333333 0.35416667 0.38297872]\n",
      "0.339095744680851\n",
      "Subject 17 Results with CV accuracy of 0.33333333333333337 \n",
      "\n",
      "[0.27083333 0.35416667 0.33333333 0.35416667 0.38297872]\n",
      "0.339095744680851\n",
      "Subject 18 Results with CV accuracy of 0.33333333333333337 \n",
      "\n",
      "[0.35416667 0.33333333 0.39583333 0.39583333 0.42553191]\n",
      "0.3809397163120567\n",
      "Subject 18 Results with CV accuracy of 0.33333333333333337 \n",
      "\n",
      "[0.35416667 0.33333333 0.39583333 0.39583333 0.42553191]\n",
      "0.3809397163120567\n"
     ]
    },
    {
     "name": "stderr",
     "output_type": "stream",
     "text": [
      "C:\\Users\\Seran\\anaconda3\\lib\\site-packages\\sklearn\\metrics\\_classification.py:1272: UndefinedMetricWarning: Precision is ill-defined and being set to 0.0 in labels with no predicted samples. Use `zero_division` parameter to control this behavior.\n",
      "  _warn_prf(average, modifier, msg_start, len(result))\n",
      "C:\\Users\\Seran\\anaconda3\\lib\\site-packages\\sklearn\\metrics\\_classification.py:1272: UndefinedMetricWarning: Precision is ill-defined and being set to 0.0 in labels with no predicted samples. Use `zero_division` parameter to control this behavior.\n",
      "  _warn_prf(average, modifier, msg_start, len(result))\n",
      "C:\\Users\\Seran\\anaconda3\\lib\\site-packages\\sklearn\\metrics\\_classification.py:1272: UndefinedMetricWarning: Precision is ill-defined and being set to 0.0 in labels with no predicted samples. Use `zero_division` parameter to control this behavior.\n",
      "  _warn_prf(average, modifier, msg_start, len(result))\n",
      "C:\\Users\\Seran\\anaconda3\\lib\\site-packages\\sklearn\\metrics\\_classification.py:1272: UndefinedMetricWarning: Precision is ill-defined and being set to 0.0 in labels with no predicted samples. Use `zero_division` parameter to control this behavior.\n",
      "  _warn_prf(average, modifier, msg_start, len(result))\n",
      "C:\\Users\\Seran\\anaconda3\\lib\\site-packages\\sklearn\\metrics\\_classification.py:1272: UndefinedMetricWarning: Precision is ill-defined and being set to 0.0 in labels with no predicted samples. Use `zero_division` parameter to control this behavior.\n",
      "  _warn_prf(average, modifier, msg_start, len(result))\n",
      "C:\\Users\\Seran\\anaconda3\\lib\\site-packages\\sklearn\\metrics\\_classification.py:1272: UndefinedMetricWarning: Precision is ill-defined and being set to 0.0 in labels with no predicted samples. Use `zero_division` parameter to control this behavior.\n",
      "  _warn_prf(average, modifier, msg_start, len(result))\n",
      "C:\\Users\\Seran\\anaconda3\\lib\\site-packages\\sklearn\\metrics\\_classification.py:1272: UndefinedMetricWarning: Precision is ill-defined and being set to 0.0 in labels with no predicted samples. Use `zero_division` parameter to control this behavior.\n",
      "  _warn_prf(average, modifier, msg_start, len(result))\n",
      "C:\\Users\\Seran\\anaconda3\\lib\\site-packages\\sklearn\\metrics\\_classification.py:1272: UndefinedMetricWarning: Precision is ill-defined and being set to 0.0 in labels with no predicted samples. Use `zero_division` parameter to control this behavior.\n",
      "  _warn_prf(average, modifier, msg_start, len(result))\n",
      "C:\\Users\\Seran\\anaconda3\\lib\\site-packages\\sklearn\\metrics\\_classification.py:1272: UndefinedMetricWarning: Precision is ill-defined and being set to 0.0 in labels with no predicted samples. Use `zero_division` parameter to control this behavior.\n",
      "  _warn_prf(average, modifier, msg_start, len(result))\n",
      "C:\\Users\\Seran\\anaconda3\\lib\\site-packages\\sklearn\\metrics\\_classification.py:1272: UndefinedMetricWarning: Precision is ill-defined and being set to 0.0 in labels with no predicted samples. Use `zero_division` parameter to control this behavior.\n",
      "  _warn_prf(average, modifier, msg_start, len(result))\n"
     ]
    },
    {
     "name": "stdout",
     "output_type": "stream",
     "text": [
      "Subject 19 Results with CV accuracy of 0.33333333333333337 \n",
      "\n",
      "[0.44897959 0.51020408 0.3877551  0.47916667 0.35416667]\n",
      "0.43605442176870746\n",
      "Subject 19 Results with CV accuracy of 0.33333333333333337 \n",
      "\n",
      "[0.44897959 0.51020408 0.3877551  0.47916667 0.35416667]\n",
      "0.43605442176870746\n",
      "Subject 20 Results with CV accuracy of 0.33333333333333337 \n",
      "\n",
      "[0.25       0.41666667 0.35416667 0.34042553 0.40425532]\n",
      "0.35310283687943267\n",
      "Subject 20 Results with CV accuracy of 0.33333333333333337 \n",
      "\n",
      "[0.25       0.41666667 0.35416667 0.34042553 0.40425532]\n",
      "0.35310283687943267\n"
     ]
    },
    {
     "name": "stderr",
     "output_type": "stream",
     "text": [
      "C:\\Users\\Seran\\anaconda3\\lib\\site-packages\\sklearn\\metrics\\_classification.py:1272: UndefinedMetricWarning: Precision is ill-defined and being set to 0.0 in labels with no predicted samples. Use `zero_division` parameter to control this behavior.\n",
      "  _warn_prf(average, modifier, msg_start, len(result))\n",
      "C:\\Users\\Seran\\anaconda3\\lib\\site-packages\\sklearn\\metrics\\_classification.py:1272: UndefinedMetricWarning: Precision is ill-defined and being set to 0.0 in labels with no predicted samples. Use `zero_division` parameter to control this behavior.\n",
      "  _warn_prf(average, modifier, msg_start, len(result))\n",
      "C:\\Users\\Seran\\anaconda3\\lib\\site-packages\\sklearn\\metrics\\_classification.py:1272: UndefinedMetricWarning: Precision is ill-defined and being set to 0.0 in labels with no predicted samples. Use `zero_division` parameter to control this behavior.\n",
      "  _warn_prf(average, modifier, msg_start, len(result))\n",
      "C:\\Users\\Seran\\anaconda3\\lib\\site-packages\\sklearn\\metrics\\_classification.py:1272: UndefinedMetricWarning: Precision is ill-defined and being set to 0.0 in labels with no predicted samples. Use `zero_division` parameter to control this behavior.\n",
      "  _warn_prf(average, modifier, msg_start, len(result))\n",
      "C:\\Users\\Seran\\anaconda3\\lib\\site-packages\\sklearn\\metrics\\_classification.py:1272: UndefinedMetricWarning: Precision is ill-defined and being set to 0.0 in labels with no predicted samples. Use `zero_division` parameter to control this behavior.\n",
      "  _warn_prf(average, modifier, msg_start, len(result))\n",
      "C:\\Users\\Seran\\anaconda3\\lib\\site-packages\\sklearn\\metrics\\_classification.py:1272: UndefinedMetricWarning: Precision is ill-defined and being set to 0.0 in labels with no predicted samples. Use `zero_division` parameter to control this behavior.\n",
      "  _warn_prf(average, modifier, msg_start, len(result))\n",
      "C:\\Users\\Seran\\anaconda3\\lib\\site-packages\\sklearn\\metrics\\_classification.py:1272: UndefinedMetricWarning: Precision is ill-defined and being set to 0.0 in labels with no predicted samples. Use `zero_division` parameter to control this behavior.\n",
      "  _warn_prf(average, modifier, msg_start, len(result))\n",
      "C:\\Users\\Seran\\anaconda3\\lib\\site-packages\\sklearn\\metrics\\_classification.py:1272: UndefinedMetricWarning: Precision is ill-defined and being set to 0.0 in labels with no predicted samples. Use `zero_division` parameter to control this behavior.\n",
      "  _warn_prf(average, modifier, msg_start, len(result))\n",
      "C:\\Users\\Seran\\anaconda3\\lib\\site-packages\\sklearn\\metrics\\_classification.py:1272: UndefinedMetricWarning: Precision is ill-defined and being set to 0.0 in labels with no predicted samples. Use `zero_division` parameter to control this behavior.\n",
      "  _warn_prf(average, modifier, msg_start, len(result))\n",
      "C:\\Users\\Seran\\anaconda3\\lib\\site-packages\\sklearn\\metrics\\_classification.py:1272: UndefinedMetricWarning: Precision is ill-defined and being set to 0.0 in labels with no predicted samples. Use `zero_division` parameter to control this behavior.\n",
      "  _warn_prf(average, modifier, msg_start, len(result))\n"
     ]
    },
    {
     "name": "stdout",
     "output_type": "stream",
     "text": [
      "Subject 21 Results with CV accuracy of 0.33333333333333337 \n",
      "\n",
      "[0.3125     0.29166667 0.3125     0.36170213 0.31914894]\n",
      "0.31950354609929077\n",
      "Subject 21 Results with CV accuracy of 0.33333333333333337 \n",
      "\n",
      "[0.3125     0.29166667 0.3125     0.36170213 0.31914894]\n",
      "0.31950354609929077\n",
      "Subject 22 Results with CV accuracy of 0.33333333333333337 \n",
      "\n",
      "[0.375      0.45833333 0.27083333 0.38297872 0.38297872]\n",
      "0.3740248226950354\n",
      "Subject 22 Results with CV accuracy of 0.33333333333333337 \n",
      "\n",
      "[0.375      0.45833333 0.27083333 0.38297872 0.38297872]\n",
      "0.3740248226950354\n"
     ]
    },
    {
     "name": "stderr",
     "output_type": "stream",
     "text": [
      "C:\\Users\\Seran\\anaconda3\\lib\\site-packages\\sklearn\\metrics\\_classification.py:1272: UndefinedMetricWarning: Precision is ill-defined and being set to 0.0 in labels with no predicted samples. Use `zero_division` parameter to control this behavior.\n",
      "  _warn_prf(average, modifier, msg_start, len(result))\n",
      "C:\\Users\\Seran\\anaconda3\\lib\\site-packages\\sklearn\\metrics\\_classification.py:1272: UndefinedMetricWarning: Precision is ill-defined and being set to 0.0 in labels with no predicted samples. Use `zero_division` parameter to control this behavior.\n",
      "  _warn_prf(average, modifier, msg_start, len(result))\n",
      "C:\\Users\\Seran\\anaconda3\\lib\\site-packages\\sklearn\\metrics\\_classification.py:1272: UndefinedMetricWarning: Precision is ill-defined and being set to 0.0 in labels with no predicted samples. Use `zero_division` parameter to control this behavior.\n",
      "  _warn_prf(average, modifier, msg_start, len(result))\n",
      "C:\\Users\\Seran\\anaconda3\\lib\\site-packages\\sklearn\\metrics\\_classification.py:1272: UndefinedMetricWarning: Precision is ill-defined and being set to 0.0 in labels with no predicted samples. Use `zero_division` parameter to control this behavior.\n",
      "  _warn_prf(average, modifier, msg_start, len(result))\n",
      "C:\\Users\\Seran\\anaconda3\\lib\\site-packages\\sklearn\\metrics\\_classification.py:1272: UndefinedMetricWarning: Precision is ill-defined and being set to 0.0 in labels with no predicted samples. Use `zero_division` parameter to control this behavior.\n",
      "  _warn_prf(average, modifier, msg_start, len(result))\n",
      "C:\\Users\\Seran\\anaconda3\\lib\\site-packages\\sklearn\\metrics\\_classification.py:1272: UndefinedMetricWarning: Precision is ill-defined and being set to 0.0 in labels with no predicted samples. Use `zero_division` parameter to control this behavior.\n",
      "  _warn_prf(average, modifier, msg_start, len(result))\n",
      "C:\\Users\\Seran\\anaconda3\\lib\\site-packages\\sklearn\\metrics\\_classification.py:1272: UndefinedMetricWarning: Precision is ill-defined and being set to 0.0 in labels with no predicted samples. Use `zero_division` parameter to control this behavior.\n",
      "  _warn_prf(average, modifier, msg_start, len(result))\n",
      "C:\\Users\\Seran\\anaconda3\\lib\\site-packages\\sklearn\\metrics\\_classification.py:1272: UndefinedMetricWarning: Precision is ill-defined and being set to 0.0 in labels with no predicted samples. Use `zero_division` parameter to control this behavior.\n",
      "  _warn_prf(average, modifier, msg_start, len(result))\n",
      "C:\\Users\\Seran\\anaconda3\\lib\\site-packages\\sklearn\\metrics\\_classification.py:1272: UndefinedMetricWarning: Precision is ill-defined and being set to 0.0 in labels with no predicted samples. Use `zero_division` parameter to control this behavior.\n",
      "  _warn_prf(average, modifier, msg_start, len(result))\n",
      "C:\\Users\\Seran\\anaconda3\\lib\\site-packages\\sklearn\\metrics\\_classification.py:1272: UndefinedMetricWarning: Precision is ill-defined and being set to 0.0 in labels with no predicted samples. Use `zero_division` parameter to control this behavior.\n",
      "  _warn_prf(average, modifier, msg_start, len(result))\n"
     ]
    },
    {
     "name": "stdout",
     "output_type": "stream",
     "text": [
      "Subject 23 Results with CV accuracy of 0.33333333333333337 \n",
      "\n",
      "[0.27083333 0.35416667 0.33333333 0.29787234 0.27659574]\n",
      "0.30656028368794325\n",
      "Subject 23 Results with CV accuracy of 0.33333333333333337 \n",
      "\n",
      "[0.27083333 0.35416667 0.33333333 0.29787234 0.27659574]\n",
      "0.30656028368794325\n",
      "Subject 24 Results with CV accuracy of 0.33333333333333337 \n",
      "\n",
      "[0.3125     0.35416667 0.39583333 0.29787234 0.40425532]\n",
      "0.3529255319148936\n",
      "Subject 24 Results with CV accuracy of 0.33333333333333337 \n",
      "\n",
      "[0.3125     0.35416667 0.39583333 0.29787234 0.40425532]\n",
      "0.3529255319148936\n"
     ]
    },
    {
     "name": "stderr",
     "output_type": "stream",
     "text": [
      "C:\\Users\\Seran\\anaconda3\\lib\\site-packages\\sklearn\\metrics\\_classification.py:1272: UndefinedMetricWarning: Precision is ill-defined and being set to 0.0 in labels with no predicted samples. Use `zero_division` parameter to control this behavior.\n",
      "  _warn_prf(average, modifier, msg_start, len(result))\n",
      "C:\\Users\\Seran\\anaconda3\\lib\\site-packages\\sklearn\\metrics\\_classification.py:1272: UndefinedMetricWarning: Precision is ill-defined and being set to 0.0 in labels with no predicted samples. Use `zero_division` parameter to control this behavior.\n",
      "  _warn_prf(average, modifier, msg_start, len(result))\n",
      "C:\\Users\\Seran\\anaconda3\\lib\\site-packages\\sklearn\\metrics\\_classification.py:1272: UndefinedMetricWarning: Precision is ill-defined and being set to 0.0 in labels with no predicted samples. Use `zero_division` parameter to control this behavior.\n",
      "  _warn_prf(average, modifier, msg_start, len(result))\n",
      "C:\\Users\\Seran\\anaconda3\\lib\\site-packages\\sklearn\\metrics\\_classification.py:1272: UndefinedMetricWarning: Precision is ill-defined and being set to 0.0 in labels with no predicted samples. Use `zero_division` parameter to control this behavior.\n",
      "  _warn_prf(average, modifier, msg_start, len(result))\n",
      "C:\\Users\\Seran\\anaconda3\\lib\\site-packages\\sklearn\\metrics\\_classification.py:1272: UndefinedMetricWarning: Precision is ill-defined and being set to 0.0 in labels with no predicted samples. Use `zero_division` parameter to control this behavior.\n",
      "  _warn_prf(average, modifier, msg_start, len(result))\n",
      "C:\\Users\\Seran\\anaconda3\\lib\\site-packages\\sklearn\\metrics\\_classification.py:1272: UndefinedMetricWarning: Precision is ill-defined and being set to 0.0 in labels with no predicted samples. Use `zero_division` parameter to control this behavior.\n",
      "  _warn_prf(average, modifier, msg_start, len(result))\n",
      "C:\\Users\\Seran\\anaconda3\\lib\\site-packages\\sklearn\\metrics\\_classification.py:1272: UndefinedMetricWarning: Precision is ill-defined and being set to 0.0 in labels with no predicted samples. Use `zero_division` parameter to control this behavior.\n",
      "  _warn_prf(average, modifier, msg_start, len(result))\n",
      "C:\\Users\\Seran\\anaconda3\\lib\\site-packages\\sklearn\\metrics\\_classification.py:1272: UndefinedMetricWarning: Precision is ill-defined and being set to 0.0 in labels with no predicted samples. Use `zero_division` parameter to control this behavior.\n",
      "  _warn_prf(average, modifier, msg_start, len(result))\n",
      "C:\\Users\\Seran\\anaconda3\\lib\\site-packages\\sklearn\\metrics\\_classification.py:1272: UndefinedMetricWarning: Precision is ill-defined and being set to 0.0 in labels with no predicted samples. Use `zero_division` parameter to control this behavior.\n",
      "  _warn_prf(average, modifier, msg_start, len(result))\n",
      "C:\\Users\\Seran\\anaconda3\\lib\\site-packages\\sklearn\\metrics\\_classification.py:1272: UndefinedMetricWarning: Precision is ill-defined and being set to 0.0 in labels with no predicted samples. Use `zero_division` parameter to control this behavior.\n",
      "  _warn_prf(average, modifier, msg_start, len(result))\n"
     ]
    },
    {
     "name": "stdout",
     "output_type": "stream",
     "text": [
      "Subject 25 Results with CV accuracy of 0.33333333333333337 \n",
      "\n",
      "[0.32608696 0.23913043 0.31111111 0.31111111 0.33333333]\n",
      "0.3041545893719807\n",
      "Subject 25 Results with CV accuracy of 0.33333333333333337 \n",
      "\n",
      "[0.32608696 0.23913043 0.31111111 0.31111111 0.33333333]\n",
      "0.3041545893719807\n",
      "Subject 26 Results with CV accuracy of 0.33333333333333337 \n",
      "\n",
      "[0.3877551  0.39583333 0.39583333 0.4375     0.39583333]\n",
      "0.4025510204081632\n",
      "Subject 26 Results with CV accuracy of 0.33333333333333337 \n",
      "\n",
      "[0.3877551  0.39583333 0.39583333 0.4375     0.39583333]\n",
      "0.4025510204081632\n"
     ]
    },
    {
     "name": "stderr",
     "output_type": "stream",
     "text": [
      "C:\\Users\\Seran\\anaconda3\\lib\\site-packages\\sklearn\\metrics\\_classification.py:1272: UndefinedMetricWarning: Precision is ill-defined and being set to 0.0 in labels with no predicted samples. Use `zero_division` parameter to control this behavior.\n",
      "  _warn_prf(average, modifier, msg_start, len(result))\n",
      "C:\\Users\\Seran\\anaconda3\\lib\\site-packages\\sklearn\\metrics\\_classification.py:1272: UndefinedMetricWarning: Precision is ill-defined and being set to 0.0 in labels with no predicted samples. Use `zero_division` parameter to control this behavior.\n",
      "  _warn_prf(average, modifier, msg_start, len(result))\n",
      "C:\\Users\\Seran\\anaconda3\\lib\\site-packages\\sklearn\\metrics\\_classification.py:1272: UndefinedMetricWarning: Precision is ill-defined and being set to 0.0 in labels with no predicted samples. Use `zero_division` parameter to control this behavior.\n",
      "  _warn_prf(average, modifier, msg_start, len(result))\n",
      "C:\\Users\\Seran\\anaconda3\\lib\\site-packages\\sklearn\\metrics\\_classification.py:1272: UndefinedMetricWarning: Precision is ill-defined and being set to 0.0 in labels with no predicted samples. Use `zero_division` parameter to control this behavior.\n",
      "  _warn_prf(average, modifier, msg_start, len(result))\n",
      "C:\\Users\\Seran\\anaconda3\\lib\\site-packages\\sklearn\\metrics\\_classification.py:1272: UndefinedMetricWarning: Precision is ill-defined and being set to 0.0 in labels with no predicted samples. Use `zero_division` parameter to control this behavior.\n",
      "  _warn_prf(average, modifier, msg_start, len(result))\n",
      "C:\\Users\\Seran\\anaconda3\\lib\\site-packages\\sklearn\\metrics\\_classification.py:1272: UndefinedMetricWarning: Precision is ill-defined and being set to 0.0 in labels with no predicted samples. Use `zero_division` parameter to control this behavior.\n",
      "  _warn_prf(average, modifier, msg_start, len(result))\n",
      "C:\\Users\\Seran\\anaconda3\\lib\\site-packages\\sklearn\\metrics\\_classification.py:1272: UndefinedMetricWarning: Precision is ill-defined and being set to 0.0 in labels with no predicted samples. Use `zero_division` parameter to control this behavior.\n",
      "  _warn_prf(average, modifier, msg_start, len(result))\n",
      "C:\\Users\\Seran\\anaconda3\\lib\\site-packages\\sklearn\\metrics\\_classification.py:1272: UndefinedMetricWarning: Precision is ill-defined and being set to 0.0 in labels with no predicted samples. Use `zero_division` parameter to control this behavior.\n",
      "  _warn_prf(average, modifier, msg_start, len(result))\n",
      "C:\\Users\\Seran\\anaconda3\\lib\\site-packages\\sklearn\\metrics\\_classification.py:1272: UndefinedMetricWarning: Precision is ill-defined and being set to 0.0 in labels with no predicted samples. Use `zero_division` parameter to control this behavior.\n",
      "  _warn_prf(average, modifier, msg_start, len(result))\n",
      "C:\\Users\\Seran\\anaconda3\\lib\\site-packages\\sklearn\\metrics\\_classification.py:1272: UndefinedMetricWarning: Precision is ill-defined and being set to 0.0 in labels with no predicted samples. Use `zero_division` parameter to control this behavior.\n",
      "  _warn_prf(average, modifier, msg_start, len(result))\n"
     ]
    },
    {
     "name": "stdout",
     "output_type": "stream",
     "text": [
      "Subject 27 Results with CV accuracy of 0.33333333333333337 \n",
      "\n",
      "[0.375      0.375      0.27659574 0.40425532 0.29787234]\n",
      "0.34574468085106386\n",
      "Subject 27 Results with CV accuracy of 0.33333333333333337 \n",
      "\n",
      "[0.375      0.375      0.27659574 0.40425532 0.29787234]\n",
      "0.34574468085106386\n",
      "Subject 28 Results with CV accuracy of 0.33333333333333337 \n",
      "\n",
      "[0.25       0.27083333 0.3125     0.25       0.23404255]\n",
      "0.2634751773049645\n",
      "Subject 28 Results with CV accuracy of 0.33333333333333337 \n",
      "\n",
      "[0.25       0.27083333 0.3125     0.25       0.23404255]\n",
      "0.2634751773049645\n"
     ]
    },
    {
     "name": "stderr",
     "output_type": "stream",
     "text": [
      "C:\\Users\\Seran\\anaconda3\\lib\\site-packages\\sklearn\\metrics\\_classification.py:1272: UndefinedMetricWarning: Precision is ill-defined and being set to 0.0 in labels with no predicted samples. Use `zero_division` parameter to control this behavior.\n",
      "  _warn_prf(average, modifier, msg_start, len(result))\n",
      "C:\\Users\\Seran\\anaconda3\\lib\\site-packages\\sklearn\\metrics\\_classification.py:1272: UndefinedMetricWarning: Precision is ill-defined and being set to 0.0 in labels with no predicted samples. Use `zero_division` parameter to control this behavior.\n",
      "  _warn_prf(average, modifier, msg_start, len(result))\n",
      "C:\\Users\\Seran\\anaconda3\\lib\\site-packages\\sklearn\\metrics\\_classification.py:1272: UndefinedMetricWarning: Precision is ill-defined and being set to 0.0 in labels with no predicted samples. Use `zero_division` parameter to control this behavior.\n",
      "  _warn_prf(average, modifier, msg_start, len(result))\n",
      "C:\\Users\\Seran\\anaconda3\\lib\\site-packages\\sklearn\\metrics\\_classification.py:1272: UndefinedMetricWarning: Precision is ill-defined and being set to 0.0 in labels with no predicted samples. Use `zero_division` parameter to control this behavior.\n",
      "  _warn_prf(average, modifier, msg_start, len(result))\n",
      "C:\\Users\\Seran\\anaconda3\\lib\\site-packages\\sklearn\\metrics\\_classification.py:1272: UndefinedMetricWarning: Precision is ill-defined and being set to 0.0 in labels with no predicted samples. Use `zero_division` parameter to control this behavior.\n",
      "  _warn_prf(average, modifier, msg_start, len(result))\n",
      "C:\\Users\\Seran\\anaconda3\\lib\\site-packages\\sklearn\\metrics\\_classification.py:1272: UndefinedMetricWarning: Precision is ill-defined and being set to 0.0 in labels with no predicted samples. Use `zero_division` parameter to control this behavior.\n",
      "  _warn_prf(average, modifier, msg_start, len(result))\n",
      "C:\\Users\\Seran\\anaconda3\\lib\\site-packages\\sklearn\\metrics\\_classification.py:1272: UndefinedMetricWarning: Precision is ill-defined and being set to 0.0 in labels with no predicted samples. Use `zero_division` parameter to control this behavior.\n",
      "  _warn_prf(average, modifier, msg_start, len(result))\n",
      "C:\\Users\\Seran\\anaconda3\\lib\\site-packages\\sklearn\\metrics\\_classification.py:1272: UndefinedMetricWarning: Precision is ill-defined and being set to 0.0 in labels with no predicted samples. Use `zero_division` parameter to control this behavior.\n",
      "  _warn_prf(average, modifier, msg_start, len(result))\n",
      "C:\\Users\\Seran\\anaconda3\\lib\\site-packages\\sklearn\\metrics\\_classification.py:1272: UndefinedMetricWarning: Precision is ill-defined and being set to 0.0 in labels with no predicted samples. Use `zero_division` parameter to control this behavior.\n",
      "  _warn_prf(average, modifier, msg_start, len(result))\n"
     ]
    },
    {
     "name": "stdout",
     "output_type": "stream",
     "text": [
      "Subject 29 Results with CV accuracy of 0.33333333333333337 \n",
      "\n",
      "[0.37894737 0.35789474 0.44210526 0.42105263 0.44680851]\n",
      "0.40936170212765954\n",
      "Subject 29 Results with CV accuracy of 0.33333333333333337 \n",
      "\n",
      "[0.37894737 0.35789474 0.44210526 0.42105263 0.44680851]\n",
      "0.40936170212765954\n",
      "Subject 30 Results with CV accuracy of 0.33333333333333337 \n",
      "\n",
      "[0.27083333 0.35416667 0.35416667 0.3125     0.35416667]\n",
      "0.3291666666666667\n",
      "Subject 30 Results with CV accuracy of 0.33333333333333337 \n",
      "\n",
      "[0.27083333 0.35416667 0.35416667 0.3125     0.35416667]\n",
      "0.3291666666666667\n"
     ]
    }
   ],
   "source": [
    "knn = KNeighborsClassifier(n_neighbors=14)\n",
    "accuracy_list = []\n",
    "recall_list = []\n",
    "precision_list = []\n",
    "f1_list = [] \n",
    "\n",
    "for i in range(1,31):\n",
    "    subject = master_time[master_time['id'] == i]\n",
    "    features = subject.drop(['id', 'label'], axis = 1)\n",
    "    accuracy_all = cross_val_score(knn, features, subject['label'], \n",
    "                             cv = 5, scoring = 'accuracy')\n",
    "    precision_all = cross_val_score(knn, features, subject['label'], \n",
    "                             cv = 5, scoring = 'precision_weighted') \n",
    "    recall_all = cross_val_score(knn, features, subject['label'], \n",
    "                             cv = 5, scoring = 'recall_weighted')\n",
    "    f1_all= cross_val_score(knn, features, subject['label'], \n",
    "                             cv = 5, scoring = 'f1_weighted')\n",
    "    accuracy = accuracy_all.mean()\n",
    "    precision = precision_all.mean()\n",
    "    recall = recall_all.mean()\n",
    "    f1 = f1_all.mean()\n",
    "    print(f'Subject {i} Results with CV accuracy of {mean_accuracy} \\n')\n",
    "    print(accuracy_all)\n",
    "    print(accuracy)\n",
    "    \n",
    "    print(f'Subject {i} Results with CV accuracy of {mean_accuracy} \\n')\n",
    "    print(accuracy_all)\n",
    "    print(accuracy)\n",
    "    \n",
    "    accuracy_list.append(mean_accuracy)\n",
    "    precision_list.append(precision)\n",
    "    recall_list.append(recall)\n",
    "    f1_list.append(f1)"
   ]
  },
  {
   "cell_type": "code",
   "execution_count": 142,
   "metadata": {},
   "outputs": [
    {
     "name": "stdout",
     "output_type": "stream",
     "text": [
      "accuracy is 0.3291666666666667\n",
      "precision is 0.2521805355138688\n",
      "recall is 0.3291666666666667\n",
      "d1_score is 0.24541224858512817\n"
     ]
    }
   ],
   "source": [
    "print(f'accuracy is {accuracy}')\n",
    "print(f'precision is {precision}')\n",
    "print(f'recall is {recall}')\n",
    "print(f'd1_score is {f1}')"
   ]
  },
  {
   "cell_type": "code",
   "execution_count": 143,
   "metadata": {},
   "outputs": [],
   "source": [
    "accText = 'KNN, per Subject Cross Validation'\n",
    "\n",
    "acc = pd.read_csv(\"accuracies.csv\", index_col=0)\n",
    "acc.at[accText, 'Accuracy'] = (accuracy)\n",
    "acc.at[accText, 'Precision'] = (precision)\n",
    "acc.at[accText, 'Recall'] = (recall)\n",
    "acc.at[accText, 'F1'] = (f1)\n",
    "# acc.at[accText, 'ROC'] = (roc_auc)\n",
    "acc.to_csv(\"accuracies.csv\")"
   ]
  },
  {
   "cell_type": "markdown",
   "metadata": {},
   "source": [
    "It got a little better but not much "
   ]
  },
  {
   "cell_type": "markdown",
   "metadata": {},
   "source": [
    "# Maybe Try Another Classifier (Support Vector Machine)"
   ]
  },
  {
   "cell_type": "markdown",
   "metadata": {},
   "source": [
    "## Moved to another notebook (do not run here) "
   ]
  },
  {
   "cell_type": "code",
   "execution_count": null,
   "metadata": {
    "scrolled": true
   },
   "outputs": [
    {
     "name": "stderr",
     "output_type": "stream",
     "text": [
      "C:\\Users\\Seran\\anaconda3\\lib\\site-packages\\sklearn\\model_selection\\_split.py:667: UserWarning: The least populated class in y has only 7 members, which is less than n_splits=10.\n",
      "  % (min_groups, self.n_splits)), UserWarning)\n"
     ]
    }
   ],
   "source": [
    "\n",
    "# from sklearn.svm import SVC\n",
    "# svm = SVC(kernel='linear', C=1, random_state = 101)\n",
    "# for i in range(1,31):\n",
    "#     subject = master_time[master_time['id'] == i]\n",
    "#     features = subject.drop(['id', 'label'], axis = 1)\n",
    "#     scores = cross_val_score(svm, features, subject['label'], \n",
    "#                              cv = 5, scoring = 'accuracy')  \n",
    "#     mean_score = scores.mean()\n",
    "#     print(f'Subject {i} Results with CV accuracy of {mean_score} \\n')\n",
    "#     print(scores)\n",
    "#     print(mean_score)\n",
    "#     accuracy_list.append(mean_score)\n",
    "    \n"
   ]
  },
  {
   "cell_type": "code",
   "execution_count": null,
   "metadata": {},
   "outputs": [],
   "source": [
    "SVC?"
   ]
  },
  {
   "cell_type": "markdown",
   "metadata": {},
   "source": [
    "# Other Test Stuff "
   ]
  },
  {
   "cell_type": "code",
   "execution_count": null,
   "metadata": {},
   "outputs": [],
   "source": [
    "subjects_dict = dict()\n",
    "for subj in range(1,30):\n",
    "    subjects[subj] = master_time[master_time['id'] == subj]"
   ]
  },
  {
   "cell_type": "code",
   "execution_count": 95,
   "metadata": {},
   "outputs": [],
   "source": [
    "subject_29 = master_time[master_time['id'] == subj]"
   ]
  },
  {
   "cell_type": "code",
   "execution_count": 96,
   "metadata": {},
   "outputs": [
    {
     "data": {
      "text/plain": [
       "<matplotlib.axes._subplots.AxesSubplot at 0x22eb9a516c8>"
      ]
     },
     "execution_count": 96,
     "metadata": {},
     "output_type": "execute_result"
    },
    {
     "data": {
      "image/png": "[encoded data removed]",
      "text/plain": [
       "<Figure size 792x288 with 1 Axes>"
      ]
     },
     "metadata": {},
     "output_type": "display_data"
    }
   ],
   "source": [
    "subject_29['delta'].plot(linewidth = 0.5)"
   ]
  },
  {
   "cell_type": "code",
   "execution_count": null,
   "metadata": {},
   "outputs": [],
   "source": [
    "from sklearn.model_selection import cross_val_score\n",
    "cross_val_score?"
   ]
  }
 ],
 "metadata": {
  "kernelspec": {
   "display_name": "Python 3",
   "language": "python",
   "name": "python3"
  },
  "language_info": {
   "codemirror_mode": {
    "name": "ipython",
    "version": 3
   },
   "file_extension": ".py",
   "mimetype": "text/x-python",
   "name": "python",
   "nbconvert_exporter": "python",
   "pygments_lexer": "ipython3",
   "version": "3.7.6"
  }
 },
 "nbformat": 4,
 "nbformat_minor": 4
}
