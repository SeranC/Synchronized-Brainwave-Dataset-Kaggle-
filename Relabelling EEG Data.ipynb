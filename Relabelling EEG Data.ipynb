{
 "cells": [
  {
   "cell_type": "code",
   "execution_count": 51,
   "metadata": {},
   "outputs": [],
   "source": [
    "import pandas as pd\n",
    "import numpy as np \n",
    "import seaborn as sns\n",
    "import matplotlib.pyplot as plt"
   ]
  },
  {
   "cell_type": "code",
   "execution_count": 52,
   "metadata": {},
   "outputs": [],
   "source": [
    "%store -r subjects\n",
    "%store -r eeg_final\n",
    "%store -r stimulus\n",
    "%store -r master_df"
   ]
  },
  {
   "cell_type": "code",
   "execution_count": 53,
   "metadata": {
    "scrolled": false
   },
   "outputs": [
    {
     "data": {
      "text/plain": [
       "Index(['Unnamed: 0', 'id', 'indra_time', 'browser_latency', 'reading_time',\n",
       "       'attention_esense', 'meditation_esense', 'eeg_power', 'raw_values',\n",
       "       'signal_quality', 'createdAt', 'updatedAt', 'label', 'delta', 'theta',\n",
       "       'low_alpha', 'high_alpha', 'low_beta', 'high_beta', 'low_gamma',\n",
       "       'mid+gamma', 'Session', 'Seen video before?', 'Chosen color',\n",
       "       'Saw icons?', 'Gender', 'Wear contacts'],\n",
       "      dtype='object')"
      ]
     },
     "execution_count": 53,
     "metadata": {},
     "output_type": "execute_result"
    }
   ],
   "source": [
    "master_df.columns"
   ]
  },
  {
   "cell_type": "markdown",
   "metadata": {},
   "source": [
    "# Relabel everything into Broader categories"
   ]
  },
  {
   "cell_type": "code",
   "execution_count": 54,
   "metadata": {},
   "outputs": [],
   "source": [
    "math_labels = ['math1','math2','math3','math4','math5','math6','math7',\n",
    "               'math8','math9','math10','math11','math12']\n",
    "colour_labels = ['colorRound1-1', 'colorRound1-2', 'colorRound1-3', 'colorRound1-4',\n",
    "       'colorRound1-5', 'colorRound1-6', 'colorRound2-1',\n",
    "       'colorRound2-2', 'colorRound2-3', 'colorRound2-4', 'colorRound2-5',\n",
    "       'colorRound2-6', 'readyRound3', 'colorRound3-1', 'colorRound3-2',\n",
    "       'colorRound3-3', 'colorRound3-4', 'colorRound3-5', 'colorRound3-6', 'colorRound4-1', 'colorRound4-2', 'colorRound4-3',\n",
    "       'colorRound4-4', 'colorRound4-5', 'colorRound4-6',\n",
    "       'colorRound5-1', 'colorRound5-2', 'colorRound5-3', 'colorRound5-4',\n",
    "       'colorRound5-5', 'colorRound5-6']\n",
    "blink_labels = ['blink1', 'blink2', 'blink3','blink4', 'blink5']\n",
    "video_labels = ['video-ver1','video-ver2']\n",
    "items_labels = ['thinkOfItems-ver1','thinkOfItems-ver2',]"
   ]
  },
  {
   "cell_type": "code",
   "execution_count": 55,
   "metadata": {},
   "outputs": [],
   "source": [
    "master_df.loc[master_df['label'].isin(math_labels), 'label'] = 'math'\n",
    "master_df.loc[master_df['label'].isin(colour_labels), 'label'] = 'colour'\n",
    "master_df.loc[master_df['label'].isin(blink_labels), 'label'] = 'blink'\n",
    "master_df.loc[master_df['label'].isin(video_labels), 'label'] = 'video'\n",
    "master_df.loc[master_df['label'].isin(items_labels), 'label'] = 'items'"
   ]
  },
  {
   "cell_type": "code",
   "execution_count": 56,
   "metadata": {},
   "outputs": [
    {
     "data": {
      "text/plain": [
       "array(['unlabeled', 'blinkInstruction', 'blink', 'relaxInstruction',\n",
       "       'relax', 'mathInstruction', 'math', 'musicInstruction', 'music',\n",
       "       'videoInstruction', 'video', 'thinkOfItemsInstruction-ver1',\n",
       "       'items', 'colorInstruction1', 'colorInstruction2', 'readyRound1',\n",
       "       'colour', 'readyRound2', 'readyRound4', 'readyRound5',\n",
       "       'thinkOfItemsInstruction-ver2'], dtype=object)"
      ]
     },
     "execution_count": 56,
     "metadata": {},
     "output_type": "execute_result"
    }
   ],
   "source": [
    "master_df.label.unique()"
   ]
  },
  {
   "cell_type": "code",
   "execution_count": 57,
   "metadata": {},
   "outputs": [],
   "source": [
    "useless_labels = ['unlabeled', 'blinkInstruction', 'relaxInstruction',\n",
    "        'mathInstruction', 'musicInstruction',\n",
    "       'videoInstruction', 'thinkOfItemsInstruction-ver1',\n",
    "        'colorInstruction1', 'colorInstruction2', 'readyRound1',\n",
    "        'readyRound2', 'readyRound4', 'readyRound5',\n",
    "       'thinkOfItemsInstruction-ver2']"
   ]
  },
  {
   "cell_type": "code",
   "execution_count": 58,
   "metadata": {},
   "outputs": [],
   "source": [
    "master_label_df = master_df[~master_df['label'].isin(useless_labels)] "
   ]
  },
  {
   "cell_type": "code",
   "execution_count": 59,
   "metadata": {},
   "outputs": [
    {
     "data": {
      "text/plain": [
       "array(['blink', 'relax', 'math', 'music', 'video', 'items', 'colour'],\n",
       "      dtype=object)"
      ]
     },
     "execution_count": 59,
     "metadata": {},
     "output_type": "execute_result"
    }
   ],
   "source": [
    "master_label_df.label.unique()\n",
    "# We have now numbered down our labels into broader \n",
    "# but hopefully more differentiated labels!!!"
   ]
  },
  {
   "cell_type": "code",
   "execution_count": 60,
   "metadata": {
    "scrolled": true
   },
   "outputs": [
    {
     "data": {
      "text/plain": [
       "Unnamed: 0            7406\n",
       "id                    7406\n",
       "indra_time            7406\n",
       "browser_latency       7406\n",
       "reading_time          7406\n",
       "attention_esense      7406\n",
       "meditation_esense     7406\n",
       "eeg_power             7406\n",
       "raw_values            7406\n",
       "signal_quality        7406\n",
       "createdAt             7406\n",
       "updatedAt             7406\n",
       "label                 7406\n",
       "delta                 7406\n",
       "theta                 7406\n",
       "low_alpha             7406\n",
       "high_alpha            7406\n",
       "low_beta              7406\n",
       "high_beta             7406\n",
       "low_gamma             7406\n",
       "mid+gamma             7406\n",
       "Session               7406\n",
       "Seen video before?    7406\n",
       "Chosen color          7406\n",
       "Saw icons?            7406\n",
       "Gender                7406\n",
       "Wear contacts         7406\n",
       "dtype: int64"
      ]
     },
     "execution_count": 60,
     "metadata": {},
     "output_type": "execute_result"
    }
   ],
   "source": [
    "master_label_df.count()\n",
    "# unfortunately our number of records has reduced quite a bit :\\"
   ]
  },
  {
   "cell_type": "code",
   "execution_count": 61,
   "metadata": {},
   "outputs": [
    {
     "name": "stdout",
     "output_type": "stream",
     "text": [
      "Stored 'master_label_df' (DataFrame)\n"
     ]
    }
   ],
   "source": [
    "%store master_label_df"
   ]
  },
  {
   "cell_type": "markdown",
   "metadata": {},
   "source": [
    "# Retry our KNN with new dataset"
   ]
  },
  {
   "cell_type": "code",
   "execution_count": 62,
   "metadata": {},
   "outputs": [],
   "source": [
    "from sklearn.model_selection import train_test_split"
   ]
  },
  {
   "cell_type": "code",
   "execution_count": 63,
   "metadata": {},
   "outputs": [],
   "source": [
    "features = master_label_df.drop(['Unnamed: 0', 'id', 'indra_time','reading_time', 'browser_latency', 'eeg_power', 'raw_values',\n",
    "       'signal_quality', 'createdAt', 'updatedAt', 'Session', 'Seen video before?', 'Chosen color',\n",
    "       'Saw icons?', 'Gender', 'Wear contacts','label'], axis = 1)\n",
    "X_train, X_test, y_train, y_test = train_test_split(features,master_label_df['label'],\n",
    "                                                    test_size=0.30)"
   ]
  },
  {
   "cell_type": "code",
   "execution_count": 64,
   "metadata": {},
   "outputs": [
    {
     "data": {
      "text/plain": [
       "Index(['attention_esense', 'meditation_esense', 'delta', 'theta', 'low_alpha',\n",
       "       'high_alpha', 'low_beta', 'high_beta', 'low_gamma', 'mid+gamma'],\n",
       "      dtype='object')"
      ]
     },
     "execution_count": 64,
     "metadata": {},
     "output_type": "execute_result"
    }
   ],
   "source": [
    "features.columns"
   ]
  },
  {
   "cell_type": "code",
   "execution_count": 65,
   "metadata": {},
   "outputs": [],
   "source": [
    "from sklearn.neighbors import KNeighborsClassifier"
   ]
  },
  {
   "cell_type": "code",
   "execution_count": 66,
   "metadata": {},
   "outputs": [
    {
     "data": {
      "text/plain": [
       "KNeighborsClassifier(algorithm='auto', leaf_size=30, metric='minkowski',\n",
       "                     metric_params=None, n_jobs=None, n_neighbors=5, p=2,\n",
       "                     weights='uniform')"
      ]
     },
     "execution_count": 66,
     "metadata": {},
     "output_type": "execute_result"
    }
   ],
   "source": [
    "knn = KNeighborsClassifier(n_neighbors = 5)\n",
    "knn.fit(X_train,y_train)"
   ]
  },
  {
   "cell_type": "code",
   "execution_count": 67,
   "metadata": {},
   "outputs": [],
   "source": [
    "pred = knn.predict(X_test)"
   ]
  },
  {
   "cell_type": "code",
   "execution_count": 68,
   "metadata": {},
   "outputs": [],
   "source": [
    "from sklearn.metrics import classification_report, confusion_matrix"
   ]
  },
  {
   "cell_type": "code",
   "execution_count": 69,
   "metadata": {},
   "outputs": [
    {
     "name": "stdout",
     "output_type": "stream",
     "text": [
      "[[  7  50   4   6   3   1   5]\n",
      " [ 33 451  56  58  37  40  43]\n",
      " [  7 150  41  19  20  30  18]\n",
      " [ 15 140  28  44  25  16  10]\n",
      " [  9 149  21  24  35  35  16]\n",
      " [  4 143  35  22  21  36  15]\n",
      " [ 10 165  33  21  23  21  27]]\n"
     ]
    }
   ],
   "source": [
    "print(confusion_matrix(y_test,pred))"
   ]
  },
  {
   "cell_type": "code",
   "execution_count": 70,
   "metadata": {},
   "outputs": [
    {
     "name": "stdout",
     "output_type": "stream",
     "text": [
      "              precision    recall  f1-score   support\n",
      "\n",
      "       blink       0.08      0.09      0.09        76\n",
      "      colour       0.36      0.63      0.46       718\n",
      "       items       0.19      0.14      0.16       285\n",
      "        math       0.23      0.16      0.19       278\n",
      "       music       0.21      0.12      0.15       289\n",
      "       relax       0.20      0.13      0.16       276\n",
      "       video       0.20      0.09      0.12       300\n",
      "\n",
      "    accuracy                           0.29      2222\n",
      "   macro avg       0.21      0.19      0.19      2222\n",
      "weighted avg       0.25      0.29      0.25      2222\n",
      "\n"
     ]
    }
   ],
   "source": [
    "print(classification_report(y_test,pred))\n",
    "\n",
    "#Well that was horrible "
   ]
  },
  {
   "cell_type": "markdown",
   "metadata": {},
   "source": [
    "# Optimizing KNN"
   ]
  },
  {
   "cell_type": "code",
   "execution_count": 71,
   "metadata": {},
   "outputs": [],
   "source": [
    "error_rate = []\n",
    "\n",
    "# Will take some time\n",
    "for i in range(1,60):\n",
    "    \n",
    "    knn = KNeighborsClassifier(n_neighbors=i)\n",
    "    knn.fit(X_train,y_train)\n",
    "    pred_i = knn.predict(X_test)\n",
    "    error_rate.append(np.mean(pred_i != y_test))"
   ]
  },
  {
   "cell_type": "code",
   "execution_count": 72,
   "metadata": {},
   "outputs": [
    {
     "data": {
      "text/plain": [
       "Text(0, 0.5, 'Error Rate')"
      ]
     },
     "execution_count": 72,
     "metadata": {},
     "output_type": "execute_result"
    },
    {
     "data": {
      "image/png": "[encoded data removed]",
      "text/plain": [
       "<Figure size 720x432 with 1 Axes>"
      ]
     },
     "metadata": {
      "needs_background": "light"
     },
     "output_type": "display_data"
    }
   ],
   "source": [
    "plt.figure(figsize=(10,6))\n",
    "plt.plot(range(1,60),error_rate,color='blue', linestyle='dashed', marker='o',\n",
    "         markerfacecolor='red', markersize=10)\n",
    "plt.title('Error Rate vs. K Value')\n",
    "plt.xlabel('K')\n",
    "plt.ylabel('Error Rate')"
   ]
  },
  {
   "cell_type": "code",
   "execution_count": 73,
   "metadata": {
    "scrolled": true
   },
   "outputs": [
    {
     "name": "stdout",
     "output_type": "stream",
     "text": [
      "WITH K=40\n",
      "\n",
      "\n",
      "[[  0  71   1   0   0   3   1]\n",
      " [  0 672   7  21   8   9   1]\n",
      " [  0 222  19   8  15  15   6]\n",
      " [  0 223   4  22  18   6   5]\n",
      " [  0 221  10  12  15  26   5]\n",
      " [  0 218  11  11  12  20   4]\n",
      " [  0 254  10  13  12   6   5]]\n",
      "\n",
      "\n",
      "              precision    recall  f1-score   support\n",
      "\n",
      "       blink       0.00      0.00      0.00        76\n",
      "      colour       0.36      0.94      0.52       718\n",
      "       items       0.31      0.07      0.11       285\n",
      "        math       0.25      0.08      0.12       278\n",
      "       music       0.19      0.05      0.08       289\n",
      "       relax       0.24      0.07      0.11       276\n",
      "       video       0.19      0.02      0.03       300\n",
      "\n",
      "    accuracy                           0.34      2222\n",
      "   macro avg       0.22      0.17      0.14      2222\n",
      "weighted avg       0.27      0.34      0.22      2222\n",
      "\n"
     ]
    },
    {
     "name": "stderr",
     "output_type": "stream",
     "text": [
      "C:\\Users\\Seran\\anaconda3\\lib\\site-packages\\sklearn\\metrics\\_classification.py:1272: UndefinedMetricWarning: Precision and F-score are ill-defined and being set to 0.0 in labels with no predicted samples. Use `zero_division` parameter to control this behavior.\n",
      "  _warn_prf(average, modifier, msg_start, len(result))\n"
     ]
    }
   ],
   "source": [
    "#K = 15\n",
    "knn = KNeighborsClassifier(n_neighbors=40)\n",
    "\n",
    "knn.fit(X_train,y_train)\n",
    "pred = knn.predict(X_test)\n",
    "\n",
    "print('WITH K=40')\n",
    "print('\\n')\n",
    "print(confusion_matrix(y_test,pred))\n",
    "print('\\n')\n",
    "print(classification_report(y_test,pred))\n",
    "\n",
    "#little higher accuracy but still really bad "
   ]
  },
  {
   "cell_type": "markdown",
   "metadata": {},
   "source": [
    "# Retry with Just Wavelengths"
   ]
  },
  {
   "cell_type": "code",
   "execution_count": 74,
   "metadata": {},
   "outputs": [],
   "source": [
    "features = master_label_df.drop(['Unnamed: 0', 'id', 'indra_time','reading_time', 'browser_latency', 'eeg_power', 'raw_values',\n",
    "       'signal_quality', 'createdAt', 'updatedAt', 'Session', 'Seen video before?', 'Chosen color',\n",
    "       'Saw icons?', 'Gender', 'Wear contacts','label','attention_esense','meditation_esense'], axis = 1)\n",
    "X_train, X_test, y_train, y_test = train_test_split(features,master_label_df['label'], test_size=0.30)"
   ]
  },
  {
   "cell_type": "code",
   "execution_count": 75,
   "metadata": {},
   "outputs": [
    {
     "name": "stdout",
     "output_type": "stream",
     "text": [
      "              precision    recall  f1-score   support\n",
      "\n",
      "       blink       0.12      0.12      0.12        68\n",
      "      colour       0.39      0.65      0.49       741\n",
      "       items       0.19      0.14      0.16       290\n",
      "        math       0.19      0.16      0.17       252\n",
      "       music       0.20      0.13      0.16       278\n",
      "       relax       0.17      0.09      0.12       298\n",
      "       video       0.15      0.06      0.09       295\n",
      "\n",
      "    accuracy                           0.30      2222\n",
      "   macro avg       0.20      0.19      0.19      2222\n",
      "weighted avg       0.25      0.30      0.25      2222\n",
      "\n"
     ]
    }
   ],
   "source": [
    "knn = KNeighborsClassifier(n_neighbors = 5)\n",
    "knn.fit(X_train,y_train)\n",
    "pred = knn.predict(X_test)\n",
    "print(classification_report(y_test,pred))"
   ]
  },
  {
   "cell_type": "markdown",
   "metadata": {},
   "source": [
    "Even Worse"
   ]
  },
  {
   "cell_type": "markdown",
   "metadata": {},
   "source": [
    "# Plot  Different Labels on Graph"
   ]
  },
  {
   "cell_type": "code",
   "execution_count": 76,
   "metadata": {},
   "outputs": [
    {
     "data": {
      "text/plain": [
       "Index(['Unnamed: 0', 'id', 'indra_time', 'browser_latency', 'reading_time',\n",
       "       'attention_esense', 'meditation_esense', 'eeg_power', 'raw_values',\n",
       "       'signal_quality', 'createdAt', 'updatedAt', 'label', 'delta', 'theta',\n",
       "       'low_alpha', 'high_alpha', 'low_beta', 'high_beta', 'low_gamma',\n",
       "       'mid+gamma', 'Session', 'Seen video before?', 'Chosen color',\n",
       "       'Saw icons?', 'Gender', 'Wear contacts'],\n",
       "      dtype='object')"
      ]
     },
     "execution_count": 76,
     "metadata": {},
     "output_type": "execute_result"
    }
   ],
   "source": [
    "#let's visualize the differences in the labels \n",
    "master_label_df.columns"
   ]
  },
  {
   "cell_type": "code",
   "execution_count": 77,
   "metadata": {},
   "outputs": [],
   "source": [
    "master_time = master_label_df.drop(['Unnamed: 0','reading_time', 'browser_latency', 'eeg_power', 'raw_values',\n",
    "       'signal_quality', 'createdAt', 'updatedAt', 'Session', 'Seen video before?', 'Chosen color',\n",
    "       'Saw icons?', 'Gender', 'Wear contacts'], axis = 1)"
   ]
  },
  {
   "cell_type": "code",
   "execution_count": 78,
   "metadata": {},
   "outputs": [
    {
     "data": {
      "text/plain": [
       "Index(['id', 'indra_time', 'attention_esense', 'meditation_esense', 'label',\n",
       "       'delta', 'theta', 'low_alpha', 'high_alpha', 'low_beta', 'high_beta',\n",
       "       'low_gamma', 'mid+gamma'],\n",
       "      dtype='object')"
      ]
     },
     "execution_count": 78,
     "metadata": {},
     "output_type": "execute_result"
    }
   ],
   "source": [
    "master_time.columns\n",
    "#we are going to plot each wave as a time seriesto look for visual differences"
   ]
  },
  {
   "cell_type": "code",
   "execution_count": 79,
   "metadata": {},
   "outputs": [
    {
     "data": {
      "text/html": [
       "<div>\n",
       "<style scoped>\n",
       "    .dataframe tbody tr th:only-of-type {\n",
       "        vertical-align: middle;\n",
       "    }\n",
       "\n",
       "    .dataframe tbody tr th {\n",
       "        vertical-align: top;\n",
       "    }\n",
       "\n",
       "    .dataframe thead th {\n",
       "        text-align: right;\n",
       "    }\n",
       "</style>\n",
       "<table border=\"1\" class=\"dataframe\">\n",
       "  <thead>\n",
       "    <tr style=\"text-align: right;\">\n",
       "      <th></th>\n",
       "      <th>id</th>\n",
       "      <th>indra_time</th>\n",
       "      <th>attention_esense</th>\n",
       "      <th>meditation_esense</th>\n",
       "      <th>label</th>\n",
       "      <th>delta</th>\n",
       "      <th>theta</th>\n",
       "      <th>low_alpha</th>\n",
       "      <th>high_alpha</th>\n",
       "      <th>low_beta</th>\n",
       "      <th>high_beta</th>\n",
       "      <th>low_gamma</th>\n",
       "      <th>mid+gamma</th>\n",
       "    </tr>\n",
       "  </thead>\n",
       "  <tbody>\n",
       "    <tr>\n",
       "      <th>677</th>\n",
       "      <td>8</td>\n",
       "      <td>2015-05-09 23:32:41.663</td>\n",
       "      <td>64</td>\n",
       "      <td>67</td>\n",
       "      <td>blink</td>\n",
       "      <td>741016.0</td>\n",
       "      <td>1068203.0</td>\n",
       "      <td>253428.0</td>\n",
       "      <td>112710.0</td>\n",
       "      <td>171571.0</td>\n",
       "      <td>138093.0</td>\n",
       "      <td>19539.0</td>\n",
       "      <td>13687.0</td>\n",
       "    </tr>\n",
       "    <tr>\n",
       "      <th>678</th>\n",
       "      <td>8</td>\n",
       "      <td>2015-05-09 23:32:42.571</td>\n",
       "      <td>80</td>\n",
       "      <td>83</td>\n",
       "      <td>blink</td>\n",
       "      <td>9416.0</td>\n",
       "      <td>13022.0</td>\n",
       "      <td>18955.0</td>\n",
       "      <td>15597.0</td>\n",
       "      <td>8903.0</td>\n",
       "      <td>20473.0</td>\n",
       "      <td>5763.0</td>\n",
       "      <td>7271.0</td>\n",
       "    </tr>\n",
       "    <tr>\n",
       "      <th>679</th>\n",
       "      <td>8</td>\n",
       "      <td>2015-05-09 23:32:43.481</td>\n",
       "      <td>90</td>\n",
       "      <td>90</td>\n",
       "      <td>blink</td>\n",
       "      <td>116550.0</td>\n",
       "      <td>7062.0</td>\n",
       "      <td>10241.0</td>\n",
       "      <td>2245.0</td>\n",
       "      <td>4162.0</td>\n",
       "      <td>6597.0</td>\n",
       "      <td>1435.0</td>\n",
       "      <td>4858.0</td>\n",
       "    </tr>\n",
       "    <tr>\n",
       "      <th>680</th>\n",
       "      <td>8</td>\n",
       "      <td>2015-05-09 23:32:44.698</td>\n",
       "      <td>93</td>\n",
       "      <td>83</td>\n",
       "      <td>blink</td>\n",
       "      <td>13884.0</td>\n",
       "      <td>5769.0</td>\n",
       "      <td>8625.0</td>\n",
       "      <td>1837.0</td>\n",
       "      <td>6221.0</td>\n",
       "      <td>22838.0</td>\n",
       "      <td>11360.0</td>\n",
       "      <td>13625.0</td>\n",
       "    </tr>\n",
       "    <tr>\n",
       "      <th>681</th>\n",
       "      <td>8</td>\n",
       "      <td>2015-05-09 23:32:45.609</td>\n",
       "      <td>91</td>\n",
       "      <td>90</td>\n",
       "      <td>blink</td>\n",
       "      <td>701748.0</td>\n",
       "      <td>51032.0</td>\n",
       "      <td>24760.0</td>\n",
       "      <td>6768.0</td>\n",
       "      <td>3128.0</td>\n",
       "      <td>8376.0</td>\n",
       "      <td>4160.0</td>\n",
       "      <td>3705.0</td>\n",
       "    </tr>\n",
       "    <tr>\n",
       "      <th>...</th>\n",
       "      <td>...</td>\n",
       "      <td>...</td>\n",
       "      <td>...</td>\n",
       "      <td>...</td>\n",
       "      <td>...</td>\n",
       "      <td>...</td>\n",
       "      <td>...</td>\n",
       "      <td>...</td>\n",
       "      <td>...</td>\n",
       "      <td>...</td>\n",
       "      <td>...</td>\n",
       "      <td>...</td>\n",
       "      <td>...</td>\n",
       "    </tr>\n",
       "    <tr>\n",
       "      <th>26443</th>\n",
       "      <td>27</td>\n",
       "      <td>2015-05-09 23:48:48.296</td>\n",
       "      <td>84</td>\n",
       "      <td>29</td>\n",
       "      <td>colour</td>\n",
       "      <td>34004.0</td>\n",
       "      <td>9627.0</td>\n",
       "      <td>3836.0</td>\n",
       "      <td>9513.0</td>\n",
       "      <td>8240.0</td>\n",
       "      <td>80781.0</td>\n",
       "      <td>39374.0</td>\n",
       "      <td>16310.0</td>\n",
       "    </tr>\n",
       "    <tr>\n",
       "      <th>26444</th>\n",
       "      <td>27</td>\n",
       "      <td>2015-05-09 23:48:49.516</td>\n",
       "      <td>74</td>\n",
       "      <td>20</td>\n",
       "      <td>colour</td>\n",
       "      <td>1602302.0</td>\n",
       "      <td>202666.0</td>\n",
       "      <td>40488.0</td>\n",
       "      <td>38347.0</td>\n",
       "      <td>5081.0</td>\n",
       "      <td>26990.0</td>\n",
       "      <td>21178.0</td>\n",
       "      <td>15716.0</td>\n",
       "    </tr>\n",
       "    <tr>\n",
       "      <th>26445</th>\n",
       "      <td>27</td>\n",
       "      <td>2015-05-09 23:48:50.433</td>\n",
       "      <td>67</td>\n",
       "      <td>23</td>\n",
       "      <td>colour</td>\n",
       "      <td>634272.0</td>\n",
       "      <td>336226.0</td>\n",
       "      <td>67494.0</td>\n",
       "      <td>17244.0</td>\n",
       "      <td>8897.0</td>\n",
       "      <td>33338.0</td>\n",
       "      <td>49510.0</td>\n",
       "      <td>12804.0</td>\n",
       "    </tr>\n",
       "    <tr>\n",
       "      <th>26446</th>\n",
       "      <td>27</td>\n",
       "      <td>2015-05-09 23:48:51.346</td>\n",
       "      <td>66</td>\n",
       "      <td>24</td>\n",
       "      <td>colour</td>\n",
       "      <td>109181.0</td>\n",
       "      <td>46985.0</td>\n",
       "      <td>15022.0</td>\n",
       "      <td>17584.0</td>\n",
       "      <td>15259.0</td>\n",
       "      <td>124133.0</td>\n",
       "      <td>19728.0</td>\n",
       "      <td>11153.0</td>\n",
       "    </tr>\n",
       "    <tr>\n",
       "      <th>26447</th>\n",
       "      <td>27</td>\n",
       "      <td>2015-05-09 23:48:52.567</td>\n",
       "      <td>44</td>\n",
       "      <td>43</td>\n",
       "      <td>colour</td>\n",
       "      <td>1357718.0</td>\n",
       "      <td>8132.0</td>\n",
       "      <td>5568.0</td>\n",
       "      <td>5254.0</td>\n",
       "      <td>2544.0</td>\n",
       "      <td>4656.0</td>\n",
       "      <td>1273.0</td>\n",
       "      <td>1726.0</td>\n",
       "    </tr>\n",
       "  </tbody>\n",
       "</table>\n",
       "<p>7406 rows × 13 columns</p>\n",
       "</div>"
      ],
      "text/plain": [
       "       id              indra_time  attention_esense  meditation_esense  \\\n",
       "677     8 2015-05-09 23:32:41.663                64                 67   \n",
       "678     8 2015-05-09 23:32:42.571                80                 83   \n",
       "679     8 2015-05-09 23:32:43.481                90                 90   \n",
       "680     8 2015-05-09 23:32:44.698                93                 83   \n",
       "681     8 2015-05-09 23:32:45.609                91                 90   \n",
       "...    ..                     ...               ...                ...   \n",
       "26443  27 2015-05-09 23:48:48.296                84                 29   \n",
       "26444  27 2015-05-09 23:48:49.516                74                 20   \n",
       "26445  27 2015-05-09 23:48:50.433                67                 23   \n",
       "26446  27 2015-05-09 23:48:51.346                66                 24   \n",
       "26447  27 2015-05-09 23:48:52.567                44                 43   \n",
       "\n",
       "        label      delta      theta  low_alpha  high_alpha  low_beta  \\\n",
       "677     blink   741016.0  1068203.0   253428.0    112710.0  171571.0   \n",
       "678     blink     9416.0    13022.0    18955.0     15597.0    8903.0   \n",
       "679     blink   116550.0     7062.0    10241.0      2245.0    4162.0   \n",
       "680     blink    13884.0     5769.0     8625.0      1837.0    6221.0   \n",
       "681     blink   701748.0    51032.0    24760.0      6768.0    3128.0   \n",
       "...       ...        ...        ...        ...         ...       ...   \n",
       "26443  colour    34004.0     9627.0     3836.0      9513.0    8240.0   \n",
       "26444  colour  1602302.0   202666.0    40488.0     38347.0    5081.0   \n",
       "26445  colour   634272.0   336226.0    67494.0     17244.0    8897.0   \n",
       "26446  colour   109181.0    46985.0    15022.0     17584.0   15259.0   \n",
       "26447  colour  1357718.0     8132.0     5568.0      5254.0    2544.0   \n",
       "\n",
       "       high_beta  low_gamma  mid+gamma  \n",
       "677     138093.0    19539.0    13687.0  \n",
       "678      20473.0     5763.0     7271.0  \n",
       "679       6597.0     1435.0     4858.0  \n",
       "680      22838.0    11360.0    13625.0  \n",
       "681       8376.0     4160.0     3705.0  \n",
       "...          ...        ...        ...  \n",
       "26443    80781.0    39374.0    16310.0  \n",
       "26444    26990.0    21178.0    15716.0  \n",
       "26445    33338.0    49510.0    12804.0  \n",
       "26446   124133.0    19728.0    11153.0  \n",
       "26447     4656.0     1273.0     1726.0  \n",
       "\n",
       "[7406 rows x 13 columns]"
      ]
     },
     "execution_count": 79,
     "metadata": {},
     "output_type": "execute_result"
    }
   ],
   "source": [
    "master_time"
   ]
  },
  {
   "cell_type": "code",
   "execution_count": 80,
   "metadata": {},
   "outputs": [
    {
     "name": "stdout",
     "output_type": "stream",
     "text": [
      "<class 'pandas.core.frame.DataFrame'>\n",
      "Int64Index: 7406 entries, 677 to 26447\n",
      "Data columns (total 13 columns):\n",
      " #   Column             Non-Null Count  Dtype         \n",
      "---  ------             --------------  -----         \n",
      " 0   id                 7406 non-null   int64         \n",
      " 1   indra_time         7406 non-null   datetime64[ns]\n",
      " 2   attention_esense   7406 non-null   int64         \n",
      " 3   meditation_esense  7406 non-null   int64         \n",
      " 4   label              7406 non-null   object        \n",
      " 5   delta              7406 non-null   float64       \n",
      " 6   theta              7406 non-null   float64       \n",
      " 7   low_alpha          7406 non-null   float64       \n",
      " 8   high_alpha         7406 non-null   float64       \n",
      " 9   low_beta           7406 non-null   float64       \n",
      " 10  high_beta          7406 non-null   float64       \n",
      " 11  low_gamma          7406 non-null   float64       \n",
      " 12  mid+gamma          7406 non-null   float64       \n",
      "dtypes: datetime64[ns](1), float64(8), int64(3), object(1)\n",
      "memory usage: 810.0+ KB\n"
     ]
    }
   ],
   "source": [
    "master_time.info()"
   ]
  },
  {
   "cell_type": "code",
   "execution_count": 81,
   "metadata": {},
   "outputs": [],
   "source": [
    "master_time = master_time.set_index('indra_time')\n"
   ]
  },
  {
   "cell_type": "code",
   "execution_count": 82,
   "metadata": {},
   "outputs": [
    {
     "data": {
      "text/html": [
       "<div>\n",
       "<style scoped>\n",
       "    .dataframe tbody tr th:only-of-type {\n",
       "        vertical-align: middle;\n",
       "    }\n",
       "\n",
       "    .dataframe tbody tr th {\n",
       "        vertical-align: top;\n",
       "    }\n",
       "\n",
       "    .dataframe thead th {\n",
       "        text-align: right;\n",
       "    }\n",
       "</style>\n",
       "<table border=\"1\" class=\"dataframe\">\n",
       "  <thead>\n",
       "    <tr style=\"text-align: right;\">\n",
       "      <th></th>\n",
       "      <th>id</th>\n",
       "      <th>attention_esense</th>\n",
       "      <th>meditation_esense</th>\n",
       "      <th>label</th>\n",
       "      <th>delta</th>\n",
       "      <th>theta</th>\n",
       "      <th>low_alpha</th>\n",
       "      <th>high_alpha</th>\n",
       "      <th>low_beta</th>\n",
       "      <th>high_beta</th>\n",
       "      <th>low_gamma</th>\n",
       "      <th>mid+gamma</th>\n",
       "    </tr>\n",
       "    <tr>\n",
       "      <th>indra_time</th>\n",
       "      <th></th>\n",
       "      <th></th>\n",
       "      <th></th>\n",
       "      <th></th>\n",
       "      <th></th>\n",
       "      <th></th>\n",
       "      <th></th>\n",
       "      <th></th>\n",
       "      <th></th>\n",
       "      <th></th>\n",
       "      <th></th>\n",
       "      <th></th>\n",
       "    </tr>\n",
       "  </thead>\n",
       "  <tbody>\n",
       "    <tr>\n",
       "      <th>2015-05-09 23:32:41.663</th>\n",
       "      <td>8</td>\n",
       "      <td>64</td>\n",
       "      <td>67</td>\n",
       "      <td>blink</td>\n",
       "      <td>741016.0</td>\n",
       "      <td>1068203.0</td>\n",
       "      <td>253428.0</td>\n",
       "      <td>112710.0</td>\n",
       "      <td>171571.0</td>\n",
       "      <td>138093.0</td>\n",
       "      <td>19539.0</td>\n",
       "      <td>13687.0</td>\n",
       "    </tr>\n",
       "    <tr>\n",
       "      <th>2015-05-09 23:32:42.571</th>\n",
       "      <td>8</td>\n",
       "      <td>80</td>\n",
       "      <td>83</td>\n",
       "      <td>blink</td>\n",
       "      <td>9416.0</td>\n",
       "      <td>13022.0</td>\n",
       "      <td>18955.0</td>\n",
       "      <td>15597.0</td>\n",
       "      <td>8903.0</td>\n",
       "      <td>20473.0</td>\n",
       "      <td>5763.0</td>\n",
       "      <td>7271.0</td>\n",
       "    </tr>\n",
       "    <tr>\n",
       "      <th>2015-05-09 23:32:43.481</th>\n",
       "      <td>8</td>\n",
       "      <td>90</td>\n",
       "      <td>90</td>\n",
       "      <td>blink</td>\n",
       "      <td>116550.0</td>\n",
       "      <td>7062.0</td>\n",
       "      <td>10241.0</td>\n",
       "      <td>2245.0</td>\n",
       "      <td>4162.0</td>\n",
       "      <td>6597.0</td>\n",
       "      <td>1435.0</td>\n",
       "      <td>4858.0</td>\n",
       "    </tr>\n",
       "    <tr>\n",
       "      <th>2015-05-09 23:32:44.698</th>\n",
       "      <td>8</td>\n",
       "      <td>93</td>\n",
       "      <td>83</td>\n",
       "      <td>blink</td>\n",
       "      <td>13884.0</td>\n",
       "      <td>5769.0</td>\n",
       "      <td>8625.0</td>\n",
       "      <td>1837.0</td>\n",
       "      <td>6221.0</td>\n",
       "      <td>22838.0</td>\n",
       "      <td>11360.0</td>\n",
       "      <td>13625.0</td>\n",
       "    </tr>\n",
       "    <tr>\n",
       "      <th>2015-05-09 23:32:45.609</th>\n",
       "      <td>8</td>\n",
       "      <td>91</td>\n",
       "      <td>90</td>\n",
       "      <td>blink</td>\n",
       "      <td>701748.0</td>\n",
       "      <td>51032.0</td>\n",
       "      <td>24760.0</td>\n",
       "      <td>6768.0</td>\n",
       "      <td>3128.0</td>\n",
       "      <td>8376.0</td>\n",
       "      <td>4160.0</td>\n",
       "      <td>3705.0</td>\n",
       "    </tr>\n",
       "    <tr>\n",
       "      <th>...</th>\n",
       "      <td>...</td>\n",
       "      <td>...</td>\n",
       "      <td>...</td>\n",
       "      <td>...</td>\n",
       "      <td>...</td>\n",
       "      <td>...</td>\n",
       "      <td>...</td>\n",
       "      <td>...</td>\n",
       "      <td>...</td>\n",
       "      <td>...</td>\n",
       "      <td>...</td>\n",
       "      <td>...</td>\n",
       "    </tr>\n",
       "    <tr>\n",
       "      <th>2015-05-09 23:48:48.296</th>\n",
       "      <td>27</td>\n",
       "      <td>84</td>\n",
       "      <td>29</td>\n",
       "      <td>colour</td>\n",
       "      <td>34004.0</td>\n",
       "      <td>9627.0</td>\n",
       "      <td>3836.0</td>\n",
       "      <td>9513.0</td>\n",
       "      <td>8240.0</td>\n",
       "      <td>80781.0</td>\n",
       "      <td>39374.0</td>\n",
       "      <td>16310.0</td>\n",
       "    </tr>\n",
       "    <tr>\n",
       "      <th>2015-05-09 23:48:49.516</th>\n",
       "      <td>27</td>\n",
       "      <td>74</td>\n",
       "      <td>20</td>\n",
       "      <td>colour</td>\n",
       "      <td>1602302.0</td>\n",
       "      <td>202666.0</td>\n",
       "      <td>40488.0</td>\n",
       "      <td>38347.0</td>\n",
       "      <td>5081.0</td>\n",
       "      <td>26990.0</td>\n",
       "      <td>21178.0</td>\n",
       "      <td>15716.0</td>\n",
       "    </tr>\n",
       "    <tr>\n",
       "      <th>2015-05-09 23:48:50.433</th>\n",
       "      <td>27</td>\n",
       "      <td>67</td>\n",
       "      <td>23</td>\n",
       "      <td>colour</td>\n",
       "      <td>634272.0</td>\n",
       "      <td>336226.0</td>\n",
       "      <td>67494.0</td>\n",
       "      <td>17244.0</td>\n",
       "      <td>8897.0</td>\n",
       "      <td>33338.0</td>\n",
       "      <td>49510.0</td>\n",
       "      <td>12804.0</td>\n",
       "    </tr>\n",
       "    <tr>\n",
       "      <th>2015-05-09 23:48:51.346</th>\n",
       "      <td>27</td>\n",
       "      <td>66</td>\n",
       "      <td>24</td>\n",
       "      <td>colour</td>\n",
       "      <td>109181.0</td>\n",
       "      <td>46985.0</td>\n",
       "      <td>15022.0</td>\n",
       "      <td>17584.0</td>\n",
       "      <td>15259.0</td>\n",
       "      <td>124133.0</td>\n",
       "      <td>19728.0</td>\n",
       "      <td>11153.0</td>\n",
       "    </tr>\n",
       "    <tr>\n",
       "      <th>2015-05-09 23:48:52.567</th>\n",
       "      <td>27</td>\n",
       "      <td>44</td>\n",
       "      <td>43</td>\n",
       "      <td>colour</td>\n",
       "      <td>1357718.0</td>\n",
       "      <td>8132.0</td>\n",
       "      <td>5568.0</td>\n",
       "      <td>5254.0</td>\n",
       "      <td>2544.0</td>\n",
       "      <td>4656.0</td>\n",
       "      <td>1273.0</td>\n",
       "      <td>1726.0</td>\n",
       "    </tr>\n",
       "  </tbody>\n",
       "</table>\n",
       "<p>7406 rows × 12 columns</p>\n",
       "</div>"
      ],
      "text/plain": [
       "                         id  attention_esense  meditation_esense   label  \\\n",
       "indra_time                                                                 \n",
       "2015-05-09 23:32:41.663   8                64                 67   blink   \n",
       "2015-05-09 23:32:42.571   8                80                 83   blink   \n",
       "2015-05-09 23:32:43.481   8                90                 90   blink   \n",
       "2015-05-09 23:32:44.698   8                93                 83   blink   \n",
       "2015-05-09 23:32:45.609   8                91                 90   blink   \n",
       "...                      ..               ...                ...     ...   \n",
       "2015-05-09 23:48:48.296  27                84                 29  colour   \n",
       "2015-05-09 23:48:49.516  27                74                 20  colour   \n",
       "2015-05-09 23:48:50.433  27                67                 23  colour   \n",
       "2015-05-09 23:48:51.346  27                66                 24  colour   \n",
       "2015-05-09 23:48:52.567  27                44                 43  colour   \n",
       "\n",
       "                             delta      theta  low_alpha  high_alpha  \\\n",
       "indra_time                                                             \n",
       "2015-05-09 23:32:41.663   741016.0  1068203.0   253428.0    112710.0   \n",
       "2015-05-09 23:32:42.571     9416.0    13022.0    18955.0     15597.0   \n",
       "2015-05-09 23:32:43.481   116550.0     7062.0    10241.0      2245.0   \n",
       "2015-05-09 23:32:44.698    13884.0     5769.0     8625.0      1837.0   \n",
       "2015-05-09 23:32:45.609   701748.0    51032.0    24760.0      6768.0   \n",
       "...                            ...        ...        ...         ...   \n",
       "2015-05-09 23:48:48.296    34004.0     9627.0     3836.0      9513.0   \n",
       "2015-05-09 23:48:49.516  1602302.0   202666.0    40488.0     38347.0   \n",
       "2015-05-09 23:48:50.433   634272.0   336226.0    67494.0     17244.0   \n",
       "2015-05-09 23:48:51.346   109181.0    46985.0    15022.0     17584.0   \n",
       "2015-05-09 23:48:52.567  1357718.0     8132.0     5568.0      5254.0   \n",
       "\n",
       "                         low_beta  high_beta  low_gamma  mid+gamma  \n",
       "indra_time                                                          \n",
       "2015-05-09 23:32:41.663  171571.0   138093.0    19539.0    13687.0  \n",
       "2015-05-09 23:32:42.571    8903.0    20473.0     5763.0     7271.0  \n",
       "2015-05-09 23:32:43.481    4162.0     6597.0     1435.0     4858.0  \n",
       "2015-05-09 23:32:44.698    6221.0    22838.0    11360.0    13625.0  \n",
       "2015-05-09 23:32:45.609    3128.0     8376.0     4160.0     3705.0  \n",
       "...                           ...        ...        ...        ...  \n",
       "2015-05-09 23:48:48.296    8240.0    80781.0    39374.0    16310.0  \n",
       "2015-05-09 23:48:49.516    5081.0    26990.0    21178.0    15716.0  \n",
       "2015-05-09 23:48:50.433    8897.0    33338.0    49510.0    12804.0  \n",
       "2015-05-09 23:48:51.346   15259.0   124133.0    19728.0    11153.0  \n",
       "2015-05-09 23:48:52.567    2544.0     4656.0     1273.0     1726.0  \n",
       "\n",
       "[7406 rows x 12 columns]"
      ]
     },
     "execution_count": 82,
     "metadata": {},
     "output_type": "execute_result"
    }
   ],
   "source": [
    "master_time"
   ]
  },
  {
   "cell_type": "code",
   "execution_count": 83,
   "metadata": {
    "scrolled": true
   },
   "outputs": [
    {
     "data": {
      "text/plain": [
       "array([ 8, 12,  5,  2,  4, 14,  9, 15, 13, 10,  6,  3, 11,  1,  7, 24, 25,\n",
       "       20, 28, 30, 26, 22, 16, 17, 23, 19, 29, 18, 21, 27], dtype=int64)"
      ]
     },
     "execution_count": 83,
     "metadata": {},
     "output_type": "execute_result"
    }
   ],
   "source": [
    "master_time.id.unique()"
   ]
  },
  {
   "cell_type": "code",
   "execution_count": 84,
   "metadata": {},
   "outputs": [
    {
     "name": "stdout",
     "output_type": "stream",
     "text": [
      "Stored 'master_time' (DataFrame)\n"
     ]
    }
   ],
   "source": [
    "%store master_time"
   ]
  },
  {
   "cell_type": "markdown",
   "metadata": {},
   "source": [
    "# Visualize Data as Time Series"
   ]
  },
  {
   "cell_type": "code",
   "execution_count": 85,
   "metadata": {},
   "outputs": [
    {
     "data": {
      "text/plain": [
       "<matplotlib.axes._subplots.AxesSubplot at 0x14dd213ac08>"
      ]
     },
     "execution_count": 85,
     "metadata": {},
     "output_type": "execute_result"
    },
    {
     "data": {
      "image/png": "[encoded data removed]",
      "text/plain": [
       "<Figure size 792x288 with 1 Axes>"
      ]
     },
     "metadata": {},
     "output_type": "display_data"
    }
   ],
   "source": [
    "sns.set(rc={'figure.figsize':(11, 4)})\n",
    "master_time['attention_esense'].plot(linewidth = 0.5)\n",
    "#master_time['delta'].plot(linewidth = 0.5)\n"
   ]
  },
  {
   "cell_type": "code",
   "execution_count": 97,
   "metadata": {
    "scrolled": true
   },
   "outputs": [
    {
     "name": "stderr",
     "output_type": "stream",
     "text": [
      "C:\\Users\\Seran\\anaconda3\\lib\\site-packages\\ipykernel_launcher.py:22: UserWarning: Tight layout not applied. tight_layout cannot make axes height small enough to accommodate all axes decorations\n"
     ]
    },
    {
     "data": {
      "image/png": "[encoded data removed]",
      "text/plain": [
       "<Figure size 792x288 with 8 Axes>"
      ]
     },
     "metadata": {},
     "output_type": "display_data"
    }
   ],
   "source": [
    "fig, axes = plt.subplots(nrows=2, ncols=2)\n",
    "# master_time['attention_esense'].plot(linewidth = 0.5, ax = axes[0,0])\n",
    "# axes[0,0].set_title('attention_esense')\n",
    "# master_time['meditation_esense'].plot(linewidth = 0.5, ax = axes[0,1])\n",
    "# axes[0,0].set_title('attention_esense')\n",
    "master_time['delta'].plot(linewidth = 1, ax = axes[0,0])\n",
    "axes[0,0].set_title('delta')\n",
    "master_time['theta'].plot(linewidth = 1, ax = axes[1,0])\n",
    "axes[1,0].set_title('theta')\n",
    "master_time['low_alpha'].plot(linewidth = 1, ax = axes[2,0])\n",
    "axes[2,0].set_title('low alpha')\n",
    "master_time['high_alpha'].plot(linewidth = 1, ax = axes[3,0])\n",
    "axes[3,0].set_title('high alpha')\n",
    "master_time['low_beta'].plot(linewidth = 1, ax = axes[0,1])\n",
    "axes[0,1].set_title('low beta')\n",
    "master_time['high_beta'].plot(linewidth = 1, ax = axes[1,1])\n",
    "axes[1,1].set_title('high beta')\n",
    "master_time['low_gamma'].plot(linewidth = 1, ax = axes[2,1])\n",
    "axes[2,1].set_title('low gamma')\n",
    "master_time['mid+gamma'].plot(linewidth = 1, ax = axes[3,1])\n",
    "axes[3,1].set_title('mid+ gamma')\n",
    "fig.tight_layout(pad = 3.0)"
   ]
  },
  {
   "cell_type": "code",
   "execution_count": 100,
   "metadata": {},
   "outputs": [
    {
     "data": {
      "image/png": "[encoded data removed]",
      "text/plain": [
       "<Figure size 792x288 with 4 Axes>"
      ]
     },
     "metadata": {},
     "output_type": "display_data"
    }
   ],
   "source": [
    "fig, axes = plt.subplots(nrows=2, ncols=2)\n",
    "# master_time['delta'].plot(linewidth = 1, ax = axes[0,0])\n",
    "# axes[0,0].set_title('delta')\n",
    "# master_time['theta'].plot(linewidth = 1, ax = axes[1,0])\n",
    "# axes[1,0].set_title('theta')\n",
    "# master_time['low_alpha'].plot(linewidth = 1, ax = axes[0,1])\n",
    "# axes[0,1].set_title('low alpha')\n",
    "# master_time['high_alpha'].plot(linewidth = 1, ax = axes[1,1])\n",
    "# axes[1,1].set_title('high alpha')\n",
    "master_time['low_beta'].plot(linewidth = 1, ax = axes[0,0])\n",
    "axes[0,0].set_title('low beta')\n",
    "master_time['high_beta'].plot(linewidth = 1, ax = axes[1,0])\n",
    "axes[1,0].set_title('high beta')\n",
    "master_time['low_gamma'].plot(linewidth = 1, ax = axes[0,1])\n",
    "axes[0,1].set_title('low gamma')\n",
    "master_time['mid+gamma'].plot(linewidth = 1, ax = axes[1,1])\n",
    "axes[1,1].set_title('mid+ gamma')\n",
    "fig.tight_layout()"
   ]
  },
  {
   "cell_type": "markdown",
   "metadata": {},
   "source": [
    "# Look at just one subject accuracy"
   ]
  },
  {
   "cell_type": "code",
   "execution_count": 140,
   "metadata": {
    "scrolled": true
   },
   "outputs": [
    {
     "data": {
      "text/plain": [
       "array(['blink', 'relax', 'math', 'music', 'video', 'items', 'colour'],\n",
       "      dtype=object)"
      ]
     },
     "execution_count": 140,
     "metadata": {},
     "output_type": "execute_result"
    }
   ],
   "source": [
    "time_1 = master_time.loc[master_time['id'] == 1]\n",
    "time_1.label.unique()"
   ]
  },
  {
   "cell_type": "code",
   "execution_count": 121,
   "metadata": {},
   "outputs": [
    {
     "data": {
      "text/plain": [
       "<matplotlib.axes._subplots.AxesSubplot at 0x22ebee92e48>"
      ]
     },
     "execution_count": 121,
     "metadata": {},
     "output_type": "execute_result"
    },
    {
     "data": {
      "image/png": "[encoded data removed]",
      "text/plain": [
       "<Figure size 792x288 with 10 Axes>"
      ]
     },
     "metadata": {},
     "output_type": "display_data"
    }
   ],
   "source": [
    "ig, axes = plt.subplots(nrows=5, ncols=2)\n",
    "time_1['attention_esense'].plot(linewidth = 0.5, ax = axes[0,0])\n",
    "time_1['meditation_esense'].plot(linewidth = 0.5, ax = axes[0,1])\n",
    "time_1['delta'].plot(linewidth = 0.5, ax = axes[1,0])\n",
    "time_1['theta'].plot(linewidth = 0.5, ax = axes[2,0])\n",
    "time_1['low_alpha'].plot(linewidth = 0.5, ax = axes[3,0])\n",
    "time_1['high_alpha'].plot(linewidth = 0.5, ax = axes[4,0])\n",
    "time_1['low_beta'].plot(linewidth = 0.5, ax = axes[1,1])\n",
    "time_1['high_beta'].plot(linewidth = 0.5, ax = axes[2,1])\n",
    "time_1['low_gamma'].plot(linewidth = 0.5, ax = axes[3,1])\n",
    "time_1['mid+gamma'].plot(linewidth = 0.5, ax = axes[4,1], colormap = 'coolwarm')\n"
   ]
  },
  {
   "cell_type": "code",
   "execution_count": 122,
   "metadata": {},
   "outputs": [
    {
     "data": {
      "text/plain": [
       "<matplotlib.axes._subplots.AxesSubplot at 0x22ebaa914c8>"
      ]
     },
     "execution_count": 122,
     "metadata": {},
     "output_type": "execute_result"
    },
    {
     "data": {
      "image/png": "[encoded data removed]",
      "text/plain": [
       "<Figure size 792x288 with 10 Axes>"
      ]
     },
     "metadata": {},
     "output_type": "display_data"
    }
   ],
   "source": [
    "time_2 = master_time.loc[master_time['id'] == 2]\n",
    "ig, axes = plt.subplots(nrows=5, ncols=2)\n",
    "time_2['attention_esense'].plot(linewidth = 0.5, ax = axes[0,0])\n",
    "time_2['meditation_esense'].plot(linewidth = 0.5, ax = axes[0,1])\n",
    "time_2['delta'].plot(linewidth = 0.5, ax = axes[1,0])\n",
    "time_2['theta'].plot(linewidth = 0.5, ax = axes[2,0])\n",
    "time_2['low_alpha'].plot(linewidth = 0.5, ax = axes[3,0])\n",
    "time_2['high_alpha'].plot(linewidth = 0.5, ax = axes[4,0])\n",
    "time_2['low_beta'].plot(linewidth = 0.5, ax = axes[1,1])\n",
    "time_2['high_beta'].plot(linewidth = 0.5, ax = axes[2,1])\n",
    "time_2['low_gamma'].plot(linewidth = 0.5, ax = axes[3,1])\n",
    "time_2['mid+gamma'].plot(linewidth = 0.5, ax = axes[4,1], colormap = 'coolwarm')"
   ]
  },
  {
   "cell_type": "markdown",
   "metadata": {},
   "source": [
    "Just based on the above two subjects you can see that the EEGs are significantly different across the same activities. But at the same time you can see that there are similar peaks and troughs across them. This may indicate that we might need to try and classify on a subject by subject level because the EEGs don't correlate across people. Especially not with sample sizes as low as this. "
   ]
  },
  {
   "cell_type": "code",
   "execution_count": 142,
   "metadata": {},
   "outputs": [],
   "source": [
    "from sklearn.model_selection import train_test_split, KFold, cross_val_score\n",
    "from sklearn.neighbors import KNeighborsClassifier\n",
    "from sklearn.metrics import classification_report, confusion_matrix, accuracy_score\n",
    "knn = KNeighborsClassifier(n_neighbors=5)"
   ]
  },
  {
   "cell_type": "code",
   "execution_count": 137,
   "metadata": {},
   "outputs": [
    {
     "name": "stdout",
     "output_type": "stream",
     "text": [
      "Subject 1 Results with accuracy of 0.333 \n",
      "\n",
      "              precision    recall  f1-score   support\n",
      "\n",
      "       blink       0.00      0.00      0.00         2\n",
      "      colour       0.45      0.58      0.51        26\n",
      "       items       0.17      0.14      0.15         7\n",
      "        math       0.36      0.45      0.40        11\n",
      "       music       0.10      0.12      0.11         8\n",
      "       relax       0.25      0.29      0.27         7\n",
      "       video       0.00      0.00      0.00        11\n",
      "\n",
      "    accuracy                           0.33        72\n",
      "   macro avg       0.19      0.23      0.21        72\n",
      "weighted avg       0.27      0.33      0.30        72\n",
      "\n",
      "Subject 2 Results with accuracy of 0.329 \n",
      "\n",
      "              precision    recall  f1-score   support\n",
      "\n",
      "       blink       0.00      0.00      0.00         2\n",
      "      colour       0.42      0.68      0.52        25\n",
      "       items       0.50      0.18      0.27        11\n",
      "        math       0.15      0.22      0.18         9\n",
      "       music       0.33      0.29      0.31         7\n",
      "       relax       0.14      0.11      0.12         9\n",
      "       video       0.00      0.00      0.00        10\n",
      "\n",
      "    accuracy                           0.33        73\n",
      "   macro avg       0.22      0.21      0.20        73\n",
      "weighted avg       0.29      0.33      0.29        73\n",
      "\n",
      "Subject 3 Results with accuracy of 0.28 \n",
      "\n",
      "              precision    recall  f1-score   support\n",
      "\n",
      "       blink       0.00      0.00      0.00         0\n",
      "      colour       0.39      0.57      0.46        28\n",
      "       items       0.00      0.00      0.00        10\n",
      "        math       0.30      0.38      0.33         8\n",
      "       music       0.14      0.33      0.20         3\n",
      "       relax       0.00      0.00      0.00        12\n",
      "       video       0.20      0.07      0.11        14\n",
      "\n",
      "    accuracy                           0.28        75\n",
      "   macro avg       0.15      0.19      0.16        75\n",
      "weighted avg       0.22      0.28      0.24        75\n",
      "\n",
      "Subject 4 Results with accuracy of 0.319 \n",
      "\n",
      "              precision    recall  f1-score   support\n",
      "\n",
      "       blink       0.00      0.00      0.00         2\n",
      "      colour       0.37      0.71      0.48        21\n",
      "       items       0.50      0.09      0.15        11\n",
      "        math       0.50      0.18      0.27        11\n",
      "       music       0.20      0.29      0.24         7\n",
      "       relax       0.20      0.14      0.17         7\n",
      "       video       0.33      0.15      0.21        13\n",
      "\n",
      "    accuracy                           0.32        72\n",
      "   macro avg       0.30      0.22      0.22        72\n",
      "weighted avg       0.36      0.32      0.28        72\n",
      "\n",
      "Subject 5 Results with accuracy of 0.375 \n",
      "\n",
      "              precision    recall  f1-score   support\n",
      "\n",
      "       blink       0.50      1.00      0.67         1\n",
      "      colour       0.55      0.63      0.59        27\n",
      "       items       0.38      0.45      0.42        11\n",
      "        math       0.20      0.33      0.25         6\n",
      "       music       0.00      0.00      0.00         8\n",
      "       relax       0.20      0.17      0.18         6\n",
      "       video       0.17      0.08      0.11        13\n",
      "\n",
      "    accuracy                           0.38        72\n",
      "   macro avg       0.29      0.38      0.32        72\n",
      "weighted avg       0.33      0.38      0.35        72\n",
      "\n",
      "Subject 6 Results with accuracy of 0.208 \n",
      "\n",
      "              precision    recall  f1-score   support\n",
      "\n",
      "       blink       0.00      0.00      0.00         3\n",
      "      colour       0.28      0.67      0.39        18\n",
      "       items       0.14      0.08      0.11        12\n",
      "        math       0.14      0.09      0.11        11\n",
      "       music       0.20      0.14      0.17         7\n",
      "       relax       0.00      0.00      0.00        11\n",
      "       video       0.00      0.00      0.00        10\n",
      "\n",
      "    accuracy                           0.21        72\n",
      "   macro avg       0.11      0.14      0.11        72\n",
      "weighted avg       0.13      0.21      0.15        72\n",
      "\n",
      "Subject 7 Results with accuracy of 0.361 \n",
      "\n",
      "              precision    recall  f1-score   support\n",
      "\n",
      "       blink       0.00      0.00      0.00         3\n",
      "      colour       0.42      0.74      0.54        23\n",
      "       items       0.38      0.55      0.44        11\n",
      "        math       0.17      0.25      0.20         8\n",
      "       music       0.00      0.00      0.00        12\n",
      "       relax       0.50      0.14      0.22         7\n",
      "       video       0.00      0.00      0.00         8\n",
      "\n",
      "    accuracy                           0.36        72\n",
      "   macro avg       0.21      0.24      0.20        72\n",
      "weighted avg       0.26      0.36      0.28        72\n",
      "\n",
      "Subject 8 Results with accuracy of 0.347 \n",
      "\n",
      "              precision    recall  f1-score   support\n",
      "\n",
      "       blink       0.00      0.00      0.00         4\n",
      "      colour       0.44      0.77      0.56        26\n",
      "       items       0.08      0.17      0.11         6\n",
      "        math       0.22      0.29      0.25         7\n",
      "       music       0.67      0.40      0.50         5\n",
      "       relax       0.00      0.00      0.00        11\n",
      "       video       0.00      0.00      0.00        13\n",
      "\n",
      "    accuracy                           0.35        72\n",
      "   macro avg       0.20      0.23      0.20        72\n",
      "weighted avg       0.24      0.35      0.27        72\n",
      "\n",
      "Subject 9 Results with accuracy of 0.264 \n",
      "\n",
      "              precision    recall  f1-score   support\n",
      "\n",
      "       blink       0.00      0.00      0.00         3\n",
      "      colour       0.35      0.60      0.44        25\n",
      "       items       0.10      0.17      0.12         6\n",
      "        math       0.33      0.09      0.14        11\n",
      "       music       0.29      0.20      0.24        10\n",
      "       relax       0.00      0.00      0.00         8\n",
      "       video       0.00      0.00      0.00         9\n",
      "\n",
      "    accuracy                           0.26        72\n",
      "   macro avg       0.15      0.15      0.13        72\n",
      "weighted avg       0.22      0.26      0.22        72\n",
      "\n",
      "Subject 10 Results with accuracy of 0.306 \n",
      "\n",
      "              precision    recall  f1-score   support\n",
      "\n",
      "       blink       0.00      0.00      0.00         5\n",
      "      colour       0.38      0.67      0.49        27\n",
      "       items       0.00      0.00      0.00        12\n",
      "        math       0.40      0.33      0.36         6\n",
      "       music       0.17      0.12      0.14         8\n",
      "       relax       0.00      0.00      0.00         6\n",
      "       video       0.25      0.12      0.17         8\n",
      "\n",
      "    accuracy                           0.31        72\n",
      "   macro avg       0.17      0.18      0.17        72\n",
      "weighted avg       0.22      0.31      0.25        72\n",
      "\n",
      "Subject 11 Results with accuracy of 0.431 \n",
      "\n",
      "              precision    recall  f1-score   support\n",
      "\n",
      "       blink       1.00      0.25      0.40         4\n",
      "      colour       0.51      0.85      0.64        27\n",
      "       items       0.00      0.00      0.00         8\n",
      "        math       0.25      0.17      0.20         6\n",
      "       music       0.33      0.10      0.15        10\n",
      "       relax       1.00      0.20      0.33        10\n",
      "       video       0.25      0.43      0.32         7\n",
      "\n",
      "    accuracy                           0.43        72\n",
      "   macro avg       0.48      0.29      0.29        72\n",
      "weighted avg       0.48      0.43      0.38        72\n",
      "\n",
      "Subject 12 Results with accuracy of 0.292 \n",
      "\n",
      "              precision    recall  f1-score   support\n",
      "\n",
      "       blink       0.00      0.00      0.00         3\n",
      "      colour       0.35      0.64      0.45        22\n",
      "       items       0.42      0.83      0.56         6\n",
      "        math       0.12      0.11      0.12         9\n",
      "       music       0.20      0.10      0.13        10\n",
      "       relax       0.00      0.00      0.00        11\n",
      "       video       0.00      0.00      0.00        11\n",
      "\n",
      "    accuracy                           0.29        72\n",
      "   macro avg       0.16      0.24      0.18        72\n",
      "weighted avg       0.19      0.29      0.22        72\n",
      "\n",
      "Subject 13 Results with accuracy of 0.431 \n",
      "\n",
      "              precision    recall  f1-score   support\n",
      "\n",
      "       blink       0.00      0.00      0.00         2\n",
      "      colour       0.50      0.77      0.61        22\n",
      "       items       0.57      0.36      0.44        11\n",
      "        math       0.33      0.17      0.22         6\n",
      "       music       0.42      0.45      0.43        11\n",
      "       relax       0.33      0.23      0.27        13\n",
      "       video       0.20      0.14      0.17         7\n",
      "\n",
      "    accuracy                           0.43        72\n",
      "   macro avg       0.34      0.30      0.31        72\n",
      "weighted avg       0.41      0.43      0.40        72\n",
      "\n",
      "Subject 14 Results with accuracy of 0.25 \n",
      "\n",
      "              precision    recall  f1-score   support\n",
      "\n",
      "       blink       0.00      0.00      0.00         7\n",
      "      colour       0.23      0.50      0.32        18\n",
      "       items       0.25      0.50      0.33        10\n",
      "        math       0.50      0.08      0.13        13\n",
      "       music       0.50      0.25      0.33        12\n",
      "       relax       0.00      0.00      0.00         5\n",
      "       video       0.00      0.00      0.00         7\n",
      "\n",
      "    accuracy                           0.25        72\n",
      "   macro avg       0.21      0.19      0.16        72\n",
      "weighted avg       0.27      0.25      0.20        72\n",
      "\n",
      "Subject 15 Results with accuracy of 0.394 \n",
      "\n",
      "              precision    recall  f1-score   support\n",
      "\n",
      "       blink       0.00      0.00      0.00         2\n",
      "      colour       0.67      0.67      0.67        33\n",
      "       items       0.25      0.33      0.29         9\n",
      "        math       0.17      0.17      0.17         6\n",
      "       music       0.14      0.10      0.12        10\n",
      "       relax       0.00      0.00      0.00         3\n",
      "       video       0.33      0.12      0.18         8\n",
      "\n",
      "    accuracy                           0.39        71\n",
      "   macro avg       0.22      0.20      0.20        71\n",
      "weighted avg       0.41      0.39      0.40        71\n",
      "\n",
      "Subject 16 Results with accuracy of 0.264 \n",
      "\n"
     ]
    },
    {
     "name": "stderr",
     "output_type": "stream",
     "text": [
      "C:\\Users\\Seran\\anaconda3\\lib\\site-packages\\sklearn\\metrics\\_classification.py:1272: UndefinedMetricWarning: Precision and F-score are ill-defined and being set to 0.0 in labels with no predicted samples. Use `zero_division` parameter to control this behavior.\n",
      "  _warn_prf(average, modifier, msg_start, len(result))\n",
      "C:\\Users\\Seran\\anaconda3\\lib\\site-packages\\sklearn\\metrics\\_classification.py:1272: UndefinedMetricWarning: Precision and F-score are ill-defined and being set to 0.0 in labels with no predicted samples. Use `zero_division` parameter to control this behavior.\n",
      "  _warn_prf(average, modifier, msg_start, len(result))\n",
      "C:\\Users\\Seran\\anaconda3\\lib\\site-packages\\sklearn\\metrics\\_classification.py:1272: UndefinedMetricWarning: Recall and F-score are ill-defined and being set to 0.0 in labels with no true samples. Use `zero_division` parameter to control this behavior.\n",
      "  _warn_prf(average, modifier, msg_start, len(result))\n",
      "C:\\Users\\Seran\\anaconda3\\lib\\site-packages\\sklearn\\metrics\\_classification.py:1272: UndefinedMetricWarning: Precision and F-score are ill-defined and being set to 0.0 in labels with no predicted samples. Use `zero_division` parameter to control this behavior.\n",
      "  _warn_prf(average, modifier, msg_start, len(result))\n",
      "C:\\Users\\Seran\\anaconda3\\lib\\site-packages\\sklearn\\metrics\\_classification.py:1272: UndefinedMetricWarning: Precision and F-score are ill-defined and being set to 0.0 in labels with no predicted samples. Use `zero_division` parameter to control this behavior.\n",
      "  _warn_prf(average, modifier, msg_start, len(result))\n",
      "C:\\Users\\Seran\\anaconda3\\lib\\site-packages\\sklearn\\metrics\\_classification.py:1272: UndefinedMetricWarning: Precision and F-score are ill-defined and being set to 0.0 in labels with no predicted samples. Use `zero_division` parameter to control this behavior.\n",
      "  _warn_prf(average, modifier, msg_start, len(result))\n",
      "C:\\Users\\Seran\\anaconda3\\lib\\site-packages\\sklearn\\metrics\\_classification.py:1272: UndefinedMetricWarning: Precision and F-score are ill-defined and being set to 0.0 in labels with no predicted samples. Use `zero_division` parameter to control this behavior.\n",
      "  _warn_prf(average, modifier, msg_start, len(result))\n"
     ]
    },
    {
     "name": "stdout",
     "output_type": "stream",
     "text": [
      "              precision    recall  f1-score   support\n",
      "\n",
      "       blink       0.00      0.00      0.00         2\n",
      "      colour       0.42      0.41      0.41        32\n",
      "       items       0.33      0.12      0.18         8\n",
      "        math       0.12      0.17      0.14         6\n",
      "       music       0.17      0.33      0.22         6\n",
      "       relax       0.00      0.00      0.00         8\n",
      "       video       0.29      0.20      0.24        10\n",
      "\n",
      "    accuracy                           0.26        72\n",
      "   macro avg       0.19      0.18      0.17        72\n",
      "weighted avg       0.29      0.26      0.27        72\n",
      "\n",
      "Subject 17 Results with accuracy of 0.306 \n",
      "\n",
      "              precision    recall  f1-score   support\n",
      "\n",
      "       blink       0.00      0.00      0.00         2\n",
      "      colour       0.33      0.65      0.44        23\n",
      "       items       0.45      0.71      0.56         7\n",
      "        math       0.20      0.12      0.15         8\n",
      "       music       0.00      0.00      0.00        13\n",
      "       relax       0.00      0.00      0.00         7\n",
      "       video       0.50      0.08      0.14        12\n",
      "\n",
      "    accuracy                           0.31        72\n",
      "   macro avg       0.21      0.22      0.18        72\n",
      "weighted avg       0.26      0.31      0.24        72\n",
      "\n",
      "Subject 18 Results with accuracy of 0.347 \n",
      "\n",
      "              precision    recall  f1-score   support\n",
      "\n",
      "       blink       0.00      0.00      0.00         2\n",
      "      colour       0.42      0.62      0.50        26\n",
      "       items       0.40      0.31      0.35        13\n",
      "        math       0.00      0.00      0.00         3\n",
      "       music       0.50      0.18      0.27        11\n",
      "       relax       0.50      0.25      0.33         8\n",
      "       video       0.17      0.11      0.13         9\n",
      "\n",
      "    accuracy                           0.35        72\n",
      "   macro avg       0.28      0.21      0.23        72\n",
      "weighted avg       0.38      0.35      0.34        72\n",
      "\n",
      "Subject 19 Results with accuracy of 0.411 \n",
      "\n",
      "              precision    recall  f1-score   support\n",
      "\n",
      "       blink       0.00      0.00      0.00         1\n",
      "      colour       0.41      0.68      0.51        22\n",
      "       items       0.22      0.40      0.29         5\n",
      "        math       0.47      0.78      0.58         9\n",
      "       music       0.40      0.14      0.21        14\n",
      "       relax       0.60      0.25      0.35        12\n",
      "       video       1.00      0.10      0.18        10\n",
      "\n",
      "    accuracy                           0.41        73\n",
      "   macro avg       0.44      0.34      0.30        73\n",
      "weighted avg       0.51      0.41      0.37        73\n",
      "\n",
      "Subject 20 Results with accuracy of 0.361 \n",
      "\n",
      "              precision    recall  f1-score   support\n",
      "\n",
      "       blink       0.00      0.00      0.00         3\n",
      "      colour       0.45      0.75      0.56        24\n",
      "       items       0.27      0.30      0.29        10\n",
      "        math       0.29      0.25      0.27         8\n",
      "       music       0.12      0.11      0.12         9\n",
      "       relax       0.50      0.22      0.31         9\n",
      "       video       0.00      0.00      0.00         9\n",
      "\n",
      "    accuracy                           0.36        72\n",
      "   macro avg       0.23      0.23      0.22        72\n",
      "weighted avg       0.30      0.36      0.31        72\n",
      "\n",
      "Subject 21 Results with accuracy of 0.417 \n",
      "\n",
      "              precision    recall  f1-score   support\n",
      "\n",
      "       blink       0.00      0.00      0.00         4\n",
      "      colour       0.50      0.84      0.63        25\n",
      "       items       0.43      0.33      0.38         9\n",
      "        math       0.67      0.25      0.36         8\n",
      "       music       0.21      0.38      0.27         8\n",
      "       relax       0.25      0.10      0.14        10\n",
      "       video       0.00      0.00      0.00         8\n",
      "\n",
      "    accuracy                           0.42        72\n",
      "   macro avg       0.29      0.27      0.25        72\n",
      "weighted avg       0.36      0.42      0.36        72\n",
      "\n",
      "Subject 22 Results with accuracy of 0.292 \n",
      "\n",
      "              precision    recall  f1-score   support\n",
      "\n",
      "       blink       0.00      0.00      0.00         2\n",
      "      colour       0.32      0.63      0.43        19\n",
      "       items       0.54      0.54      0.54        13\n",
      "        math       0.09      0.11      0.10         9\n",
      "       music       0.00      0.00      0.00         8\n",
      "       relax       0.00      0.00      0.00         8\n",
      "       video       0.20      0.08      0.11        13\n",
      "\n",
      "    accuracy                           0.29        72\n",
      "   macro avg       0.16      0.19      0.17        72\n",
      "weighted avg       0.23      0.29      0.24        72\n",
      "\n",
      "Subject 23 Results with accuracy of 0.278 \n",
      "\n",
      "              precision    recall  f1-score   support\n",
      "\n",
      "       blink       0.00      0.00      0.00         2\n",
      "      colour       0.58      0.44      0.50        32\n",
      "       items       0.29      0.20      0.24        10\n",
      "        math       0.06      0.20      0.09         5\n",
      "       music       0.00      0.00      0.00        10\n",
      "       relax       0.40      0.33      0.36         6\n",
      "       video       0.12      0.14      0.13         7\n",
      "\n",
      "    accuracy                           0.28        72\n",
      "   macro avg       0.21      0.19      0.19        72\n",
      "weighted avg       0.35      0.28      0.30        72\n",
      "\n",
      "Subject 24 Results with accuracy of 0.347 \n",
      "\n",
      "              precision    recall  f1-score   support\n",
      "\n",
      "       blink       0.00      0.00      0.00         2\n",
      "      colour       0.44      0.60      0.51        25\n",
      "       items       0.33      0.20      0.25        10\n",
      "        math       0.17      0.12      0.14         8\n",
      "       music       0.00      0.00      0.00        11\n",
      "       relax       0.60      0.50      0.55        12\n",
      "       video       0.10      0.25      0.14         4\n",
      "\n",
      "    accuracy                           0.35        72\n",
      "   macro avg       0.23      0.24      0.23        72\n",
      "weighted avg       0.32      0.35      0.33        72\n",
      "\n",
      "Subject 25 Results with accuracy of 0.362 \n",
      "\n",
      "              precision    recall  f1-score   support\n",
      "\n",
      "       blink       0.00      0.00      0.00         1\n",
      "      colour       0.46      0.72      0.56        29\n",
      "       items       0.00      0.00      0.00        10\n",
      "        math       0.00      0.00      0.00        11\n",
      "       music       0.14      0.11      0.12         9\n",
      "       relax       0.38      0.75      0.50         4\n",
      "       video       0.00      0.00      0.00         5\n",
      "\n",
      "    accuracy                           0.36        69\n",
      "   macro avg       0.14      0.23      0.17        69\n",
      "weighted avg       0.23      0.36      0.28        69\n",
      "\n",
      "Subject 26 Results with accuracy of 0.342 \n",
      "\n",
      "              precision    recall  f1-score   support\n",
      "\n",
      "       blink       0.00      0.00      0.00         2\n",
      "      colour       0.47      0.73      0.58        26\n",
      "       items       0.22      0.25      0.24         8\n",
      "        math       0.11      0.09      0.10        11\n",
      "       music       0.50      0.09      0.15        11\n",
      "       relax       0.12      0.17      0.14         6\n",
      "       video       0.20      0.11      0.14         9\n",
      "\n",
      "    accuracy                           0.34        73\n",
      "   macro avg       0.23      0.21      0.19        73\n",
      "weighted avg       0.32      0.34      0.30        73\n",
      "\n",
      "Subject 27 Results with accuracy of 0.333 \n",
      "\n",
      "              precision    recall  f1-score   support\n",
      "\n",
      "       blink       0.00      0.00      0.00         3\n",
      "      colour       0.48      0.58      0.53        26\n",
      "       items       0.19      0.50      0.27         6\n",
      "        math       0.25      0.22      0.24         9\n",
      "       music       0.10      0.17      0.12         6\n",
      "       relax       1.00      0.11      0.20         9\n",
      "       video       0.50      0.15      0.24        13\n",
      "\n",
      "    accuracy                           0.33        72\n",
      "   macro avg       0.36      0.25      0.23        72\n",
      "weighted avg       0.45      0.33      0.32        72\n",
      "\n",
      "Subject 28 Results with accuracy of 0.278 \n",
      "\n",
      "              precision    recall  f1-score   support\n",
      "\n",
      "       blink       0.00      0.00      0.00         1\n",
      "      colour       0.31      0.59      0.41        22\n",
      "       items       0.20      0.12      0.15         8\n",
      "        math       0.12      0.10      0.11        10\n",
      "       music       0.33      0.12      0.18         8\n",
      "       relax       0.50      0.07      0.12        15\n",
      "       video       0.27      0.38      0.32         8\n",
      "\n",
      "    accuracy                           0.28        72\n",
      "   macro avg       0.25      0.20      0.18        72\n",
      "weighted avg       0.31      0.28      0.24        72\n",
      "\n",
      "Subject 29 Results with accuracy of 0.406 \n",
      "\n",
      "              precision    recall  f1-score   support\n",
      "\n",
      "       blink       0.00      0.00      0.00         6\n",
      "      colour       0.43      0.68      0.53        44\n",
      "       items       0.08      0.17      0.11        12\n",
      "        math       0.61      0.73      0.67        15\n",
      "       music       0.15      0.08      0.11        24\n",
      "       relax       0.67      0.27      0.39        22\n",
      "       video       1.00      0.35      0.52        20\n",
      "\n",
      "    accuracy                           0.41       143\n",
      "   macro avg       0.42      0.33      0.33       143\n",
      "weighted avg       0.47      0.41      0.39       143\n",
      "\n"
     ]
    },
    {
     "name": "stderr",
     "output_type": "stream",
     "text": [
      "C:\\Users\\Seran\\anaconda3\\lib\\site-packages\\sklearn\\metrics\\_classification.py:1272: UndefinedMetricWarning: Precision and F-score are ill-defined and being set to 0.0 in labels with no predicted samples. Use `zero_division` parameter to control this behavior.\n",
      "  _warn_prf(average, modifier, msg_start, len(result))\n",
      "C:\\Users\\Seran\\anaconda3\\lib\\site-packages\\sklearn\\metrics\\_classification.py:1272: UndefinedMetricWarning: Precision and F-score are ill-defined and being set to 0.0 in labels with no predicted samples. Use `zero_division` parameter to control this behavior.\n",
      "  _warn_prf(average, modifier, msg_start, len(result))\n",
      "C:\\Users\\Seran\\anaconda3\\lib\\site-packages\\sklearn\\metrics\\_classification.py:1272: UndefinedMetricWarning: Precision and F-score are ill-defined and being set to 0.0 in labels with no predicted samples. Use `zero_division` parameter to control this behavior.\n",
      "  _warn_prf(average, modifier, msg_start, len(result))\n"
     ]
    }
   ],
   "source": [
    "accuracy_list = []\n",
    "for i in range(1,31):\n",
    "    subject = master_time[master_time['id'] == i]\n",
    "    features = subject.drop(['id', 'label'], axis = 1)\n",
    "    X_train, X_test, y_train, y_test = train_test_split(features,subject['label'],\n",
    "                                                    test_size=0.30)\n",
    "    knn.fit(X_train,y_train)\n",
    "    pred = knn.predict(X_test)\n",
    "    accuracy = accuracy_score(y_test, pred)\n",
    "    print(f'Subject {i} Results with accuracy of {round(accuracy,3)} \\n')\n",
    "    print(classification_report(y_test,pred))\n",
    "    accuracy_list.append(accuracy)"
   ]
  },
  {
   "cell_type": "code",
   "execution_count": 139,
   "metadata": {},
   "outputs": [
    {
     "data": {
      "text/plain": [
       "0.33321931424372486"
      ]
     },
     "execution_count": 139,
     "metadata": {},
     "output_type": "execute_result"
    }
   ],
   "source": [
    "# Find average accuracy \n",
    "sum(accuracy_list)/len(accuracy_list)"
   ]
  },
  {
   "cell_type": "markdown",
   "metadata": {},
   "source": [
    "Still horrible accuracy, maybe try with cross validation?"
   ]
  },
  {
   "cell_type": "markdown",
   "metadata": {},
   "source": [
    "## Cross Validation - Per Subject"
   ]
  },
  {
   "cell_type": "code",
   "execution_count": 162,
   "metadata": {},
   "outputs": [
    {
     "name": "stderr",
     "output_type": "stream",
     "text": [
      "C:\\Users\\Seran\\anaconda3\\lib\\site-packages\\sklearn\\model_selection\\_split.py:667: UserWarning: The least populated class in y has only 7 members, which is less than n_splits=10.\n",
      "  % (min_groups, self.n_splits)), UserWarning)\n",
      "C:\\Users\\Seran\\anaconda3\\lib\\site-packages\\sklearn\\model_selection\\_split.py:667: UserWarning: The least populated class in y has only 8 members, which is less than n_splits=10.\n",
      "  % (min_groups, self.n_splits)), UserWarning)\n",
      "C:\\Users\\Seran\\anaconda3\\lib\\site-packages\\sklearn\\model_selection\\_split.py:667: UserWarning: The least populated class in y has only 7 members, which is less than n_splits=10.\n",
      "  % (min_groups, self.n_splits)), UserWarning)\n"
     ]
    },
    {
     "name": "stdout",
     "output_type": "stream",
     "text": [
      "Subject 1 Results with CV accuracy of 0.42228260869565215 \n",
      "\n",
      "[0.33333333 0.375      0.375      0.5        0.54166667 0.54166667\n",
      " 0.41666667 0.41666667 0.375      0.34782609]\n",
      "0.42228260869565215\n",
      "Subject 2 Results with CV accuracy of 0.33016666666666666 \n",
      "\n",
      "[0.36       0.4        0.33333333 0.33333333 0.29166667 0.33333333\n",
      " 0.33333333 0.25       0.20833333 0.45833333]\n",
      "0.33016666666666666\n",
      "Subject 3 Results with CV accuracy of 0.34 \n",
      "\n",
      "[0.2  0.44 0.36 0.36 0.44 0.44 0.4  0.32 0.24 0.2 ]\n",
      "0.34\n",
      "Subject 4 Results with CV accuracy of 0.3666666666666667 \n",
      "\n",
      "[0.41666667 0.45833333 0.45833333 0.5        0.375      0.29166667\n",
      " 0.29166667 0.25       0.20833333 0.41666667]\n",
      "0.3666666666666667\n",
      "Subject 5 Results with CV accuracy of 0.409963768115942 \n",
      "\n",
      "[0.33333333 0.45833333 0.45833333 0.5        0.33333333 0.5\n",
      " 0.29166667 0.45833333 0.375      0.39130435]\n",
      "0.409963768115942\n"
     ]
    },
    {
     "name": "stderr",
     "output_type": "stream",
     "text": [
      "C:\\Users\\Seran\\anaconda3\\lib\\site-packages\\sklearn\\model_selection\\_split.py:667: UserWarning: The least populated class in y has only 7 members, which is less than n_splits=10.\n",
      "  % (min_groups, self.n_splits)), UserWarning)\n",
      "C:\\Users\\Seran\\anaconda3\\lib\\site-packages\\sklearn\\model_selection\\_split.py:667: UserWarning: The least populated class in y has only 8 members, which is less than n_splits=10.\n",
      "  % (min_groups, self.n_splits)), UserWarning)\n",
      "C:\\Users\\Seran\\anaconda3\\lib\\site-packages\\sklearn\\model_selection\\_split.py:667: UserWarning: The least populated class in y has only 8 members, which is less than n_splits=10.\n",
      "  % (min_groups, self.n_splits)), UserWarning)\n",
      "C:\\Users\\Seran\\anaconda3\\lib\\site-packages\\sklearn\\model_selection\\_split.py:667: UserWarning: The least populated class in y has only 8 members, which is less than n_splits=10.\n",
      "  % (min_groups, self.n_splits)), UserWarning)\n"
     ]
    },
    {
     "name": "stdout",
     "output_type": "stream",
     "text": [
      "Subject 6 Results with CV accuracy of 0.3 \n",
      "\n",
      "[0.20833333 0.33333333 0.375      0.25       0.25       0.33333333\n",
      " 0.29166667 0.20833333 0.375      0.375     ]\n",
      "0.3\n",
      "Subject 7 Results with CV accuracy of 0.425 \n",
      "\n",
      "[0.29166667 0.29166667 0.375      0.45833333 0.45833333 0.54166667\n",
      " 0.5        0.45833333 0.45833333 0.41666667]\n",
      "0.425\n",
      "Subject 8 Results with CV accuracy of 0.34057971014492755 \n",
      "\n",
      "[0.45833333 0.375      0.41666667 0.29166667 0.29166667 0.33333333\n",
      " 0.16666667 0.33333333 0.34782609 0.39130435]\n",
      "0.34057971014492755\n",
      "Subject 9 Results with CV accuracy of 0.3291666666666667 \n",
      "\n",
      "[0.33333333 0.33333333 0.375      0.41666667 0.25       0.33333333\n",
      " 0.375      0.25       0.29166667 0.33333333]\n",
      "0.3291666666666667\n",
      "Subject 10 Results with CV accuracy of 0.4208333333333334 \n",
      "\n"
     ]
    },
    {
     "name": "stderr",
     "output_type": "stream",
     "text": [
      "C:\\Users\\Seran\\anaconda3\\lib\\site-packages\\sklearn\\model_selection\\_split.py:667: UserWarning: The least populated class in y has only 8 members, which is less than n_splits=10.\n",
      "  % (min_groups, self.n_splits)), UserWarning)\n",
      "C:\\Users\\Seran\\anaconda3\\lib\\site-packages\\sklearn\\model_selection\\_split.py:667: UserWarning: The least populated class in y has only 8 members, which is less than n_splits=10.\n",
      "  % (min_groups, self.n_splits)), UserWarning)\n",
      "C:\\Users\\Seran\\anaconda3\\lib\\site-packages\\sklearn\\model_selection\\_split.py:667: UserWarning: The least populated class in y has only 8 members, which is less than n_splits=10.\n",
      "  % (min_groups, self.n_splits)), UserWarning)\n",
      "C:\\Users\\Seran\\anaconda3\\lib\\site-packages\\sklearn\\model_selection\\_split.py:667: UserWarning: The least populated class in y has only 8 members, which is less than n_splits=10.\n",
      "  % (min_groups, self.n_splits)), UserWarning)\n",
      "C:\\Users\\Seran\\anaconda3\\lib\\site-packages\\sklearn\\model_selection\\_split.py:667: UserWarning: The least populated class in y has only 7 members, which is less than n_splits=10.\n",
      "  % (min_groups, self.n_splits)), UserWarning)\n"
     ]
    },
    {
     "name": "stdout",
     "output_type": "stream",
     "text": [
      "[0.16666667 0.41666667 0.54166667 0.375      0.41666667 0.375\n",
      " 0.54166667 0.375      0.45833333 0.54166667]\n",
      "0.4208333333333334\n",
      "Subject 11 Results with CV accuracy of 0.3916666666666667 \n",
      "\n",
      "[0.29166667 0.29166667 0.58333333 0.375      0.29166667 0.375\n",
      " 0.41666667 0.41666667 0.41666667 0.45833333]\n",
      "0.3916666666666667\n",
      "Subject 12 Results with CV accuracy of 0.3233695652173913 \n",
      "\n",
      "[0.33333333 0.33333333 0.375      0.25       0.33333333 0.25\n",
      " 0.375      0.375      0.26086957 0.34782609]\n",
      "0.3233695652173913\n",
      "Subject 13 Results with CV accuracy of 0.4833333333333334 \n",
      "\n",
      "[0.375      0.41666667 0.58333333 0.45833333 0.33333333 0.45833333\n",
      " 0.54166667 0.54166667 0.625      0.5       ]\n",
      "0.4833333333333334\n",
      "Subject 14 Results with CV accuracy of 0.34746376811594204 \n",
      "\n",
      "[0.20833333 0.33333333 0.375      0.29166667 0.33333333 0.29166667\n",
      " 0.45833333 0.41666667 0.375      0.39130435]\n",
      "0.34746376811594204\n"
     ]
    },
    {
     "name": "stderr",
     "output_type": "stream",
     "text": [
      "C:\\Users\\Seran\\anaconda3\\lib\\site-packages\\sklearn\\model_selection\\_split.py:667: UserWarning: The least populated class in y has only 8 members, which is less than n_splits=10.\n",
      "  % (min_groups, self.n_splits)), UserWarning)\n",
      "C:\\Users\\Seran\\anaconda3\\lib\\site-packages\\sklearn\\model_selection\\_split.py:667: UserWarning: The least populated class in y has only 8 members, which is less than n_splits=10.\n",
      "  % (min_groups, self.n_splits)), UserWarning)\n",
      "C:\\Users\\Seran\\anaconda3\\lib\\site-packages\\sklearn\\model_selection\\_split.py:667: UserWarning: The least populated class in y has only 7 members, which is less than n_splits=10.\n",
      "  % (min_groups, self.n_splits)), UserWarning)\n",
      "C:\\Users\\Seran\\anaconda3\\lib\\site-packages\\sklearn\\model_selection\\_split.py:667: UserWarning: The least populated class in y has only 7 members, which is less than n_splits=10.\n",
      "  % (min_groups, self.n_splits)), UserWarning)\n"
     ]
    },
    {
     "name": "stdout",
     "output_type": "stream",
     "text": [
      "Subject 15 Results with CV accuracy of 0.35706521739130437 \n",
      "\n",
      "[0.29166667 0.33333333 0.33333333 0.5        0.41666667 0.43478261\n",
      " 0.34782609 0.26086957 0.34782609 0.30434783]\n",
      "0.35706521739130437\n",
      "Subject 16 Results with CV accuracy of 0.3123188405797102 \n",
      "\n",
      "[0.29166667 0.16666667 0.29166667 0.45833333 0.25       0.41666667\n",
      " 0.29166667 0.30434783 0.34782609 0.30434783]\n",
      "0.3123188405797102\n",
      "Subject 17 Results with CV accuracy of 0.35561594202898544 \n",
      "\n",
      "[0.375      0.25       0.375      0.33333333 0.375      0.41666667\n",
      " 0.33333333 0.25       0.5        0.34782609]\n",
      "0.35561594202898544\n",
      "Subject 18 Results with CV accuracy of 0.3976449275362319 \n",
      "\n",
      "[0.33333333 0.375      0.41666667 0.45833333 0.375      0.375\n",
      " 0.5        0.29166667 0.41666667 0.43478261]\n",
      "0.3976449275362319\n"
     ]
    },
    {
     "name": "stderr",
     "output_type": "stream",
     "text": [
      "C:\\Users\\Seran\\anaconda3\\lib\\site-packages\\sklearn\\model_selection\\_split.py:667: UserWarning: The least populated class in y has only 8 members, which is less than n_splits=10.\n",
      "  % (min_groups, self.n_splits)), UserWarning)\n",
      "C:\\Users\\Seran\\anaconda3\\lib\\site-packages\\sklearn\\model_selection\\_split.py:667: UserWarning: The least populated class in y has only 7 members, which is less than n_splits=10.\n",
      "  % (min_groups, self.n_splits)), UserWarning)\n",
      "C:\\Users\\Seran\\anaconda3\\lib\\site-packages\\sklearn\\model_selection\\_split.py:667: UserWarning: The least populated class in y has only 8 members, which is less than n_splits=10.\n",
      "  % (min_groups, self.n_splits)), UserWarning)\n",
      "C:\\Users\\Seran\\anaconda3\\lib\\site-packages\\sklearn\\model_selection\\_split.py:667: UserWarning: The least populated class in y has only 8 members, which is less than n_splits=10.\n",
      "  % (min_groups, self.n_splits)), UserWarning)\n"
     ]
    },
    {
     "name": "stdout",
     "output_type": "stream",
     "text": [
      "Subject 19 Results with CV accuracy of 0.4525 \n",
      "\n",
      "[0.6        0.36       0.44       0.54166667 0.45833333 0.41666667\n",
      " 0.41666667 0.45833333 0.41666667 0.41666667]\n",
      "0.4525\n",
      "Subject 20 Results with CV accuracy of 0.36594202898550726 \n",
      "\n",
      "[0.29166667 0.29166667 0.41666667 0.33333333 0.41666667 0.375\n",
      " 0.375      0.33333333 0.39130435 0.43478261]\n",
      "0.36594202898550726\n",
      "Subject 21 Results with CV accuracy of 0.31068840579710144 \n",
      "\n",
      "[0.41666667 0.29166667 0.33333333 0.29166667 0.20833333 0.33333333\n",
      " 0.33333333 0.33333333 0.2173913  0.34782609]\n",
      "0.31068840579710144\n",
      "Subject 22 Results with CV accuracy of 0.40362318840579714 \n",
      "\n",
      "[0.33333333 0.41666667 0.5        0.5        0.29166667 0.375\n",
      " 0.375      0.375      0.43478261 0.43478261]\n",
      "0.40362318840579714\n"
     ]
    },
    {
     "name": "stderr",
     "output_type": "stream",
     "text": [
      "C:\\Users\\Seran\\anaconda3\\lib\\site-packages\\sklearn\\model_selection\\_split.py:667: UserWarning: The least populated class in y has only 8 members, which is less than n_splits=10.\n",
      "  % (min_groups, self.n_splits)), UserWarning)\n",
      "C:\\Users\\Seran\\anaconda3\\lib\\site-packages\\sklearn\\model_selection\\_split.py:667: UserWarning: The least populated class in y has only 8 members, which is less than n_splits=10.\n",
      "  % (min_groups, self.n_splits)), UserWarning)\n",
      "C:\\Users\\Seran\\anaconda3\\lib\\site-packages\\sklearn\\model_selection\\_split.py:667: UserWarning: The least populated class in y has only 8 members, which is less than n_splits=10.\n",
      "  % (min_groups, self.n_splits)), UserWarning)\n",
      "C:\\Users\\Seran\\anaconda3\\lib\\site-packages\\sklearn\\model_selection\\_split.py:667: UserWarning: The least populated class in y has only 7 members, which is less than n_splits=10.\n",
      "  % (min_groups, self.n_splits)), UserWarning)\n"
     ]
    },
    {
     "name": "stdout",
     "output_type": "stream",
     "text": [
      "Subject 23 Results with CV accuracy of 0.3235507246376811 \n",
      "\n",
      "[0.33333333 0.20833333 0.375      0.33333333 0.33333333 0.41666667\n",
      " 0.33333333 0.25       0.39130435 0.26086957]\n",
      "0.3235507246376811\n",
      "Subject 24 Results with CV accuracy of 0.34094202898550724 \n",
      "\n",
      "[0.33333333 0.20833333 0.29166667 0.33333333 0.33333333 0.375\n",
      " 0.33333333 0.375      0.43478261 0.39130435]\n",
      "0.34094202898550724\n",
      "Subject 25 Results with CV accuracy of 0.3175889328063241 \n",
      "\n",
      "[0.34782609 0.34782609 0.26086957 0.30434783 0.34782609 0.30434783\n",
      " 0.2173913  0.45454545 0.31818182 0.27272727]\n",
      "0.3175889328063241\n",
      "Subject 26 Results with CV accuracy of 0.4111666666666666 \n",
      "\n",
      "[0.32       0.5        0.33333333 0.45833333 0.5        0.375\n",
      " 0.45833333 0.5        0.29166667 0.375     ]\n",
      "0.4111666666666666\n"
     ]
    },
    {
     "name": "stderr",
     "output_type": "stream",
     "text": [
      "C:\\Users\\Seran\\anaconda3\\lib\\site-packages\\sklearn\\model_selection\\_split.py:667: UserWarning: The least populated class in y has only 8 members, which is less than n_splits=10.\n",
      "  % (min_groups, self.n_splits)), UserWarning)\n",
      "C:\\Users\\Seran\\anaconda3\\lib\\site-packages\\sklearn\\model_selection\\_split.py:667: UserWarning: The least populated class in y has only 7 members, which is less than n_splits=10.\n",
      "  % (min_groups, self.n_splits)), UserWarning)\n",
      "C:\\Users\\Seran\\anaconda3\\lib\\site-packages\\sklearn\\model_selection\\_split.py:667: UserWarning: The least populated class in y has only 8 members, which is less than n_splits=10.\n",
      "  % (min_groups, self.n_splits)), UserWarning)\n"
     ]
    },
    {
     "name": "stdout",
     "output_type": "stream",
     "text": [
      "Subject 27 Results with CV accuracy of 0.3295289855072464 \n",
      "\n",
      "[0.29166667 0.375      0.33333333 0.29166667 0.375      0.25\n",
      " 0.29166667 0.43478261 0.30434783 0.34782609]\n",
      "0.3295289855072464\n",
      "Subject 28 Results with CV accuracy of 0.29275362318840575 \n",
      "\n",
      "[0.29166667 0.375      0.29166667 0.29166667 0.45833333 0.25\n",
      " 0.20833333 0.20833333 0.29166667 0.26086957]\n",
      "0.29275362318840575\n",
      "Subject 29 Results with CV accuracy of 0.4264184397163121 \n",
      "\n",
      "[0.375      0.41666667 0.41666667 0.375      0.55319149 0.34042553\n",
      " 0.46808511 0.38297872 0.42553191 0.5106383 ]\n",
      "0.4264184397163121\n",
      "Subject 30 Results with CV accuracy of 0.3458333333333333 \n",
      "\n",
      "[0.33333333 0.25       0.375      0.29166667 0.375      0.33333333\n",
      " 0.375      0.33333333 0.41666667 0.375     ]\n",
      "0.3458333333333333\n"
     ]
    },
    {
     "name": "stderr",
     "output_type": "stream",
     "text": [
      "C:\\Users\\Seran\\anaconda3\\lib\\site-packages\\sklearn\\model_selection\\_split.py:667: UserWarning: The least populated class in y has only 8 members, which is less than n_splits=10.\n",
      "  % (min_groups, self.n_splits)), UserWarning)\n"
     ]
    }
   ],
   "source": [
    "knn = KNeighborsClassifier(n_neighbors=15)\n",
    "accuracy_list = []\n",
    "for i in range(1,31):\n",
    "    subject = master_time[master_time['id'] == i]\n",
    "    features = subject.drop(['id', 'label'], axis = 1)\n",
    "    scores = cross_val_score(knn, features, subject['label'], \n",
    "                             cv = 10, scoring = 'accuracy')  \n",
    "    mean_score = scores.mean()\n",
    "    print(f'Subject {i} Results with CV accuracy of {mean_score} \\n')\n",
    "    print(scores)\n",
    "    print(mean_score)\n",
    "    accuracy_list.append(mean_score)"
   ]
  },
  {
   "cell_type": "code",
   "execution_count": 163,
   "metadata": {},
   "outputs": [
    {
     "data": {
      "text/plain": [
       "0.3657891346396433"
      ]
     },
     "execution_count": 163,
     "metadata": {},
     "output_type": "execute_result"
    }
   ],
   "source": [
    "# Find average accuracy \n",
    "sum(accuracy_list)/len(accuracy_list)"
   ]
  },
  {
   "cell_type": "markdown",
   "metadata": {},
   "source": [
    "It got a little better but not much "
   ]
  },
  {
   "cell_type": "markdown",
   "metadata": {},
   "source": [
    "# Maybe Try Another Classifier (Support Vector Machine)"
   ]
  },
  {
   "cell_type": "markdown",
   "metadata": {},
   "source": [
    "## Moved to another notebook (do not run here) "
   ]
  },
  {
   "cell_type": "code",
   "execution_count": null,
   "metadata": {
    "scrolled": true
   },
   "outputs": [
    {
     "name": "stderr",
     "output_type": "stream",
     "text": [
      "C:\\Users\\Seran\\anaconda3\\lib\\site-packages\\sklearn\\model_selection\\_split.py:667: UserWarning: The least populated class in y has only 7 members, which is less than n_splits=10.\n",
      "  % (min_groups, self.n_splits)), UserWarning)\n"
     ]
    }
   ],
   "source": [
    "\n",
    "# from sklearn.svm import SVC\n",
    "# svm = SVC(kernel='linear', C=1, random_state = 101)\n",
    "# for i in range(1,31):\n",
    "#     subject = master_time[master_time['id'] == i]\n",
    "#     features = subject.drop(['id', 'label'], axis = 1)\n",
    "#     scores = cross_val_score(svm, features, subject['label'], \n",
    "#                              cv = 5, scoring = 'accuracy')  \n",
    "#     mean_score = scores.mean()\n",
    "#     print(f'Subject {i} Results with CV accuracy of {mean_score} \\n')\n",
    "#     print(scores)\n",
    "#     print(mean_score)\n",
    "#     accuracy_list.append(mean_score)\n",
    "    \n"
   ]
  },
  {
   "cell_type": "code",
   "execution_count": null,
   "metadata": {},
   "outputs": [],
   "source": [
    "SVC?"
   ]
  },
  {
   "cell_type": "markdown",
   "metadata": {},
   "source": [
    "# Other Test Stuff "
   ]
  },
  {
   "cell_type": "code",
   "execution_count": null,
   "metadata": {},
   "outputs": [],
   "source": [
    "subjects_dict = dict()\n",
    "for subj in range(1,30):\n",
    "    subjects[subj] = master_time[master_time['id'] == subj]"
   ]
  },
  {
   "cell_type": "code",
   "execution_count": 95,
   "metadata": {},
   "outputs": [],
   "source": [
    "subject_29 = master_time[master_time['id'] == subj]"
   ]
  },
  {
   "cell_type": "code",
   "execution_count": 96,
   "metadata": {},
   "outputs": [
    {
     "data": {
      "text/plain": [
       "<matplotlib.axes._subplots.AxesSubplot at 0x22eb9a516c8>"
      ]
     },
     "execution_count": 96,
     "metadata": {},
     "output_type": "execute_result"
    },
    {
     "data": {
      "image/png": "[encoded data removed]",
      "text/plain": [
       "<Figure size 792x288 with 1 Axes>"
      ]
     },
     "metadata": {},
     "output_type": "display_data"
    }
   ],
   "source": [
    "subject_29['delta'].plot(linewidth = 0.5)"
   ]
  },
  {
   "cell_type": "code",
   "execution_count": null,
   "metadata": {},
   "outputs": [],
   "source": [
    "from sklearn.model_selection import cross_val_score\n",
    "cross_val_score?"
   ]
  }
 ],
 "metadata": {
  "kernelspec": {
   "display_name": "Python 3",
   "language": "python",
   "name": "python3"
  },
  "language_info": {
   "codemirror_mode": {
    "name": "ipython",
    "version": 3
   },
   "file_extension": ".py",
   "mimetype": "text/x-python",
   "name": "python",
   "nbconvert_exporter": "python",
   "pygments_lexer": "ipython3",
   "version": "3.7.6"
  }
 },
 "nbformat": 4,
 "nbformat_minor": 4
}
